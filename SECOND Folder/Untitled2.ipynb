{
 "cells": [
  {
   "cell_type": "code",
   "execution_count": 1,
   "id": "92869959",
   "metadata": {},
   "outputs": [],
   "source": [
    "import pandas as pd\n",
    "import numpy as np"
   ]
  },
  {
   "cell_type": "code",
   "execution_count": null,
   "id": "468a7bd6",
   "metadata": {},
   "outputs": [],
   "source": []
  },
  {
   "cell_type": "code",
   "execution_count": 2,
   "id": "318419be",
   "metadata": {},
   "outputs": [
    {
     "name": "stderr",
     "output_type": "stream",
     "text": [
      "C:\\Users\\mb95424\\anaconda3\\lib\\site-packages\\IPython\\core\\interactiveshell.py:3441: DtypeWarning: Columns (6,9,29,35) have mixed types.Specify dtype option on import or set low_memory=False.\n",
      "  exec(code_obj, self.user_global_ns, self.user_ns)\n"
     ]
    }
   ],
   "source": [
    "df=pd.read_csv(\"D:/Nikkidata/ren/csv/RRDAI1.csv\")"
   ]
  },
  {
   "cell_type": "code",
   "execution_count": 6,
   "id": "188b8151",
   "metadata": {},
   "outputs": [
    {
     "data": {
      "text/plain": [
       "BidAmount               int64\n",
       "APR                   float64\n",
       "RepaymentPeriod         int64\n",
       "ProjectStatus          object\n",
       "Sex                    object\n",
       "CreditScore             int64\n",
       "CreditRating           object\n",
       "Age                   float64\n",
       "Education              object\n",
       "MaritalStatus          object\n",
       "LoanNumbers             int64\n",
       "Credits                 int64\n",
       "SuccessfulNum           int64\n",
       "DefaultTimes          float64\n",
       "PaidOffTimes            int64\n",
       "SeriousDefaultLoan      int64\n",
       "Income                 object\n",
       "hasHouse               object\n",
       "houseLoan              object\n",
       "hasCar                 object\n",
       "carLoan                object\n",
       "CompanySize            object\n",
       "WorkingHour            object\n",
       "OthDebt                object\n",
       "dtype: object"
      ]
     },
     "execution_count": 6,
     "metadata": {},
     "output_type": "execute_result"
    }
   ],
   "source": [
    "df.dtypes"
   ]
  },
  {
   "cell_type": "code",
   "execution_count": 5,
   "id": "e4dc5217",
   "metadata": {},
   "outputs": [],
   "source": [
    "df = df.drop(columns=['CompanyIndustry','JobType','CompanyPosition','ResidenceCity','CloseTime','Bidders','PubTime',\n",
    "                     'CertifiMark','GuaranteeWays','RepaySource','DefaultAmount','TotalAmount','PubTime',])"
   ]
  },
  {
   "cell_type": "code",
   "execution_count": 7,
   "id": "480de47f",
   "metadata": {},
   "outputs": [],
   "source": [
    "df['SuccessTotalRation'] = df.SuccessfulNum / df.LoanNumbers "
   ]
  },
  {
   "cell_type": "code",
   "execution_count": 48,
   "id": "923e5a30",
   "metadata": {},
   "outputs": [
    {
     "data": {
      "text/html": [
       "<div>\n",
       "<style scoped>\n",
       "    .dataframe tbody tr th:only-of-type {\n",
       "        vertical-align: middle;\n",
       "    }\n",
       "\n",
       "    .dataframe tbody tr th {\n",
       "        vertical-align: top;\n",
       "    }\n",
       "\n",
       "    .dataframe thead th {\n",
       "        text-align: right;\n",
       "    }\n",
       "</style>\n",
       "<table border=\"1\" class=\"dataframe\">\n",
       "  <thead>\n",
       "    <tr style=\"text-align: right;\">\n",
       "      <th></th>\n",
       "      <th>BidAmount</th>\n",
       "      <th>APR</th>\n",
       "      <th>RepaymentPeriod</th>\n",
       "      <th>ProjectStatus</th>\n",
       "      <th>Sex</th>\n",
       "      <th>CreditScore</th>\n",
       "      <th>CreditRating</th>\n",
       "      <th>Age</th>\n",
       "      <th>Education</th>\n",
       "      <th>MaritalStatus</th>\n",
       "      <th>...</th>\n",
       "      <th>houseLoan</th>\n",
       "      <th>hasCar</th>\n",
       "      <th>carLoan</th>\n",
       "      <th>CompanySize</th>\n",
       "      <th>WorkingHour</th>\n",
       "      <th>OthDebt</th>\n",
       "      <th>SuccessTotalRation</th>\n",
       "      <th>BidIncomeRation</th>\n",
       "      <th>House</th>\n",
       "      <th>Car</th>\n",
       "    </tr>\n",
       "  </thead>\n",
       "  <tbody>\n",
       "    <tr>\n",
       "      <th>0</th>\n",
       "      <td>5000</td>\n",
       "      <td>12.5</td>\n",
       "      <td>3</td>\n",
       "      <td>已流标</td>\n",
       "      <td>男</td>\n",
       "      <td>210</td>\n",
       "      <td>AA</td>\n",
       "      <td>33.0</td>\n",
       "      <td>研究生或以上</td>\n",
       "      <td>未婚</td>\n",
       "      <td>...</td>\n",
       "      <td>0.0</td>\n",
       "      <td>0.0</td>\n",
       "      <td>0.0</td>\n",
       "      <td>4.0</td>\n",
       "      <td>1.0</td>\n",
       "      <td>NaN</td>\n",
       "      <td>0.666667</td>\n",
       "      <td>0.666667</td>\n",
       "      <td>0.0</td>\n",
       "      <td>0.0</td>\n",
       "    </tr>\n",
       "    <tr>\n",
       "      <th>1</th>\n",
       "      <td>3000</td>\n",
       "      <td>5.0</td>\n",
       "      <td>6</td>\n",
       "      <td>已还清</td>\n",
       "      <td>男</td>\n",
       "      <td>210</td>\n",
       "      <td>AA</td>\n",
       "      <td>34.0</td>\n",
       "      <td>本科</td>\n",
       "      <td>未婚</td>\n",
       "      <td>...</td>\n",
       "      <td>1.0</td>\n",
       "      <td>2.0</td>\n",
       "      <td>1.0</td>\n",
       "      <td>2.0</td>\n",
       "      <td>2.0</td>\n",
       "      <td>NaN</td>\n",
       "      <td>0.793103</td>\n",
       "      <td>0.085714</td>\n",
       "      <td>3.0</td>\n",
       "      <td>3.0</td>\n",
       "    </tr>\n",
       "    <tr>\n",
       "      <th>2</th>\n",
       "      <td>3000</td>\n",
       "      <td>10.0</td>\n",
       "      <td>3</td>\n",
       "      <td>已还清</td>\n",
       "      <td>女</td>\n",
       "      <td>210</td>\n",
       "      <td>AA</td>\n",
       "      <td>40.0</td>\n",
       "      <td>研究生或以上</td>\n",
       "      <td>未婚</td>\n",
       "      <td>...</td>\n",
       "      <td>0.0</td>\n",
       "      <td>0.0</td>\n",
       "      <td>0.0</td>\n",
       "      <td>4.0</td>\n",
       "      <td>2.0</td>\n",
       "      <td>NaN</td>\n",
       "      <td>0.500000</td>\n",
       "      <td>0.085714</td>\n",
       "      <td>0.0</td>\n",
       "      <td>0.0</td>\n",
       "    </tr>\n",
       "    <tr>\n",
       "      <th>3</th>\n",
       "      <td>5000</td>\n",
       "      <td>18.0</td>\n",
       "      <td>18</td>\n",
       "      <td>已还清</td>\n",
       "      <td>男</td>\n",
       "      <td>210</td>\n",
       "      <td>AA</td>\n",
       "      <td>33.0</td>\n",
       "      <td>研究生或以上</td>\n",
       "      <td>未婚</td>\n",
       "      <td>...</td>\n",
       "      <td>0.0</td>\n",
       "      <td>0.0</td>\n",
       "      <td>0.0</td>\n",
       "      <td>4.0</td>\n",
       "      <td>1.0</td>\n",
       "      <td>NaN</td>\n",
       "      <td>0.666667</td>\n",
       "      <td>0.666667</td>\n",
       "      <td>0.0</td>\n",
       "      <td>0.0</td>\n",
       "    </tr>\n",
       "    <tr>\n",
       "      <th>4</th>\n",
       "      <td>3050</td>\n",
       "      <td>8.0</td>\n",
       "      <td>3</td>\n",
       "      <td>已流标</td>\n",
       "      <td>女</td>\n",
       "      <td>110</td>\n",
       "      <td>D</td>\n",
       "      <td>31.0</td>\n",
       "      <td>本科</td>\n",
       "      <td>未婚</td>\n",
       "      <td>...</td>\n",
       "      <td>0.0</td>\n",
       "      <td>0.0</td>\n",
       "      <td>0.0</td>\n",
       "      <td>1.0</td>\n",
       "      <td>1.0</td>\n",
       "      <td>NaN</td>\n",
       "      <td>0.000000</td>\n",
       "      <td>1.525000</td>\n",
       "      <td>0.0</td>\n",
       "      <td>0.0</td>\n",
       "    </tr>\n",
       "  </tbody>\n",
       "</table>\n",
       "<p>5 rows × 28 columns</p>\n",
       "</div>"
      ],
      "text/plain": [
       "   BidAmount   APR  RepaymentPeriod ProjectStatus Sex  CreditScore  \\\n",
       "0       5000  12.5                3           已流标   男          210   \n",
       "1       3000   5.0                6           已还清   男          210   \n",
       "2       3000  10.0                3           已还清   女          210   \n",
       "3       5000  18.0               18           已还清   男          210   \n",
       "4       3050   8.0                3           已流标   女          110   \n",
       "\n",
       "  CreditRating   Age Education MaritalStatus  ...  houseLoan  hasCar  carLoan  \\\n",
       "0           AA  33.0    研究生或以上            未婚  ...        0.0     0.0      0.0   \n",
       "1           AA  34.0        本科            未婚  ...        1.0     2.0      1.0   \n",
       "2           AA  40.0    研究生或以上            未婚  ...        0.0     0.0      0.0   \n",
       "3           AA  33.0    研究生或以上            未婚  ...        0.0     0.0      0.0   \n",
       "4            D  31.0        本科            未婚  ...        0.0     0.0      0.0   \n",
       "\n",
       "   CompanySize  WorkingHour  OthDebt  SuccessTotalRation  BidIncomeRation  \\\n",
       "0          4.0          1.0      NaN            0.666667         0.666667   \n",
       "1          2.0          2.0      NaN            0.793103         0.085714   \n",
       "2          4.0          2.0      NaN            0.500000         0.085714   \n",
       "3          4.0          1.0      NaN            0.666667         0.666667   \n",
       "4          1.0          1.0      NaN            0.000000         1.525000   \n",
       "\n",
       "   House  Car  \n",
       "0    0.0  0.0  \n",
       "1    3.0  3.0  \n",
       "2    0.0  0.0  \n",
       "3    0.0  0.0  \n",
       "4    0.0  0.0  \n",
       "\n",
       "[5 rows x 28 columns]"
      ]
     },
     "execution_count": 48,
     "metadata": {},
     "output_type": "execute_result"
    }
   ],
   "source": [
    "df.head()"
   ]
  },
  {
   "cell_type": "code",
   "execution_count": null,
   "id": "4eb35302",
   "metadata": {},
   "outputs": [],
   "source": [
    "df['hasHouse'].value_counts()"
   ]
  },
  {
   "cell_type": "code",
   "execution_count": 21,
   "id": "e332f1f1",
   "metadata": {},
   "outputs": [],
   "source": [
    "Hou_mapping={'空': 0, '无房产': 0, '有房产': 2}\n",
    "df['hasHouse'] = df['hasHouse'].map(Hou_mapping)"
   ]
  },
  {
   "cell_type": "code",
   "execution_count": 22,
   "id": "14c02be9",
   "metadata": {},
   "outputs": [],
   "source": [
    "Loa_mapping={'无房贷': 0, 'False': 0, '有房贷': 1}\n",
    "df['houseLoan'] = df['houseLoan'].map(Loa_mapping)"
   ]
  },
  {
   "cell_type": "code",
   "execution_count": 25,
   "id": "45dab0b2",
   "metadata": {},
   "outputs": [],
   "source": [
    "df['House'] = df.hasHouse + df.houseLoan"
   ]
  },
  {
   "cell_type": "code",
   "execution_count": 30,
   "id": "5801b05a",
   "metadata": {},
   "outputs": [],
   "source": [
    "car_mapping={'空': 0, '无车产': 0, '有车产': 2}\n",
    "df['hasCar'] = df['hasCar'].map(car_mapping)"
   ]
  },
  {
   "cell_type": "code",
   "execution_count": 31,
   "id": "615fac22",
   "metadata": {},
   "outputs": [],
   "source": [
    "CLoa_mapping={'无车贷': 0, 'False': 0, '有车贷': 1}\n",
    "df['carLoan'] = df['carLoan'].map(CLoa_mapping)"
   ]
  },
  {
   "cell_type": "code",
   "execution_count": 32,
   "id": "569cfa1b",
   "metadata": {},
   "outputs": [],
   "source": [
    "df['Car'] = df.hasCar + df.carLoan"
   ]
  },
  {
   "cell_type": "code",
   "execution_count": 38,
   "id": "0d6f3661",
   "metadata": {},
   "outputs": [],
   "source": [
    "Oth_mapping={'有': 0, '无': 1}\n",
    "df['OthDebt'] = df['OthDebt'].map(Oth_mapping)"
   ]
  },
  {
   "cell_type": "code",
   "execution_count": 41,
   "id": "15945e0f",
   "metadata": {},
   "outputs": [],
   "source": [
    "wor_mapping={'1年（含）以下': 1,', 1年（含）以下': 1,'1年（含）以下, 1年（含）以下': 1,'1年（含）以下,': 1,'1年（含）以下 ,': 1,'1??????': 1,\n",
    "             '1-3年（含）': 2, '1-3年（含）, 1-3年（含）': 2,', 1-3年（含）': 2,'1-3年（含）,': 2,'1-3年（含） ,': 2,'1-3年（含）,,': 2,'1-3????': 2,\n",
    "             '3-5年（含）': 4, '3-5年（含）, 3-5年（含）': 4,', 3-5年（含）': 4,'3-5年（含）,': 4,'3-5????': 4,\n",
    "             '5年以上': 5, '5年以上, 5年以上': 5, ', 5年以上': 5, '5年以上,': 5, '5年以上 ,': 5, '5???': 5, '5年以上, 5年以上, 5年以上': 5}\n",
    "df['WorkingHour'] = df['WorkingHour'].map(wor_mapping)"
   ]
  },
  {
   "cell_type": "code",
   "execution_count": 49,
   "id": "4e2391ea",
   "metadata": {},
   "outputs": [
    {
     "data": {
      "text/plain": [
       "0.0    4545316\n",
       "1.0    1497958\n",
       "Name: OthDebt, dtype: int64"
      ]
     },
     "execution_count": 49,
     "metadata": {},
     "output_type": "execute_result"
    }
   ],
   "source": [
    "df['OthDebt'].value_counts()"
   ]
  },
  {
   "cell_type": "code",
   "execution_count": 44,
   "id": "0deac703",
   "metadata": {},
   "outputs": [],
   "source": [
    "Com_mapping={'10人以下': 1,', 10人以下': 1,'10人以下, 10人以下': 1,'10人以下,': 1,'10人以下, 10人以下, 10人以下': 1,'10人以下 , 10人以下': 1,'10???': 1,'10人以下 ,': 1,\n",
    "             '10-100人': 2, '10-100人, 10-100人': 2,', 10-100人': 2,'10-100人,': 2,'10-100?': 2,'10-100人 ,': 2,'10-100人,,': 2,\n",
    "             '100-500人': 4, '100-500人, 100-500人': 4,', 100-500人': 4,'100-500人,': 4,'100-500人 ,': 4,\n",
    "             '500人以上': 5, '500人以上, 500人以上': 5, ', 500人以上': 5, '500以上': 5, '500人以上,': 5, '500???': 5,'500人以上 ,': 5}\n",
    "df['CompanySize'] = df['CompanySize'].map(Com_mapping)"
   ]
  },
  {
   "cell_type": "code",
   "execution_count": 54,
   "id": "f82b0e1a",
   "metadata": {},
   "outputs": [
    {
     "data": {
      "text/plain": [
       "4.0    699285\n",
       "2.0    636978\n",
       "1.0    317778\n",
       "5.0     22904\n",
       "Name: Education, dtype: int64"
      ]
     },
     "execution_count": 54,
     "metadata": {},
     "output_type": "execute_result"
    }
   ],
   "source": [
    "df['Education'].value_counts()"
   ]
  },
  {
   "cell_type": "code",
   "execution_count": 53,
   "id": "6f18de1f",
   "metadata": {},
   "outputs": [],
   "source": [
    "edu_mapping={'高中或以下': 1,', 高中或以下': 1,'高中或以下,': 1,'大专, 高中或以下': 1,'高中或以下, 大专': 1,'高以下': 1,'高中或以下, 研究生或以上': 1,\n",
    "             '大专': 2, ', 大专': 2,'大专,': 2,'专科': 2,'本科, 大专': 2,'大专, 短期周转': 2,'大专, 本科': 2,\n",
    "             '本科': 4, ', 本科': 4,'本科,': 4,'本科, 本科': 4,\n",
    "             '研究生或以上': 5, '研究生或以上,': 5, ', 研究生或以上': 5}\n",
    "df['Education'] = df['Education'].map(edu_mapping)"
   ]
  },
  {
   "cell_type": "code",
   "execution_count": null,
   "id": "c6f63470",
   "metadata": {},
   "outputs": [],
   "source": []
  },
  {
   "cell_type": "code",
   "execution_count": null,
   "id": "a7a872a7",
   "metadata": {},
   "outputs": [],
   "source": []
  },
  {
   "cell_type": "code",
   "execution_count": null,
   "id": "142b9dbf",
   "metadata": {},
   "outputs": [],
   "source": []
  },
  {
   "cell_type": "code",
   "execution_count": 55,
   "id": "7edb34a9",
   "metadata": {},
   "outputs": [],
   "source": [
    "df.to_csv(\"D:/Nikkidata/ren/csv/score_num.csv\")"
   ]
  },
  {
   "cell_type": "code",
   "execution_count": null,
   "id": "aefd38ef",
   "metadata": {},
   "outputs": [],
   "source": []
  },
  {
   "cell_type": "code",
   "execution_count": 14,
   "id": "8d3371e9",
   "metadata": {},
   "outputs": [],
   "source": [
    "Inc_mapping={'1000元以下': 1000, '1000元以下,': 1000, ',1000元以下': 1000, '1001-2000元, 1001-2000元,': 1000, ', 1001-2000元': 1000, \n",
    "             '2000元以下': 2000, '2000元以下': 2000, '2000元以下': 2000, '1001-2000元': 2000, \n",
    "             '2000-5000元': 3500, '2000-5000元 ,': 3500, '2000-5000元,': 3500, ', 2000-5000元': 3500, '2000-5000元, 2000-5000元': 3500, ', 2000-5000元': 3500, \n",
    "             '5000-10000元': 7500, '5000-10000?': 7500, '5000-10000元,': 7500, '5000-10000元 ,': 7500, '5000-10000元, 5000-10000元': 7500, ', 5000-10000元': 7500, \n",
    "             '10000-20000元': 15000,'10000-20000元,,': 15000,'10000-20000元?': 15000,'10000-20000元 ,': 15000,'10000-20000元,': 15000,', 10000-20000元': 15000,'10000-20000元, 10000-20000元': 15000,\n",
    "             '20000-50000元': 35000,'20000-50000元,': 35000,'20000-50000元 ,': 35000,', 20000-50000元': 35000,'20000-50000元, 20000-50000元': 35000,\n",
    "             '50000元以上': 50000, '50000元以上 ,': 50000, ', 50000元以上': 50000, '50000元以上, 50000元以上,': 50000,}\n",
    "df['Income'] = df['Income'].map(Inc_mapping)"
   ]
  },
  {
   "cell_type": "code",
   "execution_count": 16,
   "id": "fe535082",
   "metadata": {},
   "outputs": [],
   "source": [
    "df['BidIncomeRation'] = df.BidAmount / df.Income"
   ]
  },
  {
   "cell_type": "code",
   "execution_count": null,
   "id": "db8a5c91",
   "metadata": {},
   "outputs": [],
   "source": []
  }
 ],
 "metadata": {
  "kernelspec": {
   "display_name": "Python 3 (ipykernel)",
   "language": "python",
   "name": "python3"
  },
  "language_info": {
   "codemirror_mode": {
    "name": "ipython",
    "version": 3
   },
   "file_extension": ".py",
   "mimetype": "text/x-python",
   "name": "python",
   "nbconvert_exporter": "python",
   "pygments_lexer": "ipython3",
   "version": "3.8.11"
  }
 },
 "nbformat": 4,
 "nbformat_minor": 5
}
