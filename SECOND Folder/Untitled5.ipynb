{
 "cells": [
  {
   "cell_type": "code",
   "execution_count": 1,
   "id": "30b6c152",
   "metadata": {},
   "outputs": [],
   "source": [
    "# Pandas and numpy for data manipulation\n",
    "import pandas as pd\n",
    "import numpy as np"
   ]
  },
  {
   "cell_type": "code",
   "execution_count": 2,
   "id": "623cebb9",
   "metadata": {},
   "outputs": [
    {
     "name": "stderr",
     "output_type": "stream",
     "text": [
      "C:\\Users\\mb95424\\anaconda3\\lib\\site-packages\\IPython\\core\\interactiveshell.py:3441: DtypeWarning: Columns (8,30,36) have mixed types.Specify dtype option on import or set low_memory=False.\n",
      "  exec(code_obj, self.user_global_ns, self.user_ns)\n"
     ]
    }
   ],
   "source": [
    "df = pd.read_csv(\"D:/Nikkidata/ren/csv/RRDAI11.csv\")"
   ]
  },
  {
   "cell_type": "code",
   "execution_count": 3,
   "id": "bdd05e28",
   "metadata": {
    "scrolled": true
   },
   "outputs": [
    {
     "data": {
      "text/plain": [
       "CertifiMark            object\n",
       "BidAmount               int64\n",
       "PubTime                object\n",
       "APR                   float64\n",
       "RepaymentPeriod         int64\n",
       "GuaranteeWays          object\n",
       "RepaySource            object\n",
       "Bidders                 int64\n",
       "ProjectStatus          object\n",
       "CloseTime              object\n",
       "Sex                    object\n",
       "CreditScore             int64\n",
       "CreditRating           object\n",
       "Age                   float64\n",
       "Education              object\n",
       "MaritalStatus          object\n",
       "LoanNumbers             int64\n",
       "Credits                 int64\n",
       "DefaultAmount         float64\n",
       "SuccessfulNum           int64\n",
       "TotalAmount             int64\n",
       "DefaultTimes          float64\n",
       "PaidOffTimes            int64\n",
       "SeriousDefaultLoan      int64\n",
       "Income                 object\n",
       "hasHouse               object\n",
       "houseLoan              object\n",
       "hasCar                 object\n",
       "carLoan                object\n",
       "JobType                object\n",
       "CompanyIndustry        object\n",
       "CompanySize            object\n",
       "CompanyPosition        object\n",
       "ResidenceCity          object\n",
       "WorkingHour            object\n",
       "OthDebt                object\n",
       "dtype: object"
      ]
     },
     "execution_count": 3,
     "metadata": {},
     "output_type": "execute_result"
    }
   ],
   "source": [
    "df.dtypes"
   ]
  },
  {
   "cell_type": "code",
   "execution_count": 4,
   "id": "5d8d1762",
   "metadata": {},
   "outputs": [],
   "source": [
    "df = df.drop(columns=['CloseTime'])"
   ]
  },
  {
   "cell_type": "code",
   "execution_count": 5,
   "id": "781e4d94",
   "metadata": {},
   "outputs": [],
   "source": [
    "df = df[(df.CreditScore > 0)]"
   ]
  },
  {
   "cell_type": "code",
   "execution_count": 6,
   "id": "8326ea83",
   "metadata": {},
   "outputs": [],
   "source": [
    "df = df[(df.CreditScore < 500)]"
   ]
  },
  {
   "cell_type": "code",
   "execution_count": 7,
   "id": "dac4664f",
   "metadata": {},
   "outputs": [],
   "source": [
    "df1 = df[(df.CreditScore > 209) & df['CreditRating'].str.contains('AA')]"
   ]
  },
  {
   "cell_type": "code",
   "execution_count": 8,
   "id": "2820e4b6",
   "metadata": {},
   "outputs": [],
   "source": [
    "df1.to_csv(\"D:/Nikkidata/ren/csv/AA.csv\")"
   ]
  },
  {
   "cell_type": "code",
   "execution_count": 9,
   "id": "eaebc485",
   "metadata": {},
   "outputs": [],
   "source": [
    "df21 = df[(df.CreditScore < 210) & (df.CreditScore > 179) & df['CreditRating'].str.contains('A') ]"
   ]
  },
  {
   "cell_type": "code",
   "execution_count": 10,
   "id": "46c8aef8",
   "metadata": {},
   "outputs": [],
   "source": [
    "df2 = df21[~df21['CreditRating'].str.contains('AA') ]"
   ]
  },
  {
   "cell_type": "code",
   "execution_count": 11,
   "id": "4feac04f",
   "metadata": {},
   "outputs": [],
   "source": [
    "df2.to_csv(\"D:/Nikkidata/ren/csv/A.csv\")"
   ]
  },
  {
   "cell_type": "code",
   "execution_count": 12,
   "id": "48ad6b00",
   "metadata": {},
   "outputs": [],
   "source": [
    "df3 = df[(df.CreditScore > 149) & df['CreditRating'].str.contains('B') & (df.CreditScore < 180) ]"
   ]
  },
  {
   "cell_type": "code",
   "execution_count": 13,
   "id": "63429e75",
   "metadata": {},
   "outputs": [],
   "source": [
    "df3.to_csv(\"D:/Nikkidata/ren/csv/B.csv\")"
   ]
  },
  {
   "cell_type": "code",
   "execution_count": 14,
   "id": "ca6d9168",
   "metadata": {},
   "outputs": [],
   "source": [
    "df4 = df[(df.CreditScore > 129) & df['CreditRating'].str.contains('C') & (df.CreditScore < 150) ]"
   ]
  },
  {
   "cell_type": "code",
   "execution_count": 15,
   "id": "9895127d",
   "metadata": {},
   "outputs": [],
   "source": [
    "df4.to_csv(\"D:/Nikkidata/ren/csv/C.csv\")"
   ]
  },
  {
   "cell_type": "code",
   "execution_count": 16,
   "id": "c6e56a5c",
   "metadata": {},
   "outputs": [],
   "source": [
    "df5 = df[(df.CreditScore > 109) & df['CreditRating'].str.contains('D') & (df.CreditScore < 130) ]"
   ]
  },
  {
   "cell_type": "code",
   "execution_count": 17,
   "id": "46e18a3a",
   "metadata": {},
   "outputs": [],
   "source": [
    "df5.to_csv(\"D:/Nikkidata/ren/csv/D.csv\")"
   ]
  },
  {
   "cell_type": "code",
   "execution_count": 18,
   "id": "f3af2659",
   "metadata": {},
   "outputs": [],
   "source": [
    "df6 = df[(df.CreditScore > 99) & df['CreditRating'].str.contains('E') & (df.CreditScore < 110) ]"
   ]
  },
  {
   "cell_type": "code",
   "execution_count": 19,
   "id": "93d642a5",
   "metadata": {},
   "outputs": [],
   "source": [
    "df6.to_csv(\"D:/Nikkidata/ren/csv/E.csv\")"
   ]
  },
  {
   "cell_type": "code",
   "execution_count": 20,
   "id": "569ac575",
   "metadata": {},
   "outputs": [],
   "source": [
    "df7 = df[(df.CreditScore < 100) & df['CreditRating'].str.contains('HR') & (df.CreditScore > 0)]"
   ]
  },
  {
   "cell_type": "code",
   "execution_count": 21,
   "id": "082edd0a",
   "metadata": {},
   "outputs": [],
   "source": [
    "df7.to_csv(\"D:/Nikkidata/ren/csv/HR.csv\")"
   ]
  },
  {
   "cell_type": "code",
   "execution_count": 22,
   "id": "5318b2d7",
   "metadata": {},
   "outputs": [
    {
     "name": "stderr",
     "output_type": "stream",
     "text": [
      "C:\\Users\\mb95424\\anaconda3\\lib\\site-packages\\IPython\\core\\interactiveshell.py:3441: DtypeWarning: Columns (7,29,35) have mixed types.Specify dtype option on import or set low_memory=False.\n",
      "  exec(code_obj, self.user_global_ns, self.user_ns)\n"
     ]
    }
   ],
   "source": [
    "df1 = pd.read_csv(\"D:/Nikkidata/ren/csv/AA.csv\")\n",
    "df2 = pd.read_csv(\"D:/Nikkidata/ren/csv/A.csv\")\n",
    "df3 = pd.read_csv(\"D:/Nikkidata/ren/csv/B.csv\")\n",
    "df4 = pd.read_csv(\"D:/Nikkidata/ren/csv/C.csv\")\n",
    "df5 = pd.read_csv(\"D:/Nikkidata/ren/csv/D.csv\")\n",
    "df6 = pd.read_csv(\"D:/Nikkidata/ren/csv/E.csv\")\n",
    "df7 = pd.read_csv(\"D:/Nikkidata/ren/csv/HR.csv\")\n",
    "\n",
    "frames = [df1,df2,df3,df4,df5,df6,df7]\n",
    "all_csv = pd.concat(frames)"
   ]
  },
  {
   "cell_type": "code",
   "execution_count": 23,
   "id": "95a7a5ae",
   "metadata": {},
   "outputs": [],
   "source": [
    "all_csv.to_csv(\"D:/Nikkidata/ren/csv/RRDAI11.csv\")"
   ]
  },
  {
   "cell_type": "code",
   "execution_count": null,
   "id": "89d09cc5",
   "metadata": {},
   "outputs": [],
   "source": []
  },
  {
   "cell_type": "code",
   "execution_count": null,
   "id": "f382d16d",
   "metadata": {},
   "outputs": [],
   "source": []
  },
  {
   "cell_type": "code",
   "execution_count": null,
   "id": "5c2788f2",
   "metadata": {},
   "outputs": [],
   "source": [
    "# Pandas and numpy for data manipulation\n",
    "import pandas as pd\n",
    "import numpy as np"
   ]
  },
  {
   "cell_type": "code",
   "execution_count": null,
   "id": "12c49729",
   "metadata": {},
   "outputs": [],
   "source": [
    "df = pd.read_csv(\"D:/Nikkidata/ren/csv/RRDAI11.csv\")"
   ]
  },
  {
   "cell_type": "code",
   "execution_count": 4,
   "id": "04c0f635",
   "metadata": {},
   "outputs": [],
   "source": [
    "wor_mapping={'1年（含）以下': 1,', 1年（含）以下': 1,'1年（含）以下, 1年（含）以下': 1,'1年（含）以下,': 1,'1年（含）以下 ,': 1,'1??????': 1,\n",
    "             '1-3年（含）': 2, '1-3年（含）, 1-3年（含）': 2,', 1-3年（含）': 2,'1-3年（含）,': 2,'1-3年（含） ,': 2,'1-3年（含）,,': 2,'1-3????': 2,\n",
    "             '3-5年（含）': 4, '3-5年（含）, 3-5年（含）': 4,', 3-5年（含）': 4,'3-5年（含）,': 4,'3-5????': 4,\n",
    "             '5年以上': 5, '5年以上, 5年以上': 5, ', 5年以上': 5, '5年以上,': 5, '5年以上 ,': 5, '5???': 5, '5年以上, 5年以上, 5年以上': 5}\n",
    "df['WorkingHour'] = df['WorkingHour'].map(wor_mapping)"
   ]
  },
  {
   "cell_type": "code",
   "execution_count": 5,
   "id": "1d38b33b",
   "metadata": {},
   "outputs": [],
   "source": [
    "Com_mapping={'10人以下': 1,', 10人以下': 1,'10人以下, 10人以下': 1,'10人以下,': 1,'10人以下, 10人以下, 10人以下': 1,'10人以下 , 10人以下': 1,'10???': 1,'10人以下 ,': 1,\n",
    "             '10-100人': 2, '10-100人, 10-100人': 2,', 10-100人': 2,'10-100人,': 2,'10-100?': 2,'10-100人 ,': 2,'10-100人,,': 2,\n",
    "             '100-500人': 4, '100-500人, 100-500人': 4,', 100-500人': 4,'100-500人,': 4,'100-500人 ,': 4,\n",
    "             '500人以上': 5, '500人以上, 500人以上': 5, ', 500人以上': 5, '500以上': 5, '500人以上,': 5, '500???': 5,'500人以上 ,': 5}\n",
    "df['CompanySize'] = df['CompanySize'].map(Com_mapping)"
   ]
  },
  {
   "cell_type": "code",
   "execution_count": 6,
   "id": "18be59c9",
   "metadata": {},
   "outputs": [],
   "source": [
    "edu_mapping={'高中或以下': 1,', 高中或以下': 1,'高中或以下,': 1,'大专, 高中或以下': 1,'高中或以下, 大专': 1,'高以下': 1,'高中或以下, 研究生或以上': 1,\n",
    "             '大专': 2, ', 大专': 2,'大专,': 2,'专科': 2,'本科, 大专': 2,'大专, 短期周转': 2,'大专, 本科': 2,\n",
    "             '本科': 4, ', 本科': 4,'本科,': 4,'本科, 本科': 4,\n",
    "             '研究生或以上': 5, '研究生或以上,': 5, ', 研究生或以上': 5}\n",
    "df['Education'] = df['Education'].map(edu_mapping)"
   ]
  },
  {
   "cell_type": "code",
   "execution_count": 7,
   "id": "f074505a",
   "metadata": {},
   "outputs": [],
   "source": [
    "Inc_mapping={'1000元以下': 1000, '1000元以下,': 1000, ',1000元以下': 1000, '1001-2000元, 1001-2000元,': 1000, ', 1001-2000元': 1000, \n",
    "             '2000元以下': 2000, '2000元以下': 2000, '2000元以下': 2000, '1001-2000元': 2000, \n",
    "             '2000-5000元': 3500, '2000-5000元 ,': 3500, '2000-5000元,': 3500, ', 2000-5000元': 3500, '2000-5000元, 2000-5000元': 3500, ', 2000-5000元': 3500, \n",
    "             '5000-10000元': 7500, '5000-10000?': 7500, '5000-10000元,': 7500, '5000-10000元 ,': 7500, '5000-10000元, 5000-10000元': 7500, ', 5000-10000元': 7500, \n",
    "             '10000-20000元': 15000,'10000-20000元,,': 15000,'10000-20000元?': 15000,'10000-20000元 ,': 15000,'10000-20000元,': 15000,', 10000-20000元': 15000,'10000-20000元, 10000-20000元': 15000,\n",
    "             '20000-50000元': 35000,'20000-50000元,': 35000,'20000-50000元 ,': 35000,', 20000-50000元': 35000,'20000-50000元, 20000-50000元': 35000,\n",
    "             '50000元以上': 50000, '50000元以上 ,': 50000, ', 50000元以上': 50000, '50000元以上, 50000元以上,': 50000,}\n",
    "df['Income'] = df['Income'].map(Inc_mapping)"
   ]
  },
  {
   "cell_type": "code",
   "execution_count": 8,
   "id": "cf2beda3",
   "metadata": {},
   "outputs": [],
   "source": [
    "Oth_mapping={'有': 0, '无': 1}\n",
    "df['OthDebt'] = df['OthDebt'].map(Oth_mapping)"
   ]
  },
  {
   "cell_type": "code",
   "execution_count": 9,
   "id": "9448ae77",
   "metadata": {},
   "outputs": [],
   "source": [
    "df['OthDebt'] = df['OthDebt'].fillna(0)"
   ]
  },
  {
   "cell_type": "code",
   "execution_count": 10,
   "id": "0bc4f43d",
   "metadata": {},
   "outputs": [
    {
     "data": {
      "text/plain": [
       "0.0    6135904\n",
       "1.0    1406241\n",
       "Name: OthDebt, dtype: int64"
      ]
     },
     "execution_count": 10,
     "metadata": {},
     "output_type": "execute_result"
    }
   ],
   "source": [
    "df['OthDebt'].value_counts()"
   ]
  },
  {
   "cell_type": "code",
   "execution_count": 11,
   "id": "4b02e0fb",
   "metadata": {},
   "outputs": [],
   "source": [
    "df.to_csv(\"D:/Nikkidata/ren/csv/RRDAI12.csv\")"
   ]
  },
  {
   "cell_type": "code",
   "execution_count": null,
   "id": "4e32ff86",
   "metadata": {},
   "outputs": [],
   "source": []
  }
 ],
 "metadata": {
  "kernelspec": {
   "display_name": "Python 3 (ipykernel)",
   "language": "python",
   "name": "python3"
  },
  "language_info": {
   "codemirror_mode": {
    "name": "ipython",
    "version": 3
   },
   "file_extension": ".py",
   "mimetype": "text/x-python",
   "name": "python",
   "nbconvert_exporter": "python",
   "pygments_lexer": "ipython3",
   "version": "3.8.11"
  }
 },
 "nbformat": 4,
 "nbformat_minor": 5
}
