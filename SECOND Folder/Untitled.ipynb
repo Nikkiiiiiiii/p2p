{
 "cells": [
  {
   "cell_type": "code",
   "execution_count": 1,
   "id": "a92013f4",
   "metadata": {},
   "outputs": [],
   "source": [
    "import pandas as pd\n",
    "import numpy as np\n",
    "import matplotlib.pyplot as plt\n"
   ]
  },
  {
   "cell_type": "code",
   "execution_count": 5,
   "id": "8d83889f",
   "metadata": {},
   "outputs": [
    {
     "name": "stderr",
     "output_type": "stream",
     "text": [
      "C:\\Users\\mb95424\\anaconda3\\lib\\site-packages\\IPython\\core\\interactiveshell.py:3441: DtypeWarning: Columns (8) have mixed types.Specify dtype option on import or set low_memory=False.\n",
      "  exec(code_obj, self.user_global_ns, self.user_ns)\n"
     ]
    }
   ],
   "source": [
    "df = pd.read_csv(\"D:/Nikkidata/ren/csv/RRDAI1.csv\")"
   ]
  },
  {
   "cell_type": "code",
   "execution_count": 6,
   "id": "5c2e5f42",
   "metadata": {},
   "outputs": [
    {
     "data": {
      "text/html": [
       "<div>\n",
       "<style scoped>\n",
       "    .dataframe tbody tr th:only-of-type {\n",
       "        vertical-align: middle;\n",
       "    }\n",
       "\n",
       "    .dataframe tbody tr th {\n",
       "        vertical-align: top;\n",
       "    }\n",
       "\n",
       "    .dataframe thead th {\n",
       "        text-align: right;\n",
       "    }\n",
       "</style>\n",
       "<table border=\"1\" class=\"dataframe\">\n",
       "  <thead>\n",
       "    <tr style=\"text-align: right;\">\n",
       "      <th></th>\n",
       "      <th>Unnamed: 0.1</th>\n",
       "      <th>CertifiMark</th>\n",
       "      <th>BidAmount</th>\n",
       "      <th>PubTime</th>\n",
       "      <th>APR</th>\n",
       "      <th>RepaymentPeriod</th>\n",
       "      <th>GuaranteeWays</th>\n",
       "      <th>RepaySource</th>\n",
       "      <th>Bidders</th>\n",
       "    </tr>\n",
       "  </thead>\n",
       "  <tbody>\n",
       "    <tr>\n",
       "      <th>7542140</th>\n",
       "      <td>893551</td>\n",
       "      <td>信用认证标</td>\n",
       "      <td>17000</td>\n",
       "      <td>2016-10-08 13:38:28</td>\n",
       "      <td>10.0</td>\n",
       "      <td>6</td>\n",
       "      <td>用户利益保障机制</td>\n",
       "      <td>NaN</td>\n",
       "      <td>11</td>\n",
       "    </tr>\n",
       "    <tr>\n",
       "      <th>7542141</th>\n",
       "      <td>894252</td>\n",
       "      <td>信用认证标</td>\n",
       "      <td>12000</td>\n",
       "      <td>2016-09-30 17:25:23</td>\n",
       "      <td>12.0</td>\n",
       "      <td>12</td>\n",
       "      <td>用户利益保障机制</td>\n",
       "      <td>NaN</td>\n",
       "      <td>13</td>\n",
       "    </tr>\n",
       "    <tr>\n",
       "      <th>7542142</th>\n",
       "      <td>894534</td>\n",
       "      <td>信用认证标</td>\n",
       "      <td>19000</td>\n",
       "      <td>2016-10-08 17:10:10</td>\n",
       "      <td>12.0</td>\n",
       "      <td>12</td>\n",
       "      <td>用户利益保障机制</td>\n",
       "      <td>NaN</td>\n",
       "      <td>22</td>\n",
       "    </tr>\n",
       "    <tr>\n",
       "      <th>7542143</th>\n",
       "      <td>894546</td>\n",
       "      <td>信用认证标</td>\n",
       "      <td>30000</td>\n",
       "      <td>2016-10-08 17:30:50</td>\n",
       "      <td>11.0</td>\n",
       "      <td>12</td>\n",
       "      <td>用户利益保障机制</td>\n",
       "      <td>NaN</td>\n",
       "      <td>23</td>\n",
       "    </tr>\n",
       "    <tr>\n",
       "      <th>7542144</th>\n",
       "      <td>896783</td>\n",
       "      <td>信用认证标</td>\n",
       "      <td>8000</td>\n",
       "      <td>2016-10-12 16:50:25</td>\n",
       "      <td>11.0</td>\n",
       "      <td>6</td>\n",
       "      <td>用户利益保障机制</td>\n",
       "      <td>NaN</td>\n",
       "      <td>9</td>\n",
       "    </tr>\n",
       "  </tbody>\n",
       "</table>\n",
       "</div>"
      ],
      "text/plain": [
       "         Unnamed: 0.1 CertifiMark  BidAmount              PubTime   APR  \\\n",
       "7542140        893551       信用认证标      17000  2016-10-08 13:38:28  10.0   \n",
       "7542141        894252       信用认证标      12000  2016-09-30 17:25:23  12.0   \n",
       "7542142        894534       信用认证标      19000  2016-10-08 17:10:10  12.0   \n",
       "7542143        894546       信用认证标      30000  2016-10-08 17:30:50  11.0   \n",
       "7542144        896783       信用认证标       8000  2016-10-12 16:50:25  11.0   \n",
       "\n",
       "         RepaymentPeriod GuaranteeWays RepaySource  Bidders  \n",
       "7542140                6      用户利益保障机制         NaN       11  \n",
       "7542141               12      用户利益保障机制         NaN       13  \n",
       "7542142               12      用户利益保障机制         NaN       22  \n",
       "7542143               12      用户利益保障机制         NaN       23  \n",
       "7542144                6      用户利益保障机制         NaN        9  "
      ]
     },
     "execution_count": 6,
     "metadata": {},
     "output_type": "execute_result"
    }
   ],
   "source": [
    "df.tail()"
   ]
  },
  {
   "cell_type": "code",
   "execution_count": 3,
   "id": "9ce53dc1",
   "metadata": {},
   "outputs": [
    {
     "data": {
      "text/plain": [
       "本科        5122\n",
       "大专        2359\n",
       "高中或以下     1503\n",
       "未获取         72\n",
       "研究生或以上      54\n",
       "大专,          1\n",
       "高中或以下,       1\n",
       "Name: Education, dtype: int64"
      ]
     },
     "execution_count": 3,
     "metadata": {},
     "output_type": "execute_result"
    }
   ],
   "source": [
    "df['Education'].value_counts()"
   ]
  },
  {
   "cell_type": "code",
   "execution_count": 4,
   "id": "a2d64c76",
   "metadata": {},
   "outputs": [],
   "source": [
    "edu_mapping={'高中或以下': 1, '大专': 2,'本科': 3, '研究生或以上': 4}\n",
    "df['Education'] = df['Education'].map(edu_mapping)"
   ]
  },
  {
   "cell_type": "code",
   "execution_count": 5,
   "id": "3dbc3832",
   "metadata": {},
   "outputs": [],
   "source": [
    "df=df.dropna(subset=['Education'])"
   ]
  },
  {
   "cell_type": "code",
   "execution_count": 6,
   "id": "d68229ff",
   "metadata": {},
   "outputs": [
    {
     "data": {
      "text/html": [
       "<div>\n",
       "<style scoped>\n",
       "    .dataframe tbody tr th:only-of-type {\n",
       "        vertical-align: middle;\n",
       "    }\n",
       "\n",
       "    .dataframe tbody tr th {\n",
       "        vertical-align: top;\n",
       "    }\n",
       "\n",
       "    .dataframe thead th {\n",
       "        text-align: right;\n",
       "    }\n",
       "</style>\n",
       "<table border=\"1\" class=\"dataframe\">\n",
       "  <thead>\n",
       "    <tr style=\"text-align: right;\">\n",
       "      <th></th>\n",
       "      <th>CertifiMark</th>\n",
       "      <th>BidAmount</th>\n",
       "      <th>APR</th>\n",
       "      <th>GuaranteeWays</th>\n",
       "      <th>ProjectStatus</th>\n",
       "      <th>Sex</th>\n",
       "      <th>Age</th>\n",
       "      <th>Education</th>\n",
       "      <th>MaritalStatus</th>\n",
       "      <th>LoanNumbers</th>\n",
       "      <th>...</th>\n",
       "      <th>PaidOffTimes</th>\n",
       "      <th>SeriousDefaultLoan</th>\n",
       "      <th>Income</th>\n",
       "      <th>hasHouse</th>\n",
       "      <th>houseLoan</th>\n",
       "      <th>hasCar</th>\n",
       "      <th>carLoan</th>\n",
       "      <th>CompanySize</th>\n",
       "      <th>WorkingHour</th>\n",
       "      <th>OthDebt</th>\n",
       "    </tr>\n",
       "  </thead>\n",
       "  <tbody>\n",
       "    <tr>\n",
       "      <th>count</th>\n",
       "      <td>9038.000000</td>\n",
       "      <td>9038.000000</td>\n",
       "      <td>9038.000000</td>\n",
       "      <td>9038.000000</td>\n",
       "      <td>9038.000000</td>\n",
       "      <td>9038.000000</td>\n",
       "      <td>9038.000000</td>\n",
       "      <td>9038.000000</td>\n",
       "      <td>9038.00000</td>\n",
       "      <td>9038.000000</td>\n",
       "      <td>...</td>\n",
       "      <td>9038.000000</td>\n",
       "      <td>9038.000000</td>\n",
       "      <td>9038.000000</td>\n",
       "      <td>9038.000000</td>\n",
       "      <td>9038.000000</td>\n",
       "      <td>9038.000000</td>\n",
       "      <td>9038.000000</td>\n",
       "      <td>9038.000000</td>\n",
       "      <td>9038.000000</td>\n",
       "      <td>9038.000000</td>\n",
       "    </tr>\n",
       "    <tr>\n",
       "      <th>mean</th>\n",
       "      <td>1.541049</td>\n",
       "      <td>36714.156893</td>\n",
       "      <td>10.997123</td>\n",
       "      <td>0.521244</td>\n",
       "      <td>0.541049</td>\n",
       "      <td>1.791879</td>\n",
       "      <td>35.432728</td>\n",
       "      <td>2.412370</td>\n",
       "      <td>3.32297</td>\n",
       "      <td>1.703917</td>\n",
       "      <td>...</td>\n",
       "      <td>0.770967</td>\n",
       "      <td>0.485838</td>\n",
       "      <td>2.583094</td>\n",
       "      <td>0.698385</td>\n",
       "      <td>0.180903</td>\n",
       "      <td>0.590617</td>\n",
       "      <td>0.130449</td>\n",
       "      <td>2.512503</td>\n",
       "      <td>2.859372</td>\n",
       "      <td>0.955189</td>\n",
       "    </tr>\n",
       "    <tr>\n",
       "      <th>std</th>\n",
       "      <td>0.498340</td>\n",
       "      <td>41051.654713</td>\n",
       "      <td>2.273132</td>\n",
       "      <td>0.499576</td>\n",
       "      <td>0.498340</td>\n",
       "      <td>0.405987</td>\n",
       "      <td>7.228381</td>\n",
       "      <td>0.766114</td>\n",
       "      <td>0.55864</td>\n",
       "      <td>1.879391</td>\n",
       "      <td>...</td>\n",
       "      <td>1.161607</td>\n",
       "      <td>0.597632</td>\n",
       "      <td>1.137503</td>\n",
       "      <td>0.458985</td>\n",
       "      <td>0.384959</td>\n",
       "      <td>0.491747</td>\n",
       "      <td>0.336816</td>\n",
       "      <td>0.979263</td>\n",
       "      <td>0.792676</td>\n",
       "      <td>0.206900</td>\n",
       "    </tr>\n",
       "    <tr>\n",
       "      <th>min</th>\n",
       "      <td>1.000000</td>\n",
       "      <td>400.000000</td>\n",
       "      <td>8.000000</td>\n",
       "      <td>0.000000</td>\n",
       "      <td>0.000000</td>\n",
       "      <td>1.000000</td>\n",
       "      <td>22.000000</td>\n",
       "      <td>1.000000</td>\n",
       "      <td>1.00000</td>\n",
       "      <td>1.000000</td>\n",
       "      <td>...</td>\n",
       "      <td>0.000000</td>\n",
       "      <td>0.000000</td>\n",
       "      <td>1.000000</td>\n",
       "      <td>0.000000</td>\n",
       "      <td>0.000000</td>\n",
       "      <td>0.000000</td>\n",
       "      <td>0.000000</td>\n",
       "      <td>0.000000</td>\n",
       "      <td>0.000000</td>\n",
       "      <td>0.000000</td>\n",
       "    </tr>\n",
       "    <tr>\n",
       "      <th>25%</th>\n",
       "      <td>1.000000</td>\n",
       "      <td>13000.000000</td>\n",
       "      <td>9.000000</td>\n",
       "      <td>0.000000</td>\n",
       "      <td>0.000000</td>\n",
       "      <td>2.000000</td>\n",
       "      <td>30.000000</td>\n",
       "      <td>2.000000</td>\n",
       "      <td>3.00000</td>\n",
       "      <td>1.000000</td>\n",
       "      <td>...</td>\n",
       "      <td>0.000000</td>\n",
       "      <td>0.000000</td>\n",
       "      <td>2.000000</td>\n",
       "      <td>0.000000</td>\n",
       "      <td>0.000000</td>\n",
       "      <td>0.000000</td>\n",
       "      <td>0.000000</td>\n",
       "      <td>2.000000</td>\n",
       "      <td>2.000000</td>\n",
       "      <td>1.000000</td>\n",
       "    </tr>\n",
       "    <tr>\n",
       "      <th>50%</th>\n",
       "      <td>2.000000</td>\n",
       "      <td>21200.000000</td>\n",
       "      <td>10.200000</td>\n",
       "      <td>1.000000</td>\n",
       "      <td>1.000000</td>\n",
       "      <td>2.000000</td>\n",
       "      <td>34.000000</td>\n",
       "      <td>3.000000</td>\n",
       "      <td>3.00000</td>\n",
       "      <td>1.000000</td>\n",
       "      <td>...</td>\n",
       "      <td>1.000000</td>\n",
       "      <td>0.000000</td>\n",
       "      <td>3.000000</td>\n",
       "      <td>1.000000</td>\n",
       "      <td>0.000000</td>\n",
       "      <td>1.000000</td>\n",
       "      <td>0.000000</td>\n",
       "      <td>3.000000</td>\n",
       "      <td>3.000000</td>\n",
       "      <td>1.000000</td>\n",
       "    </tr>\n",
       "    <tr>\n",
       "      <th>75%</th>\n",
       "      <td>2.000000</td>\n",
       "      <td>40000.000000</td>\n",
       "      <td>13.000000</td>\n",
       "      <td>1.000000</td>\n",
       "      <td>1.000000</td>\n",
       "      <td>2.000000</td>\n",
       "      <td>40.000000</td>\n",
       "      <td>3.000000</td>\n",
       "      <td>4.00000</td>\n",
       "      <td>2.000000</td>\n",
       "      <td>...</td>\n",
       "      <td>1.000000</td>\n",
       "      <td>1.000000</td>\n",
       "      <td>3.000000</td>\n",
       "      <td>1.000000</td>\n",
       "      <td>0.000000</td>\n",
       "      <td>1.000000</td>\n",
       "      <td>0.000000</td>\n",
       "      <td>3.000000</td>\n",
       "      <td>3.000000</td>\n",
       "      <td>1.000000</td>\n",
       "    </tr>\n",
       "    <tr>\n",
       "      <th>max</th>\n",
       "      <td>2.000000</td>\n",
       "      <td>500000.000000</td>\n",
       "      <td>24.000000</td>\n",
       "      <td>1.000000</td>\n",
       "      <td>1.000000</td>\n",
       "      <td>2.000000</td>\n",
       "      <td>66.000000</td>\n",
       "      <td>4.000000</td>\n",
       "      <td>4.00000</td>\n",
       "      <td>48.000000</td>\n",
       "      <td>...</td>\n",
       "      <td>44.000000</td>\n",
       "      <td>7.000000</td>\n",
       "      <td>5.000000</td>\n",
       "      <td>1.000000</td>\n",
       "      <td>1.000000</td>\n",
       "      <td>1.000000</td>\n",
       "      <td>1.000000</td>\n",
       "      <td>4.000000</td>\n",
       "      <td>4.000000</td>\n",
       "      <td>1.000000</td>\n",
       "    </tr>\n",
       "  </tbody>\n",
       "</table>\n",
       "<p>8 rows × 25 columns</p>\n",
       "</div>"
      ],
      "text/plain": [
       "       CertifiMark      BidAmount          APR  GuaranteeWays  ProjectStatus  \\\n",
       "count  9038.000000    9038.000000  9038.000000    9038.000000    9038.000000   \n",
       "mean      1.541049   36714.156893    10.997123       0.521244       0.541049   \n",
       "std       0.498340   41051.654713     2.273132       0.499576       0.498340   \n",
       "min       1.000000     400.000000     8.000000       0.000000       0.000000   \n",
       "25%       1.000000   13000.000000     9.000000       0.000000       0.000000   \n",
       "50%       2.000000   21200.000000    10.200000       1.000000       1.000000   \n",
       "75%       2.000000   40000.000000    13.000000       1.000000       1.000000   \n",
       "max       2.000000  500000.000000    24.000000       1.000000       1.000000   \n",
       "\n",
       "               Sex          Age    Education  MaritalStatus  LoanNumbers  ...  \\\n",
       "count  9038.000000  9038.000000  9038.000000     9038.00000  9038.000000  ...   \n",
       "mean      1.791879    35.432728     2.412370        3.32297     1.703917  ...   \n",
       "std       0.405987     7.228381     0.766114        0.55864     1.879391  ...   \n",
       "min       1.000000    22.000000     1.000000        1.00000     1.000000  ...   \n",
       "25%       2.000000    30.000000     2.000000        3.00000     1.000000  ...   \n",
       "50%       2.000000    34.000000     3.000000        3.00000     1.000000  ...   \n",
       "75%       2.000000    40.000000     3.000000        4.00000     2.000000  ...   \n",
       "max       2.000000    66.000000     4.000000        4.00000    48.000000  ...   \n",
       "\n",
       "       PaidOffTimes  SeriousDefaultLoan       Income     hasHouse  \\\n",
       "count   9038.000000         9038.000000  9038.000000  9038.000000   \n",
       "mean       0.770967            0.485838     2.583094     0.698385   \n",
       "std        1.161607            0.597632     1.137503     0.458985   \n",
       "min        0.000000            0.000000     1.000000     0.000000   \n",
       "25%        0.000000            0.000000     2.000000     0.000000   \n",
       "50%        1.000000            0.000000     3.000000     1.000000   \n",
       "75%        1.000000            1.000000     3.000000     1.000000   \n",
       "max       44.000000            7.000000     5.000000     1.000000   \n",
       "\n",
       "         houseLoan       hasCar      carLoan  CompanySize  WorkingHour  \\\n",
       "count  9038.000000  9038.000000  9038.000000  9038.000000  9038.000000   \n",
       "mean      0.180903     0.590617     0.130449     2.512503     2.859372   \n",
       "std       0.384959     0.491747     0.336816     0.979263     0.792676   \n",
       "min       0.000000     0.000000     0.000000     0.000000     0.000000   \n",
       "25%       0.000000     0.000000     0.000000     2.000000     2.000000   \n",
       "50%       0.000000     1.000000     0.000000     3.000000     3.000000   \n",
       "75%       0.000000     1.000000     0.000000     3.000000     3.000000   \n",
       "max       1.000000     1.000000     1.000000     4.000000     4.000000   \n",
       "\n",
       "           OthDebt  \n",
       "count  9038.000000  \n",
       "mean      0.955189  \n",
       "std       0.206900  \n",
       "min       0.000000  \n",
       "25%       1.000000  \n",
       "50%       1.000000  \n",
       "75%       1.000000  \n",
       "max       1.000000  \n",
       "\n",
       "[8 rows x 25 columns]"
      ]
     },
     "execution_count": 6,
     "metadata": {},
     "output_type": "execute_result"
    }
   ],
   "source": [
    "df.describe()"
   ]
  },
  {
   "cell_type": "code",
   "execution_count": 7,
   "id": "89c8a288",
   "metadata": {},
   "outputs": [
    {
     "data": {
      "text/plain": [
       "CertifiMark             int64\n",
       "BidAmount               int64\n",
       "APR                   float64\n",
       "GuaranteeWays           int64\n",
       "ProjectStatus         float64\n",
       "Sex                     int64\n",
       "Age                   float64\n",
       "Education             float64\n",
       "MaritalStatus           int64\n",
       "LoanNumbers             int64\n",
       "Credits                 int64\n",
       "DefaultAmount         float64\n",
       "SuccessfulNum           int64\n",
       "TotalAmount             int64\n",
       "DefaultTimes          float64\n",
       "PaidOffTimes            int64\n",
       "SeriousDefaultLoan      int64\n",
       "Income                float64\n",
       "hasHouse              float64\n",
       "houseLoan               int64\n",
       "hasCar                float64\n",
       "carLoan               float64\n",
       "CompanySize           float64\n",
       "WorkingHour           float64\n",
       "OthDebt               float64\n",
       "dtype: object"
      ]
     },
     "execution_count": 7,
     "metadata": {},
     "output_type": "execute_result"
    }
   ],
   "source": [
    "df.dtypes"
   ]
  },
  {
   "cell_type": "code",
   "execution_count": 8,
   "id": "572eeda7",
   "metadata": {},
   "outputs": [],
   "source": [
    "df.to_csv(\"D:/Nikkidata/ren/csv/RRDAIY_NUM.csv\", index =0)"
   ]
  },
  {
   "cell_type": "code",
   "execution_count": null,
   "id": "4d263520",
   "metadata": {},
   "outputs": [],
   "source": []
  },
  {
   "cell_type": "code",
   "execution_count": null,
   "id": "68c0ffc0",
   "metadata": {},
   "outputs": [],
   "source": []
  },
  {
   "cell_type": "code",
   "execution_count": null,
   "id": "9a5a4d05",
   "metadata": {},
   "outputs": [],
   "source": []
  },
  {
   "cell_type": "code",
   "execution_count": null,
   "id": "d6231214",
   "metadata": {},
   "outputs": [],
   "source": []
  },
  {
   "cell_type": "code",
   "execution_count": null,
   "id": "58eab500",
   "metadata": {},
   "outputs": [],
   "source": []
  },
  {
   "cell_type": "code",
   "execution_count": null,
   "id": "784a8fb7",
   "metadata": {},
   "outputs": [],
   "source": []
  },
  {
   "cell_type": "code",
   "execution_count": null,
   "id": "1c7227b5",
   "metadata": {},
   "outputs": [],
   "source": []
  },
  {
   "cell_type": "code",
   "execution_count": null,
   "id": "b68a6c7d",
   "metadata": {},
   "outputs": [],
   "source": []
  },
  {
   "cell_type": "code",
   "execution_count": null,
   "id": "74ffbf9e",
   "metadata": {},
   "outputs": [],
   "source": []
  },
  {
   "cell_type": "code",
   "execution_count": null,
   "id": "7e261c4a",
   "metadata": {},
   "outputs": [],
   "source": []
  },
  {
   "cell_type": "code",
   "execution_count": null,
   "id": "5dc6622a",
   "metadata": {},
   "outputs": [],
   "source": []
  },
  {
   "cell_type": "code",
   "execution_count": null,
   "id": "76cb1ea6",
   "metadata": {},
   "outputs": [],
   "source": []
  },
  {
   "cell_type": "code",
   "execution_count": null,
   "id": "ef8d9f92",
   "metadata": {},
   "outputs": [],
   "source": []
  },
  {
   "cell_type": "code",
   "execution_count": null,
   "id": "cb4b132d",
   "metadata": {},
   "outputs": [],
   "source": []
  },
  {
   "cell_type": "code",
   "execution_count": null,
   "id": "996d9f43",
   "metadata": {},
   "outputs": [],
   "source": []
  },
  {
   "cell_type": "code",
   "execution_count": null,
   "id": "5bf8403f",
   "metadata": {},
   "outputs": [],
   "source": []
  },
  {
   "cell_type": "code",
   "execution_count": null,
   "id": "3797c08c",
   "metadata": {},
   "outputs": [],
   "source": []
  },
  {
   "cell_type": "code",
   "execution_count": null,
   "id": "bad25e02",
   "metadata": {},
   "outputs": [],
   "source": []
  },
  {
   "cell_type": "code",
   "execution_count": null,
   "id": "01cef776",
   "metadata": {},
   "outputs": [],
   "source": []
  },
  {
   "cell_type": "code",
   "execution_count": 2,
   "id": "eee914bd",
   "metadata": {},
   "outputs": [],
   "source": [
    "df = pd.read_csv(\"D:/Nikkidata/ren/csv/RRDAIY3.csv\")"
   ]
  },
  {
   "cell_type": "code",
   "execution_count": 3,
   "id": "ca3dcc15",
   "metadata": {},
   "outputs": [
    {
     "data": {
      "text/plain": [
       "CertifiMark            object\n",
       "BidAmount               int64\n",
       "APR                   float64\n",
       "GuaranteeWays          object\n",
       "RepaySource            object\n",
       "ProjectStatus         float64\n",
       "Sex                    object\n",
       "CreditScore             int64\n",
       "CreditRating           object\n",
       "Age                   float64\n",
       "Education              object\n",
       "MaritalStatus          object\n",
       "LoanNumbers             int64\n",
       "Credits                 int64\n",
       "DefaultAmount         float64\n",
       "SuccessfulNum           int64\n",
       "TotalAmount             int64\n",
       "DefaultTimes          float64\n",
       "PaidOffTimes            int64\n",
       "SeriousDefaultLoan      int64\n",
       "Income                 object\n",
       "hasHouse               object\n",
       "houseLoan              object\n",
       "hasCar                 object\n",
       "carLoan                object\n",
       "CompanySize            object\n",
       "WorkingHour            object\n",
       "OthDebt                object\n",
       "dtype: object"
      ]
     },
     "execution_count": 3,
     "metadata": {},
     "output_type": "execute_result"
    }
   ],
   "source": [
    "df.dtypes"
   ]
  },
  {
   "cell_type": "code",
   "execution_count": 12,
   "id": "f6541884",
   "metadata": {},
   "outputs": [],
   "source": [
    "house_mapping={'有房产': 1,'无房产': 0}\n",
    "df['hasHouse'] = df['hasHouse'].map(house_mapping)"
   ]
  },
  {
   "cell_type": "code",
   "execution_count": 13,
   "id": "865465dd",
   "metadata": {},
   "outputs": [],
   "source": [
    "hloan_mapping={'有房贷': 1,'无房贷': 0}\n",
    "df['houseLoan'] = df['houseLoan'].map(hloan_mapping)"
   ]
  },
  {
   "cell_type": "code",
   "execution_count": 14,
   "id": "185913f2",
   "metadata": {},
   "outputs": [],
   "source": [
    "Car_mapping={'有车产': 1, '无车产': 0}\n",
    "df['hasCar'] = df['hasCar'].map(Car_mapping)"
   ]
  },
  {
   "cell_type": "code",
   "execution_count": 15,
   "id": "247d0d63",
   "metadata": {},
   "outputs": [],
   "source": [
    "cloan_mapping={'有车贷': 1,'无车贷': 0}\n",
    "df['carLoan'] = df['carLoan'].map(cloan_mapping)"
   ]
  },
  {
   "cell_type": "code",
   "execution_count": null,
   "id": "fd1dae7c",
   "metadata": {},
   "outputs": [],
   "source": [
    "edu_mapping={'高中或以下': 1, '大专': 2,'本科': 3, '研究生或以上': 4}\n",
    "df['Education'] = df['Education'].map(edu_mapping)"
   ]
  },
  {
   "cell_type": "code",
   "execution_count": 17,
   "id": "95675ff9",
   "metadata": {},
   "outputs": [],
   "source": [
    "Mar_mapping={'丧偶': 1, '离异': 2, '未婚': 3, '已婚': 4}\n",
    "df['MaritalStatus'] = df['MaritalStatus'].map(Mar_mapping)"
   ]
  },
  {
   "cell_type": "code",
   "execution_count": 18,
   "id": "fa3c37ac",
   "metadata": {},
   "outputs": [],
   "source": [
    "com_mapping={'10人以下': 1, '10-100人': 2, '100-500人': 3, '500人以上': 4}\n",
    "df['CompanySize'] = df['CompanySize'].map(com_mapping)"
   ]
  },
  {
   "cell_type": "code",
   "execution_count": 19,
   "id": "ef8a9664",
   "metadata": {},
   "outputs": [],
   "source": [
    "wor_mapping={'1年（含）以下': 1, '1-3年（含）': 2, '3-5年（含）': 3, '5年以上': 4}\n",
    "df['WorkingHour'] = df['WorkingHour'].map(wor_mapping)"
   ]
  },
  {
   "cell_type": "code",
   "execution_count": 20,
   "id": "7e46ca27",
   "metadata": {},
   "outputs": [],
   "source": [
    "Inc_mapping={'1000元以下': 1, '2000元以下': 1, '2000-5000元': 1, '5000-10000元': 2,'10000-20000元': 3,'20000-50000元': 4,'50000元以上': 5}\n",
    "df['Income'] = df['Income'].map(Inc_mapping)"
   ]
  },
  {
   "cell_type": "code",
   "execution_count": 21,
   "id": "73c420d2",
   "metadata": {},
   "outputs": [],
   "source": [
    "sex_mapping={'男': 2, '女': 1}\n",
    "df['Sex'] = df['Sex'].map(sex_mapping)"
   ]
  },
  {
   "cell_type": "code",
   "execution_count": 22,
   "id": "b74d8da4",
   "metadata": {},
   "outputs": [],
   "source": [
    "gua_mapping={'用户利益保障机制': 1, '暂无': 0}\n",
    "df['GuaranteeWays'] = df['GuaranteeWays'].map(gua_mapping)"
   ]
  },
  {
   "cell_type": "code",
   "execution_count": 23,
   "id": "ff31747f",
   "metadata": {},
   "outputs": [],
   "source": [
    "cer_mapping={'信用认证标': 1, '实地认证标': 2, '机构担保标': 3, '智能理财标': 4}\n",
    "df['CertifiMark'] = df['CertifiMark'].map(cer_mapping)"
   ]
  },
  {
   "cell_type": "code",
   "execution_count": 24,
   "id": "b6dcdc90",
   "metadata": {},
   "outputs": [],
   "source": [
    "Rep_mapping={'其他': 1, '经营收入': 2, '财产收入': 3, '工资': 4,'工资收入': 4}\n",
    "df['RepaySource'] = df['RepaySource'].map(Rep_mapping)"
   ]
  },
  {
   "cell_type": "code",
   "execution_count": 26,
   "id": "ecf1bff7",
   "metadata": {},
   "outputs": [],
   "source": [
    "oth_mapping={'无': 0}\n",
    "df['OthDebt'] = df['OthDebt'].map(oth_mapping)"
   ]
  },
  {
   "cell_type": "code",
   "execution_count": 27,
   "id": "bd258e3a",
   "metadata": {},
   "outputs": [],
   "source": [
    "df['OthDebt'] = df['OthDebt'].fillna(1)"
   ]
  },
  {
   "cell_type": "code",
   "execution_count": 28,
   "id": "ea178fca",
   "metadata": {},
   "outputs": [
    {
     "data": {
      "text/html": [
       "<div>\n",
       "<style scoped>\n",
       "    .dataframe tbody tr th:only-of-type {\n",
       "        vertical-align: middle;\n",
       "    }\n",
       "\n",
       "    .dataframe tbody tr th {\n",
       "        vertical-align: top;\n",
       "    }\n",
       "\n",
       "    .dataframe thead th {\n",
       "        text-align: right;\n",
       "    }\n",
       "</style>\n",
       "<table border=\"1\" class=\"dataframe\">\n",
       "  <thead>\n",
       "    <tr style=\"text-align: right;\">\n",
       "      <th></th>\n",
       "      <th>CertifiMark</th>\n",
       "      <th>BidAmount</th>\n",
       "      <th>APR</th>\n",
       "      <th>GuaranteeWays</th>\n",
       "      <th>RepaySource</th>\n",
       "      <th>ProjectStatus</th>\n",
       "      <th>Sex</th>\n",
       "      <th>CreditScore</th>\n",
       "      <th>CreditRating</th>\n",
       "      <th>Age</th>\n",
       "      <th>...</th>\n",
       "      <th>PaidOffTimes</th>\n",
       "      <th>SeriousDefaultLoan</th>\n",
       "      <th>Income</th>\n",
       "      <th>hasHouse</th>\n",
       "      <th>houseLoan</th>\n",
       "      <th>hasCar</th>\n",
       "      <th>carLoan</th>\n",
       "      <th>CompanySize</th>\n",
       "      <th>WorkingHour</th>\n",
       "      <th>OthDebt</th>\n",
       "    </tr>\n",
       "  </thead>\n",
       "  <tbody>\n",
       "    <tr>\n",
       "      <th>0</th>\n",
       "      <td>1</td>\n",
       "      <td>3900</td>\n",
       "      <td>20.1</td>\n",
       "      <td>1</td>\n",
       "      <td>NaN</td>\n",
       "      <td>0.0</td>\n",
       "      <td>2</td>\n",
       "      <td>80</td>\n",
       "      <td>HR</td>\n",
       "      <td>48.0</td>\n",
       "      <td>...</td>\n",
       "      <td>1</td>\n",
       "      <td>2</td>\n",
       "      <td>2.0</td>\n",
       "      <td>1.0</td>\n",
       "      <td>1</td>\n",
       "      <td>1.0</td>\n",
       "      <td>1.0</td>\n",
       "      <td>1.0</td>\n",
       "      <td>1.0</td>\n",
       "      <td>1.0</td>\n",
       "    </tr>\n",
       "    <tr>\n",
       "      <th>1</th>\n",
       "      <td>1</td>\n",
       "      <td>3050</td>\n",
       "      <td>19.8</td>\n",
       "      <td>1</td>\n",
       "      <td>NaN</td>\n",
       "      <td>0.0</td>\n",
       "      <td>2</td>\n",
       "      <td>80</td>\n",
       "      <td>HR</td>\n",
       "      <td>48.0</td>\n",
       "      <td>...</td>\n",
       "      <td>1</td>\n",
       "      <td>2</td>\n",
       "      <td>2.0</td>\n",
       "      <td>1.0</td>\n",
       "      <td>1</td>\n",
       "      <td>1.0</td>\n",
       "      <td>1.0</td>\n",
       "      <td>1.0</td>\n",
       "      <td>1.0</td>\n",
       "      <td>1.0</td>\n",
       "    </tr>\n",
       "    <tr>\n",
       "      <th>2</th>\n",
       "      <td>1</td>\n",
       "      <td>4000</td>\n",
       "      <td>21.4</td>\n",
       "      <td>1</td>\n",
       "      <td>NaN</td>\n",
       "      <td>0.0</td>\n",
       "      <td>2</td>\n",
       "      <td>80</td>\n",
       "      <td>HR</td>\n",
       "      <td>33.0</td>\n",
       "      <td>...</td>\n",
       "      <td>3</td>\n",
       "      <td>2</td>\n",
       "      <td>2.0</td>\n",
       "      <td>1.0</td>\n",
       "      <td>0</td>\n",
       "      <td>0.0</td>\n",
       "      <td>0.0</td>\n",
       "      <td>3.0</td>\n",
       "      <td>2.0</td>\n",
       "      <td>1.0</td>\n",
       "    </tr>\n",
       "    <tr>\n",
       "      <th>3</th>\n",
       "      <td>1</td>\n",
       "      <td>3000</td>\n",
       "      <td>22.4</td>\n",
       "      <td>1</td>\n",
       "      <td>NaN</td>\n",
       "      <td>0.0</td>\n",
       "      <td>2</td>\n",
       "      <td>80</td>\n",
       "      <td>HR</td>\n",
       "      <td>35.0</td>\n",
       "      <td>...</td>\n",
       "      <td>0</td>\n",
       "      <td>1</td>\n",
       "      <td>1.0</td>\n",
       "      <td>0.0</td>\n",
       "      <td>0</td>\n",
       "      <td>0.0</td>\n",
       "      <td>0.0</td>\n",
       "      <td>3.0</td>\n",
       "      <td>2.0</td>\n",
       "      <td>1.0</td>\n",
       "    </tr>\n",
       "    <tr>\n",
       "      <th>4</th>\n",
       "      <td>1</td>\n",
       "      <td>3000</td>\n",
       "      <td>15.0</td>\n",
       "      <td>1</td>\n",
       "      <td>NaN</td>\n",
       "      <td>0.0</td>\n",
       "      <td>2</td>\n",
       "      <td>80</td>\n",
       "      <td>HR</td>\n",
       "      <td>32.0</td>\n",
       "      <td>...</td>\n",
       "      <td>1</td>\n",
       "      <td>2</td>\n",
       "      <td>2.0</td>\n",
       "      <td>0.0</td>\n",
       "      <td>0</td>\n",
       "      <td>0.0</td>\n",
       "      <td>0.0</td>\n",
       "      <td>2.0</td>\n",
       "      <td>2.0</td>\n",
       "      <td>1.0</td>\n",
       "    </tr>\n",
       "  </tbody>\n",
       "</table>\n",
       "<p>5 rows × 28 columns</p>\n",
       "</div>"
      ],
      "text/plain": [
       "   CertifiMark  BidAmount   APR  GuaranteeWays  RepaySource  ProjectStatus  \\\n",
       "0            1       3900  20.1              1          NaN            0.0   \n",
       "1            1       3050  19.8              1          NaN            0.0   \n",
       "2            1       4000  21.4              1          NaN            0.0   \n",
       "3            1       3000  22.4              1          NaN            0.0   \n",
       "4            1       3000  15.0              1          NaN            0.0   \n",
       "\n",
       "   Sex  CreditScore CreditRating   Age  ... PaidOffTimes  SeriousDefaultLoan  \\\n",
       "0    2           80           HR  48.0  ...            1                   2   \n",
       "1    2           80           HR  48.0  ...            1                   2   \n",
       "2    2           80           HR  33.0  ...            3                   2   \n",
       "3    2           80           HR  35.0  ...            0                   1   \n",
       "4    2           80           HR  32.0  ...            1                   2   \n",
       "\n",
       "   Income  hasHouse  houseLoan  hasCar  carLoan  CompanySize  WorkingHour  \\\n",
       "0     2.0       1.0          1     1.0      1.0          1.0          1.0   \n",
       "1     2.0       1.0          1     1.0      1.0          1.0          1.0   \n",
       "2     2.0       1.0          0     0.0      0.0          3.0          2.0   \n",
       "3     1.0       0.0          0     0.0      0.0          3.0          2.0   \n",
       "4     2.0       0.0          0     0.0      0.0          2.0          2.0   \n",
       "\n",
       "   OthDebt  \n",
       "0      1.0  \n",
       "1      1.0  \n",
       "2      1.0  \n",
       "3      1.0  \n",
       "4      1.0  \n",
       "\n",
       "[5 rows x 28 columns]"
      ]
     },
     "execution_count": 28,
     "metadata": {},
     "output_type": "execute_result"
    }
   ],
   "source": [
    "df.head()"
   ]
  },
  {
   "cell_type": "code",
   "execution_count": 42,
   "id": "0e5813aa",
   "metadata": {},
   "outputs": [],
   "source": [
    "null_all= df.isnull().sum()"
   ]
  },
  {
   "cell_type": "code",
   "execution_count": 43,
   "id": "afb3f84b",
   "metadata": {},
   "outputs": [
    {
     "name": "stdout",
     "output_type": "stream",
     "text": [
      "CertifiMark           0\n",
      "BidAmount             0\n",
      "APR                   0\n",
      "GuaranteeWays         0\n",
      "ProjectStatus         0\n",
      "Sex                   0\n",
      "CreditScore           0\n",
      "CreditRating          0\n",
      "Age                   0\n",
      "Education             0\n",
      "MaritalStatus         0\n",
      "LoanNumbers           0\n",
      "Credits               0\n",
      "DefaultAmount         0\n",
      "SuccessfulNum         0\n",
      "TotalAmount           0\n",
      "DefaultTimes          0\n",
      "PaidOffTimes          0\n",
      "SeriousDefaultLoan    0\n",
      "Income                0\n",
      "hasHouse              0\n",
      "houseLoan             0\n",
      "hasCar                0\n",
      "carLoan               0\n",
      "CompanySize           0\n",
      "WorkingHour           0\n",
      "OthDebt               0\n",
      "dtype: int64\n"
     ]
    }
   ],
   "source": [
    "print(null_all)"
   ]
  },
  {
   "cell_type": "code",
   "execution_count": 31,
   "id": "6329cdbc",
   "metadata": {},
   "outputs": [],
   "source": [
    "df = df.drop(columns=['RepaySource'])"
   ]
  },
  {
   "cell_type": "code",
   "execution_count": 34,
   "id": "aa8e0bbe",
   "metadata": {},
   "outputs": [],
   "source": [
    "df['WorkingHour'] = df['WorkingHour'].fillna(0)"
   ]
  },
  {
   "cell_type": "code",
   "execution_count": 39,
   "id": "212ad48e",
   "metadata": {},
   "outputs": [],
   "source": [
    "df['hasCar'] = df['hasCar'].fillna(0)"
   ]
  },
  {
   "cell_type": "code",
   "execution_count": 41,
   "id": "e4e0140b",
   "metadata": {},
   "outputs": [],
   "source": [
    "df=df.dropna(subset=['Income'])"
   ]
  },
  {
   "cell_type": "code",
   "execution_count": 50,
   "id": "83af7d2c",
   "metadata": {},
   "outputs": [
    {
     "data": {
      "text/plain": [
       "30.0    635\n",
       "31.0    615\n",
       "32.0    573\n",
       "29.0    573\n",
       "33.0    566\n",
       "34.0    465\n",
       "35.0    431\n",
       "37.0    421\n",
       "38.0    421\n",
       "36.0    415\n",
       "28.0    411\n",
       "27.0    352\n",
       "40.0    308\n",
       "39.0    281\n",
       "41.0    271\n",
       "26.0    258\n",
       "42.0    224\n",
       "43.0    205\n",
       "25.0    204\n",
       "44.0    193\n",
       "45.0    161\n",
       "46.0    153\n",
       "47.0    137\n",
       "24.0    125\n",
       "48.0    115\n",
       "49.0    114\n",
       "50.0    100\n",
       "51.0     81\n",
       "52.0     49\n",
       "54.0     44\n",
       "53.0     43\n",
       "56.0     36\n",
       "55.0     35\n",
       "23.0     28\n",
       "57.0     25\n",
       "58.0     16\n",
       "60.0      9\n",
       "65.0      4\n",
       "59.0      4\n",
       "61.0      3\n",
       "63.0      2\n",
       "66.0      2\n",
       "64.0      2\n",
       "62.0      1\n",
       "22.0      1\n",
       "Name: Age, dtype: int64"
      ]
     },
     "execution_count": 50,
     "metadata": {},
     "output_type": "execute_result"
    }
   ],
   "source": [
    "df['Age'].value_counts()"
   ]
  },
  {
   "cell_type": "code",
   "execution_count": 52,
   "id": "63cce424",
   "metadata": {},
   "outputs": [],
   "source": [
    "df = df.drop(columns=['CreditScore','CreditRating'])"
   ]
  },
  {
   "cell_type": "code",
   "execution_count": 53,
   "id": "bacc3204",
   "metadata": {},
   "outputs": [],
   "source": [
    "df.to_csv(\"D:/Nikkidata/ren/csv/RRDAIY_NUM.csv\", index =0)"
   ]
  },
  {
   "cell_type": "code",
   "execution_count": 58,
   "id": "fccd6b4a",
   "metadata": {},
   "outputs": [
    {
     "data": {
      "text/plain": [
       "本科        5122\n",
       "大专        2359\n",
       "高中或以下     1503\n",
       "未获取         72\n",
       "研究生或以上      54\n",
       "大专,          1\n",
       "高中或以下,       1\n",
       "Name: Education, dtype: int64"
      ]
     },
     "execution_count": 58,
     "metadata": {},
     "output_type": "execute_result"
    }
   ],
   "source": [
    "df['Education'].value_counts()"
   ]
  },
  {
   "cell_type": "code",
   "execution_count": 51,
   "id": "1e951f15",
   "metadata": {},
   "outputs": [],
   "source": [
    "df.to_csv(\"D:/Nikkidata/ren/csv/RRDAIY_NUMCredit.csv\", index =0)"
   ]
  },
  {
   "cell_type": "code",
   "execution_count": 54,
   "id": "97e1db60",
   "metadata": {},
   "outputs": [
    {
     "data": {
      "text/plain": [
       "CertifiMark             int64\n",
       "BidAmount               int64\n",
       "APR                   float64\n",
       "GuaranteeWays           int64\n",
       "ProjectStatus         float64\n",
       "Sex                     int64\n",
       "Age                   float64\n",
       "Education              object\n",
       "MaritalStatus           int64\n",
       "LoanNumbers             int64\n",
       "Credits                 int64\n",
       "DefaultAmount         float64\n",
       "SuccessfulNum           int64\n",
       "TotalAmount             int64\n",
       "DefaultTimes          float64\n",
       "PaidOffTimes            int64\n",
       "SeriousDefaultLoan      int64\n",
       "Income                float64\n",
       "hasHouse              float64\n",
       "houseLoan               int64\n",
       "hasCar                float64\n",
       "carLoan               float64\n",
       "CompanySize           float64\n",
       "WorkingHour           float64\n",
       "OthDebt               float64\n",
       "dtype: object"
      ]
     },
     "execution_count": 54,
     "metadata": {},
     "output_type": "execute_result"
    }
   ],
   "source": [
    "df.dtypes"
   ]
  },
  {
   "cell_type": "code",
   "execution_count": 55,
   "id": "f0bfaa64",
   "metadata": {},
   "outputs": [],
   "source": [
    "df['CertifiMark'] = df['CertifiMark'].astype('str')"
   ]
  },
  {
   "cell_type": "code",
   "execution_count": 56,
   "id": "cc698f34",
   "metadata": {},
   "outputs": [],
   "source": [
    "df['GuaranteeWays'] = df['GuaranteeWays'].astype('str')"
   ]
  },
  {
   "cell_type": "code",
   "execution_count": 57,
   "id": "74846f90",
   "metadata": {},
   "outputs": [],
   "source": [
    "df['Sex'] = df['Sex'].astype('str')"
   ]
  },
  {
   "cell_type": "code",
   "execution_count": null,
   "id": "e5af0b0c",
   "metadata": {},
   "outputs": [],
   "source": [
    "df['CertifiMark'] = df['CertifiMark'].astype('str')"
   ]
  },
  {
   "cell_type": "code",
   "execution_count": null,
   "id": "5c36d8fc",
   "metadata": {},
   "outputs": [],
   "source": []
  },
  {
   "cell_type": "code",
   "execution_count": null,
   "id": "74ae0721",
   "metadata": {},
   "outputs": [],
   "source": []
  },
  {
   "cell_type": "code",
   "execution_count": null,
   "id": "3d2e7ec3",
   "metadata": {},
   "outputs": [],
   "source": []
  },
  {
   "cell_type": "code",
   "execution_count": null,
   "id": "8ce4331e",
   "metadata": {},
   "outputs": [],
   "source": []
  },
  {
   "cell_type": "code",
   "execution_count": 2,
   "id": "27c30ae4",
   "metadata": {},
   "outputs": [],
   "source": [
    "df1 = pd.read_csv(\"D:/Nikkidata/ren/csv/RRDAIY1.csv\")"
   ]
  },
  {
   "cell_type": "code",
   "execution_count": 3,
   "id": "5bb8459c",
   "metadata": {},
   "outputs": [],
   "source": [
    "df2 = pd.read_csv(\"D:/Nikkidata/ren/csv/RRDAIY2.csv\")"
   ]
  },
  {
   "cell_type": "code",
   "execution_count": 4,
   "id": "96b54d6c",
   "metadata": {},
   "outputs": [],
   "source": [
    "frames = [df1, df2]"
   ]
  },
  {
   "cell_type": "code",
   "execution_count": 5,
   "id": "ff4d80ad",
   "metadata": {},
   "outputs": [],
   "source": [
    "all_csv = pd.concat(frames)"
   ]
  },
  {
   "cell_type": "code",
   "execution_count": 6,
   "id": "8264e74e",
   "metadata": {},
   "outputs": [
    {
     "data": {
      "text/html": [
       "<div>\n",
       "<style scoped>\n",
       "    .dataframe tbody tr th:only-of-type {\n",
       "        vertical-align: middle;\n",
       "    }\n",
       "\n",
       "    .dataframe tbody tr th {\n",
       "        vertical-align: top;\n",
       "    }\n",
       "\n",
       "    .dataframe thead th {\n",
       "        text-align: right;\n",
       "    }\n",
       "</style>\n",
       "<table border=\"1\" class=\"dataframe\">\n",
       "  <thead>\n",
       "    <tr style=\"text-align: right;\">\n",
       "      <th></th>\n",
       "      <th>BidAmount</th>\n",
       "      <th>APR</th>\n",
       "      <th>ProjectStatus</th>\n",
       "      <th>CreditScore</th>\n",
       "      <th>Age</th>\n",
       "      <th>LoanNumbers</th>\n",
       "      <th>Credits</th>\n",
       "      <th>DefaultAmount</th>\n",
       "      <th>SuccessfulNum</th>\n",
       "      <th>TotalAmount</th>\n",
       "      <th>DefaultTimes</th>\n",
       "      <th>PaidOffTimes</th>\n",
       "      <th>SeriousDefaultLoan</th>\n",
       "    </tr>\n",
       "  </thead>\n",
       "  <tbody>\n",
       "    <tr>\n",
       "      <th>count</th>\n",
       "      <td>9164.000000</td>\n",
       "      <td>9164.000000</td>\n",
       "      <td>9164.000000</td>\n",
       "      <td>9164.000000</td>\n",
       "      <td>9164.000000</td>\n",
       "      <td>9164.000000</td>\n",
       "      <td>9164.000000</td>\n",
       "      <td>9164.000000</td>\n",
       "      <td>9164.000000</td>\n",
       "      <td>9.164000e+03</td>\n",
       "      <td>9164.000000</td>\n",
       "      <td>9164.000000</td>\n",
       "      <td>9164.000000</td>\n",
       "    </tr>\n",
       "    <tr>\n",
       "      <th>mean</th>\n",
       "      <td>36336.970755</td>\n",
       "      <td>10.998363</td>\n",
       "      <td>0.544304</td>\n",
       "      <td>92.864579</td>\n",
       "      <td>35.432562</td>\n",
       "      <td>1.729376</td>\n",
       "      <td>18723.401353</td>\n",
       "      <td>7822.224711</td>\n",
       "      <td>1.303143</td>\n",
       "      <td>4.552461e+04</td>\n",
       "      <td>6.390223</td>\n",
       "      <td>0.774771</td>\n",
       "      <td>0.482759</td>\n",
       "    </tr>\n",
       "    <tr>\n",
       "      <th>std</th>\n",
       "      <td>40930.493463</td>\n",
       "      <td>2.271410</td>\n",
       "      <td>0.498060</td>\n",
       "      <td>98.997646</td>\n",
       "      <td>7.228481</td>\n",
       "      <td>1.908780</td>\n",
       "      <td>37021.318905</td>\n",
       "      <td>20897.267338</td>\n",
       "      <td>1.342310</td>\n",
       "      <td>7.205662e+04</td>\n",
       "      <td>8.922579</td>\n",
       "      <td>1.187861</td>\n",
       "      <td>0.597594</td>\n",
       "    </tr>\n",
       "    <tr>\n",
       "      <th>min</th>\n",
       "      <td>300.000000</td>\n",
       "      <td>8.000000</td>\n",
       "      <td>0.000000</td>\n",
       "      <td>-99.000000</td>\n",
       "      <td>22.000000</td>\n",
       "      <td>1.000000</td>\n",
       "      <td>0.000000</td>\n",
       "      <td>0.000000</td>\n",
       "      <td>1.000000</td>\n",
       "      <td>2.650000e+03</td>\n",
       "      <td>0.000000</td>\n",
       "      <td>0.000000</td>\n",
       "      <td>0.000000</td>\n",
       "    </tr>\n",
       "    <tr>\n",
       "      <th>25%</th>\n",
       "      <td>13000.000000</td>\n",
       "      <td>9.000000</td>\n",
       "      <td>0.000000</td>\n",
       "      <td>-12.000000</td>\n",
       "      <td>30.000000</td>\n",
       "      <td>1.000000</td>\n",
       "      <td>0.000000</td>\n",
       "      <td>0.000000</td>\n",
       "      <td>1.000000</td>\n",
       "      <td>1.500000e+04</td>\n",
       "      <td>0.000000</td>\n",
       "      <td>0.000000</td>\n",
       "      <td>0.000000</td>\n",
       "    </tr>\n",
       "    <tr>\n",
       "      <th>50%</th>\n",
       "      <td>21200.000000</td>\n",
       "      <td>10.200000</td>\n",
       "      <td>1.000000</td>\n",
       "      <td>180.000000</td>\n",
       "      <td>34.000000</td>\n",
       "      <td>1.000000</td>\n",
       "      <td>7000.000000</td>\n",
       "      <td>0.000000</td>\n",
       "      <td>1.000000</td>\n",
       "      <td>2.300000e+04</td>\n",
       "      <td>0.000000</td>\n",
       "      <td>1.000000</td>\n",
       "      <td>0.000000</td>\n",
       "    </tr>\n",
       "    <tr>\n",
       "      <th>75%</th>\n",
       "      <td>40000.000000</td>\n",
       "      <td>13.000000</td>\n",
       "      <td>1.000000</td>\n",
       "      <td>180.000000</td>\n",
       "      <td>40.000000</td>\n",
       "      <td>2.000000</td>\n",
       "      <td>21000.000000</td>\n",
       "      <td>9174.407500</td>\n",
       "      <td>1.000000</td>\n",
       "      <td>5.000000e+04</td>\n",
       "      <td>11.000000</td>\n",
       "      <td>1.000000</td>\n",
       "      <td>1.000000</td>\n",
       "    </tr>\n",
       "    <tr>\n",
       "      <th>max</th>\n",
       "      <td>500000.000000</td>\n",
       "      <td>24.000000</td>\n",
       "      <td>1.000000</td>\n",
       "      <td>180.000000</td>\n",
       "      <td>66.000000</td>\n",
       "      <td>48.000000</td>\n",
       "      <td>500000.000000</td>\n",
       "      <td>573300.000000</td>\n",
       "      <td>45.000000</td>\n",
       "      <td>2.000000e+06</td>\n",
       "      <td>54.000000</td>\n",
       "      <td>44.000000</td>\n",
       "      <td>7.000000</td>\n",
       "    </tr>\n",
       "  </tbody>\n",
       "</table>\n",
       "</div>"
      ],
      "text/plain": [
       "           BidAmount          APR  ProjectStatus  CreditScore          Age  \\\n",
       "count    9164.000000  9164.000000    9164.000000  9164.000000  9164.000000   \n",
       "mean    36336.970755    10.998363       0.544304    92.864579    35.432562   \n",
       "std     40930.493463     2.271410       0.498060    98.997646     7.228481   \n",
       "min       300.000000     8.000000       0.000000   -99.000000    22.000000   \n",
       "25%     13000.000000     9.000000       0.000000   -12.000000    30.000000   \n",
       "50%     21200.000000    10.200000       1.000000   180.000000    34.000000   \n",
       "75%     40000.000000    13.000000       1.000000   180.000000    40.000000   \n",
       "max    500000.000000    24.000000       1.000000   180.000000    66.000000   \n",
       "\n",
       "       LoanNumbers        Credits  DefaultAmount  SuccessfulNum   TotalAmount  \\\n",
       "count  9164.000000    9164.000000    9164.000000    9164.000000  9.164000e+03   \n",
       "mean      1.729376   18723.401353    7822.224711       1.303143  4.552461e+04   \n",
       "std       1.908780   37021.318905   20897.267338       1.342310  7.205662e+04   \n",
       "min       1.000000       0.000000       0.000000       1.000000  2.650000e+03   \n",
       "25%       1.000000       0.000000       0.000000       1.000000  1.500000e+04   \n",
       "50%       1.000000    7000.000000       0.000000       1.000000  2.300000e+04   \n",
       "75%       2.000000   21000.000000    9174.407500       1.000000  5.000000e+04   \n",
       "max      48.000000  500000.000000  573300.000000      45.000000  2.000000e+06   \n",
       "\n",
       "       DefaultTimes  PaidOffTimes  SeriousDefaultLoan  \n",
       "count   9164.000000   9164.000000         9164.000000  \n",
       "mean       6.390223      0.774771            0.482759  \n",
       "std        8.922579      1.187861            0.597594  \n",
       "min        0.000000      0.000000            0.000000  \n",
       "25%        0.000000      0.000000            0.000000  \n",
       "50%        0.000000      1.000000            0.000000  \n",
       "75%       11.000000      1.000000            1.000000  \n",
       "max       54.000000     44.000000            7.000000  "
      ]
     },
     "execution_count": 6,
     "metadata": {},
     "output_type": "execute_result"
    }
   ],
   "source": [
    "all_csv.describe()"
   ]
  },
  {
   "cell_type": "code",
   "execution_count": 7,
   "id": "00296047",
   "metadata": {},
   "outputs": [
    {
     "data": {
      "text/html": [
       "<div>\n",
       "<style scoped>\n",
       "    .dataframe tbody tr th:only-of-type {\n",
       "        vertical-align: middle;\n",
       "    }\n",
       "\n",
       "    .dataframe tbody tr th {\n",
       "        vertical-align: top;\n",
       "    }\n",
       "\n",
       "    .dataframe thead th {\n",
       "        text-align: right;\n",
       "    }\n",
       "</style>\n",
       "<table border=\"1\" class=\"dataframe\">\n",
       "  <thead>\n",
       "    <tr style=\"text-align: right;\">\n",
       "      <th></th>\n",
       "      <th>CertifiMark</th>\n",
       "      <th>BidAmount</th>\n",
       "      <th>APR</th>\n",
       "      <th>GuaranteeWays</th>\n",
       "      <th>RepaySource</th>\n",
       "      <th>ProjectStatus</th>\n",
       "      <th>Sex</th>\n",
       "      <th>CreditScore</th>\n",
       "      <th>CreditRating</th>\n",
       "      <th>Age</th>\n",
       "      <th>...</th>\n",
       "      <th>PaidOffTimes</th>\n",
       "      <th>SeriousDefaultLoan</th>\n",
       "      <th>Income</th>\n",
       "      <th>hasHouse</th>\n",
       "      <th>houseLoan</th>\n",
       "      <th>hasCar</th>\n",
       "      <th>carLoan</th>\n",
       "      <th>CompanySize</th>\n",
       "      <th>WorkingHour</th>\n",
       "      <th>OthDebt</th>\n",
       "    </tr>\n",
       "  </thead>\n",
       "  <tbody>\n",
       "    <tr>\n",
       "      <th>0</th>\n",
       "      <td>信用认证标</td>\n",
       "      <td>3900</td>\n",
       "      <td>20.1</td>\n",
       "      <td>用户利益保障机制</td>\n",
       "      <td>NaN</td>\n",
       "      <td>0.0</td>\n",
       "      <td>男</td>\n",
       "      <td>80</td>\n",
       "      <td>HR</td>\n",
       "      <td>48.0</td>\n",
       "      <td>...</td>\n",
       "      <td>1</td>\n",
       "      <td>2</td>\n",
       "      <td>5000-10000元</td>\n",
       "      <td>有房产</td>\n",
       "      <td>有房贷</td>\n",
       "      <td>有车产</td>\n",
       "      <td>有车贷</td>\n",
       "      <td>10人以下</td>\n",
       "      <td>1年（含）以下</td>\n",
       "      <td>NaN</td>\n",
       "    </tr>\n",
       "  </tbody>\n",
       "</table>\n",
       "<p>1 rows × 28 columns</p>\n",
       "</div>"
      ],
      "text/plain": [
       "  CertifiMark  BidAmount   APR GuaranteeWays RepaySource  ProjectStatus Sex  \\\n",
       "0       信用认证标       3900  20.1      用户利益保障机制         NaN            0.0   男   \n",
       "\n",
       "   CreditScore CreditRating   Age  ... PaidOffTimes SeriousDefaultLoan  \\\n",
       "0           80           HR  48.0  ...            1                  2   \n",
       "\n",
       "        Income  hasHouse  houseLoan  hasCar  carLoan  CompanySize  \\\n",
       "0  5000-10000元       有房产        有房贷     有车产      有车贷        10人以下   \n",
       "\n",
       "   WorkingHour  OthDebt  \n",
       "0      1年（含）以下      NaN  \n",
       "\n",
       "[1 rows x 28 columns]"
      ]
     },
     "execution_count": 7,
     "metadata": {},
     "output_type": "execute_result"
    }
   ],
   "source": [
    "all_csv.head(1)"
   ]
  },
  {
   "cell_type": "code",
   "execution_count": 8,
   "id": "93cc9e3b",
   "metadata": {},
   "outputs": [],
   "source": [
    "all_csv.to_csv(\"D:/Nikkidata/ren/csv/RRDAIY3.csv\", index =0)"
   ]
  },
  {
   "cell_type": "code",
   "execution_count": null,
   "id": "0dd2ec0c",
   "metadata": {},
   "outputs": [],
   "source": []
  },
  {
   "cell_type": "code",
   "execution_count": 2,
   "id": "5f6bee05",
   "metadata": {},
   "outputs": [
    {
     "name": "stderr",
     "output_type": "stream",
     "text": [
      "C:\\Users\\mb95424\\anaconda3\\lib\\site-packages\\IPython\\core\\interactiveshell.py:3441: DtypeWarning: Columns (6,9,29,35) have mixed types.Specify dtype option on import or set low_memory=False.\n",
      "  exec(code_obj, self.user_global_ns, self.user_ns)\n"
     ]
    }
   ],
   "source": [
    "df = pd.read_csv(\"D:/Nikkidata/ren/csv/RRDAI1.csv\")"
   ]
  },
  {
   "cell_type": "code",
   "execution_count": 3,
   "id": "a2ab399a",
   "metadata": {},
   "outputs": [
    {
     "data": {
      "text/plain": [
       "CertifiMark            object\n",
       "BidAmount               int64\n",
       "PubTime                object\n",
       "APR                   float64\n",
       "RepaymentPeriod         int64\n",
       "GuaranteeWays          object\n",
       "RepaySource            object\n",
       "Bidders                 int64\n",
       "ProjectStatus          object\n",
       "CloseTime              object\n",
       "Sex                    object\n",
       "CreditScore             int64\n",
       "CreditRating           object\n",
       "Age                   float64\n",
       "Education              object\n",
       "MaritalStatus          object\n",
       "LoanNumbers             int64\n",
       "Credits                 int64\n",
       "DefaultAmount         float64\n",
       "SuccessfulNum           int64\n",
       "TotalAmount             int64\n",
       "DefaultTimes          float64\n",
       "PaidOffTimes            int64\n",
       "SeriousDefaultLoan      int64\n",
       "Income                 object\n",
       "hasHouse               object\n",
       "houseLoan              object\n",
       "hasCar                 object\n",
       "carLoan                object\n",
       "JobType                object\n",
       "CompanyIndustry        object\n",
       "CompanySize            object\n",
       "CompanyPosition        object\n",
       "ResidenceCity          object\n",
       "WorkingHour            object\n",
       "OthDebt                object\n",
       "dtype: object"
      ]
     },
     "execution_count": 3,
     "metadata": {},
     "output_type": "execute_result"
    }
   ],
   "source": [
    "df.dtypes"
   ]
  },
  {
   "cell_type": "code",
   "execution_count": 4,
   "id": "54cd3ee7",
   "metadata": {},
   "outputs": [],
   "source": [
    "df = df.drop(columns=['CompanyIndustry','JobType','CompanyPosition','ResidenceCity','CloseTime','Bidders','RepaymentPeriod','PubTime',])"
   ]
  },
  {
   "cell_type": "code",
   "execution_count": 5,
   "id": "fb26a1b9",
   "metadata": {},
   "outputs": [
    {
     "data": {
      "text/plain": [
       "已还清    3941999\n",
       "还款中    3939865\n",
       "已流标     582940\n",
       "已垫付       4176\n",
       "Name: ProjectStatus, dtype: int64"
      ]
     },
     "execution_count": 5,
     "metadata": {},
     "output_type": "execute_result"
    }
   ],
   "source": [
    "df['ProjectStatus'].value_counts()"
   ]
  },
  {
   "cell_type": "code",
   "execution_count": 6,
   "id": "fe9fb4a7",
   "metadata": {},
   "outputs": [],
   "source": [
    "pro_mapping={'已还清': 1, '已垫付': 0}\n",
    "df['ProjectStatus'] = df['ProjectStatus'].map(pro_mapping)"
   ]
  },
  {
   "cell_type": "code",
   "execution_count": 33,
   "id": "1d1a04b0",
   "metadata": {},
   "outputs": [],
   "source": [
    "df=df.dropna(subset=['ProjectStatus'])"
   ]
  },
  {
   "cell_type": "code",
   "execution_count": 45,
   "id": "53525976",
   "metadata": {},
   "outputs": [],
   "source": [
    "null_all= dfq.isnull().sum()"
   ]
  },
  {
   "cell_type": "code",
   "execution_count": 46,
   "id": "5dd20840",
   "metadata": {},
   "outputs": [
    {
     "name": "stdout",
     "output_type": "stream",
     "text": [
      "CertifiMark            0\n",
      "BidAmount              0\n",
      "APR                    0\n",
      "GuaranteeWays          0\n",
      "RepaySource           12\n",
      "ProjectStatus          0\n",
      "Sex                    0\n",
      "CreditScore            0\n",
      "CreditRating           0\n",
      "Age                    0\n",
      "Education              0\n",
      "MaritalStatus          0\n",
      "LoanNumbers            0\n",
      "Credits                0\n",
      "DefaultAmount          0\n",
      "SuccessfulNum          0\n",
      "TotalAmount            0\n",
      "DefaultTimes           0\n",
      "PaidOffTimes           0\n",
      "SeriousDefaultLoan     0\n",
      "Income                 0\n",
      "hasHouse               0\n",
      "houseLoan              0\n",
      "hasCar                 0\n",
      "carLoan                0\n",
      "CompanySize            0\n",
      "WorkingHour            0\n",
      "OthDebt                0\n",
      "dtype: int64\n"
     ]
    }
   ],
   "source": [
    "print(null_all)"
   ]
  },
  {
   "cell_type": "code",
   "execution_count": 47,
   "id": "4fcf2c41",
   "metadata": {},
   "outputs": [],
   "source": [
    "dfq=dff.dropna(subset=['RepaySource'])"
   ]
  },
  {
   "cell_type": "code",
   "execution_count": 30,
   "id": "52ab5264",
   "metadata": {},
   "outputs": [],
   "source": [
    "oth_mapping={'有': 1, '无': 0}\n",
    "df['OthDebt'] = df['OthDebt'].map(oth_mapping)"
   ]
  },
  {
   "cell_type": "code",
   "execution_count": 53,
   "id": "ebb0183f",
   "metadata": {},
   "outputs": [],
   "source": [
    "df3 = df.loc[(df['ProjectStatus'] == 1) & (df['CreditScore'] <= 180)]"
   ]
  },
  {
   "cell_type": "code",
   "execution_count": 54,
   "id": "f6e7100d",
   "metadata": {},
   "outputs": [
    {
     "name": "stdout",
     "output_type": "stream",
     "text": [
      "        CertifiMark  BidAmount   APR GuaranteeWays RepaySource  ProjectStatus  \\\n",
      "1122028       实地认证标      54600  10.2      用户利益保障机制        工资收入            1.0   \n",
      "1122031       实地认证标     118900   9.6      用户利益保障机制          其他            1.0   \n",
      "1122042       实地认证标      88400  10.2      用户利益保障机制          其他            1.0   \n",
      "1122048       实地认证标     118900   9.6      用户利益保障机制          其他            1.0   \n",
      "1122051       实地认证标      88400  10.2      用户利益保障机制          其他            1.0   \n",
      "...             ...        ...   ...           ...         ...            ...   \n",
      "8464472       实地认证标       3000  12.0            暂无          工资            1.0   \n",
      "8465819       实地认证标       5000  12.0            暂无          其他            1.0   \n",
      "8466410       实地认证标       3000  12.0            暂无          工资            1.0   \n",
      "8466550       实地认证标       2000  12.0            暂无          工资            1.0   \n",
      "8466848       实地认证标       8000  12.0            暂无          工资            1.0   \n",
      "\n",
      "        Sex  CreditScore CreditRating   Age  ... PaidOffTimes  \\\n",
      "1122028   女          180            A  26.0  ...            2   \n",
      "1122031   女          180            A  30.0  ...            1   \n",
      "1122042   男          180            A  27.0  ...            1   \n",
      "1122048   女          180            A  36.0  ...            1   \n",
      "1122051   女          180            A  43.0  ...            1   \n",
      "...      ..          ...          ...   ...  ...          ...   \n",
      "8464472   女          180            A  27.0  ...            1   \n",
      "8465819   女          180            A  39.0  ...            1   \n",
      "8466410   男          180            A  23.0  ...            1   \n",
      "8466550   女          180            A  23.0  ...            2   \n",
      "8466848   女          180            A  34.0  ...            1   \n",
      "\n",
      "        SeriousDefaultLoan        Income  hasHouse  houseLoan  hasCar  \\\n",
      "1122028                  0   5000-10000元       无房产        无房贷     无车产   \n",
      "1122031                  0  20000-50000元       无房产        有房贷     有车产   \n",
      "1122042                  0   5000-10000元       无房产        无房贷     有车产   \n",
      "1122048                  0  10000-20000元       有房产        无房贷     无车产   \n",
      "1122051                  0  20000-50000元       有房产        无房贷     无车产   \n",
      "...                    ...           ...       ...        ...     ...   \n",
      "8464472                  0   5000-10000元         空        无房贷       空   \n",
      "8465819                  0    2000-5000元         空        NaN       空   \n",
      "8466410                  0    2000-5000元         空        NaN       空   \n",
      "8466550                  0   5000-10000元         空        无房贷       空   \n",
      "8466848                  0   5000-10000元         空        NaN       空   \n",
      "\n",
      "         carLoan  CompanySize  WorkingHour  OthDebt  \n",
      "1122028      无车贷        10人以下      1-3年（含）      1.0  \n",
      "1122031      有车贷        10人以下         5年以上      1.0  \n",
      "1122042      有车贷        10人以下      3-5年（含）      1.0  \n",
      "1122048      无车贷        10人以下      1年（含）以下      1.0  \n",
      "1122051      无车贷        10人以下      1-3年（含）      1.0  \n",
      "...          ...          ...          ...      ...  \n",
      "8464472      无车贷          NaN          NaN      0.0  \n",
      "8465819      NaN          NaN          NaN      0.0  \n",
      "8466410      NaN          NaN          NaN      0.0  \n",
      "8466550      无车贷          NaN          NaN      0.0  \n",
      "8466848      NaN          NaN          NaN      0.0  \n",
      "\n",
      "[2771804 rows x 28 columns]\n"
     ]
    }
   ],
   "source": [
    "print(df3)"
   ]
  },
  {
   "cell_type": "code",
   "execution_count": 55,
   "id": "d1ea31af",
   "metadata": {},
   "outputs": [
    {
     "name": "stdout",
     "output_type": "stream",
     "text": [
      "1122028    180\n",
      "1122031    180\n",
      "1122042    180\n",
      "1122048    180\n",
      "1122051    180\n",
      "          ... \n",
      "8464472    180\n",
      "8465819    180\n",
      "8466410    180\n",
      "8466550    180\n",
      "8466848    180\n",
      "Name: CreditScore, Length: 2771804, dtype: int64\n"
     ]
    }
   ],
   "source": [
    "print(df3['CreditScore'])"
   ]
  },
  {
   "cell_type": "code",
   "execution_count": 16,
   "id": "f09b34d2",
   "metadata": {},
   "outputs": [
    {
     "data": {
      "text/plain": [
       "1.0    3941999\n",
       "Name: ProjectStatus, dtype: int64"
      ]
     },
     "execution_count": 16,
     "metadata": {},
     "output_type": "execute_result"
    }
   ],
   "source": [
    "df['ProjectStatus'].value_counts()"
   ]
  },
  {
   "cell_type": "code",
   "execution_count": 15,
   "id": "a0dc60ed",
   "metadata": {},
   "outputs": [],
   "source": [
    "df = df[df['ProjectStatus'].isin([1])]"
   ]
  },
  {
   "cell_type": "code",
   "execution_count": 17,
   "id": "04b234d2",
   "metadata": {},
   "outputs": [],
   "source": [
    "import random"
   ]
  },
  {
   "cell_type": "code",
   "execution_count": 40,
   "id": "908d01d4",
   "metadata": {},
   "outputs": [],
   "source": [
    "dff = df.sample(n=5000, replace=False, axis=0)"
   ]
  },
  {
   "cell_type": "code",
   "execution_count": null,
   "id": "cc24b99a",
   "metadata": {},
   "outputs": [],
   "source": []
  },
  {
   "cell_type": "code",
   "execution_count": null,
   "id": "27dcdf27",
   "metadata": {},
   "outputs": [],
   "source": []
  },
  {
   "cell_type": "code",
   "execution_count": null,
   "id": "dea249a8",
   "metadata": {},
   "outputs": [],
   "source": []
  },
  {
   "cell_type": "code",
   "execution_count": null,
   "id": "f2ceadc4",
   "metadata": {},
   "outputs": [],
   "source": []
  },
  {
   "cell_type": "code",
   "execution_count": 10,
   "id": "7c5076a5",
   "metadata": {},
   "outputs": [],
   "source": [
    "df2 = dfq[df['ProjectStatus'].isin([0])]"
   ]
  },
  {
   "cell_type": "code",
   "execution_count": 11,
   "id": "b4cfe680",
   "metadata": {},
   "outputs": [
    {
     "name": "stdout",
     "output_type": "stream",
     "text": [
      "340       0.0\n",
      "376       0.0\n",
      "827       0.0\n",
      "1977      0.0\n",
      "2235      0.0\n",
      "         ... \n",
      "894758    0.0\n",
      "894782    0.0\n",
      "895294    0.0\n",
      "895296    0.0\n",
      "895947    0.0\n",
      "Name: ProjectStatus, Length: 4176, dtype: float64\n"
     ]
    }
   ],
   "source": [
    "print(df2['ProjectStatus'])"
   ]
  },
  {
   "cell_type": "code",
   "execution_count": 12,
   "id": "3098a800",
   "metadata": {},
   "outputs": [
    {
     "data": {
      "text/plain": [
       "1.0    3941999\n",
       "0.0       4176\n",
       "Name: ProjectStatus, dtype: int64"
      ]
     },
     "execution_count": 12,
     "metadata": {},
     "output_type": "execute_result"
    }
   ],
   "source": [
    "df['ProjectStatus'].value_counts()"
   ]
  },
  {
   "cell_type": "code",
   "execution_count": 48,
   "id": "80786d59",
   "metadata": {},
   "outputs": [],
   "source": [
    "dfq.to_csv(\"D:/Nikkidata/ren/csv/RRDAIY2.csv\", index =0)"
   ]
  },
  {
   "cell_type": "code",
   "execution_count": 49,
   "id": "0e19ca1f",
   "metadata": {},
   "outputs": [
    {
     "data": {
      "text/html": [
       "<div>\n",
       "<style scoped>\n",
       "    .dataframe tbody tr th:only-of-type {\n",
       "        vertical-align: middle;\n",
       "    }\n",
       "\n",
       "    .dataframe tbody tr th {\n",
       "        vertical-align: top;\n",
       "    }\n",
       "\n",
       "    .dataframe thead th {\n",
       "        text-align: right;\n",
       "    }\n",
       "</style>\n",
       "<table border=\"1\" class=\"dataframe\">\n",
       "  <thead>\n",
       "    <tr style=\"text-align: right;\">\n",
       "      <th></th>\n",
       "      <th>BidAmount</th>\n",
       "      <th>APR</th>\n",
       "      <th>ProjectStatus</th>\n",
       "      <th>CreditScore</th>\n",
       "      <th>Age</th>\n",
       "      <th>LoanNumbers</th>\n",
       "      <th>Credits</th>\n",
       "      <th>DefaultAmount</th>\n",
       "      <th>SuccessfulNum</th>\n",
       "      <th>TotalAmount</th>\n",
       "      <th>DefaultTimes</th>\n",
       "      <th>PaidOffTimes</th>\n",
       "      <th>SeriousDefaultLoan</th>\n",
       "    </tr>\n",
       "  </thead>\n",
       "  <tbody>\n",
       "    <tr>\n",
       "      <th>count</th>\n",
       "      <td>4988.000000</td>\n",
       "      <td>4988.000000</td>\n",
       "      <td>4988.0</td>\n",
       "      <td>4988.0</td>\n",
       "      <td>4988.000000</td>\n",
       "      <td>4988.000000</td>\n",
       "      <td>4988.000000</td>\n",
       "      <td>4988.0</td>\n",
       "      <td>4988.000000</td>\n",
       "      <td>4988.000000</td>\n",
       "      <td>4988.0</td>\n",
       "      <td>4988.000000</td>\n",
       "      <td>4988.0</td>\n",
       "    </tr>\n",
       "    <tr>\n",
       "      <th>mean</th>\n",
       "      <td>45249.879711</td>\n",
       "      <td>9.325621</td>\n",
       "      <td>1.0</td>\n",
       "      <td>180.0</td>\n",
       "      <td>33.468524</td>\n",
       "      <td>1.139334</td>\n",
       "      <td>11806.846431</td>\n",
       "      <td>0.0</td>\n",
       "      <td>1.139334</td>\n",
       "      <td>50849.558941</td>\n",
       "      <td>0.0</td>\n",
       "      <td>1.052727</td>\n",
       "      <td>0.0</td>\n",
       "    </tr>\n",
       "    <tr>\n",
       "      <th>std</th>\n",
       "      <td>43329.180219</td>\n",
       "      <td>0.434553</td>\n",
       "      <td>0.0</td>\n",
       "      <td>0.0</td>\n",
       "      <td>6.574496</td>\n",
       "      <td>0.539620</td>\n",
       "      <td>34677.844444</td>\n",
       "      <td>0.0</td>\n",
       "      <td>0.539620</td>\n",
       "      <td>48415.064783</td>\n",
       "      <td>0.0</td>\n",
       "      <td>0.325734</td>\n",
       "      <td>0.0</td>\n",
       "    </tr>\n",
       "    <tr>\n",
       "      <th>min</th>\n",
       "      <td>300.000000</td>\n",
       "      <td>9.000000</td>\n",
       "      <td>1.0</td>\n",
       "      <td>180.0</td>\n",
       "      <td>22.000000</td>\n",
       "      <td>1.000000</td>\n",
       "      <td>0.000000</td>\n",
       "      <td>0.0</td>\n",
       "      <td>1.000000</td>\n",
       "      <td>2650.000000</td>\n",
       "      <td>0.0</td>\n",
       "      <td>0.000000</td>\n",
       "      <td>0.0</td>\n",
       "    </tr>\n",
       "    <tr>\n",
       "      <th>25%</th>\n",
       "      <td>16800.000000</td>\n",
       "      <td>9.000000</td>\n",
       "      <td>1.0</td>\n",
       "      <td>180.0</td>\n",
       "      <td>29.000000</td>\n",
       "      <td>1.000000</td>\n",
       "      <td>0.000000</td>\n",
       "      <td>0.0</td>\n",
       "      <td>1.000000</td>\n",
       "      <td>19762.500000</td>\n",
       "      <td>0.0</td>\n",
       "      <td>1.000000</td>\n",
       "      <td>0.0</td>\n",
       "    </tr>\n",
       "    <tr>\n",
       "      <th>50%</th>\n",
       "      <td>28750.000000</td>\n",
       "      <td>9.000000</td>\n",
       "      <td>1.0</td>\n",
       "      <td>180.0</td>\n",
       "      <td>32.000000</td>\n",
       "      <td>1.000000</td>\n",
       "      <td>0.000000</td>\n",
       "      <td>0.0</td>\n",
       "      <td>1.000000</td>\n",
       "      <td>30400.000000</td>\n",
       "      <td>0.0</td>\n",
       "      <td>1.000000</td>\n",
       "      <td>0.0</td>\n",
       "    </tr>\n",
       "    <tr>\n",
       "      <th>75%</th>\n",
       "      <td>60000.000000</td>\n",
       "      <td>9.600000</td>\n",
       "      <td>1.0</td>\n",
       "      <td>180.0</td>\n",
       "      <td>37.000000</td>\n",
       "      <td>1.000000</td>\n",
       "      <td>0.000000</td>\n",
       "      <td>0.0</td>\n",
       "      <td>1.000000</td>\n",
       "      <td>67850.000000</td>\n",
       "      <td>0.0</td>\n",
       "      <td>1.000000</td>\n",
       "      <td>0.0</td>\n",
       "    </tr>\n",
       "    <tr>\n",
       "      <th>max</th>\n",
       "      <td>199000.000000</td>\n",
       "      <td>12.000000</td>\n",
       "      <td>1.0</td>\n",
       "      <td>180.0</td>\n",
       "      <td>61.000000</td>\n",
       "      <td>13.000000</td>\n",
       "      <td>220600.000000</td>\n",
       "      <td>0.0</td>\n",
       "      <td>13.000000</td>\n",
       "      <td>331500.000000</td>\n",
       "      <td>0.0</td>\n",
       "      <td>7.000000</td>\n",
       "      <td>0.0</td>\n",
       "    </tr>\n",
       "  </tbody>\n",
       "</table>\n",
       "</div>"
      ],
      "text/plain": [
       "           BidAmount          APR  ProjectStatus  CreditScore          Age  \\\n",
       "count    4988.000000  4988.000000         4988.0       4988.0  4988.000000   \n",
       "mean    45249.879711     9.325621            1.0        180.0    33.468524   \n",
       "std     43329.180219     0.434553            0.0          0.0     6.574496   \n",
       "min       300.000000     9.000000            1.0        180.0    22.000000   \n",
       "25%     16800.000000     9.000000            1.0        180.0    29.000000   \n",
       "50%     28750.000000     9.000000            1.0        180.0    32.000000   \n",
       "75%     60000.000000     9.600000            1.0        180.0    37.000000   \n",
       "max    199000.000000    12.000000            1.0        180.0    61.000000   \n",
       "\n",
       "       LoanNumbers        Credits  DefaultAmount  SuccessfulNum  \\\n",
       "count  4988.000000    4988.000000         4988.0    4988.000000   \n",
       "mean      1.139334   11806.846431            0.0       1.139334   \n",
       "std       0.539620   34677.844444            0.0       0.539620   \n",
       "min       1.000000       0.000000            0.0       1.000000   \n",
       "25%       1.000000       0.000000            0.0       1.000000   \n",
       "50%       1.000000       0.000000            0.0       1.000000   \n",
       "75%       1.000000       0.000000            0.0       1.000000   \n",
       "max      13.000000  220600.000000            0.0      13.000000   \n",
       "\n",
       "         TotalAmount  DefaultTimes  PaidOffTimes  SeriousDefaultLoan  \n",
       "count    4988.000000        4988.0   4988.000000              4988.0  \n",
       "mean    50849.558941           0.0      1.052727                 0.0  \n",
       "std     48415.064783           0.0      0.325734                 0.0  \n",
       "min      2650.000000           0.0      0.000000                 0.0  \n",
       "25%     19762.500000           0.0      1.000000                 0.0  \n",
       "50%     30400.000000           0.0      1.000000                 0.0  \n",
       "75%     67850.000000           0.0      1.000000                 0.0  \n",
       "max    331500.000000           0.0      7.000000                 0.0  "
      ]
     },
     "execution_count": 49,
     "metadata": {},
     "output_type": "execute_result"
    }
   ],
   "source": [
    "dfq.describe()"
   ]
  },
  {
   "cell_type": "code",
   "execution_count": null,
   "id": "52945e8f",
   "metadata": {},
   "outputs": [],
   "source": []
  },
  {
   "cell_type": "code",
   "execution_count": null,
   "id": "9d65858b",
   "metadata": {},
   "outputs": [],
   "source": []
  },
  {
   "cell_type": "code",
   "execution_count": null,
   "id": "42ddadb2",
   "metadata": {},
   "outputs": [],
   "source": []
  },
  {
   "cell_type": "code",
   "execution_count": null,
   "id": "9ee0c8e5",
   "metadata": {},
   "outputs": [],
   "source": []
  },
  {
   "cell_type": "code",
   "execution_count": 18,
   "id": "23400e45",
   "metadata": {},
   "outputs": [
    {
     "data": {
      "text/plain": [
       "1.0    3941999\n",
       "0.0       4176\n",
       "Name: ProjectStatus, dtype: int64"
      ]
     },
     "execution_count": 18,
     "metadata": {},
     "output_type": "execute_result"
    }
   ],
   "source": [
    "df['ProjectStatus'].value_counts()"
   ]
  },
  {
   "cell_type": "code",
   "execution_count": 11,
   "id": "97ac40f7",
   "metadata": {},
   "outputs": [],
   "source": [
    "pro_mapping={'已还清': 1, '已垫付': 0}\n",
    "df['ProjectStatus'] = df['ProjectStatus'].map(pro_mapping)"
   ]
  },
  {
   "cell_type": "code",
   "execution_count": 19,
   "id": "e228b087",
   "metadata": {},
   "outputs": [],
   "source": [
    "df=df.dropna(subset=['ProjectStatus'])"
   ]
  },
  {
   "cell_type": "code",
   "execution_count": 8,
   "id": "cc7c0bf6",
   "metadata": {},
   "outputs": [],
   "source": [
    "# Pandas and numpy for data manipulation\n",
    "import pandas as pd\n",
    "import numpy as np\n",
    "\n",
    "# Matplotlib and seaborn for visualization\n",
    "import matplotlib.pyplot as plt\n",
    "%matplotlib inline\n",
    "\n",
    "from IPython.core.pylabtools import figsize\n",
    "\n",
    "import seaborn as sns\n",
    "sns.set_context(font_scale=2)\n",
    "\n",
    "# Imputing missing values\n",
    "from sklearn.impute import SimpleImputer\n",
    "\n",
    "# Machine Learning Models\n",
    "from sklearn.linear_model import LinearRegression\n",
    "from sklearn.ensemble import RandomForestRegressor\n",
    "from sklearn.ensemble import RandomForestClassifier\n",
    "\n",
    "# Evaluating Models\n",
    "from sklearn.model_selection import train_test_split\n",
    "from sklearn.metrics import f1_score, confusion_matrix\n",
    "\n",
    "# Helpers\n",
    "import itertools\n",
    "import pandas_profiling"
   ]
  },
  {
   "cell_type": "code",
   "execution_count": 22,
   "id": "87ce5c87",
   "metadata": {},
   "outputs": [
    {
     "name": "stderr",
     "output_type": "stream",
     "text": [
      "C:\\Users\\mb95424\\anaconda3\\lib\\site-packages\\seaborn\\_decorators.py:36: FutureWarning: Pass the following variables as keyword args: x, y. From version 0.12, the only valid positional argument will be `data`, and passing other arguments without an explicit keyword will result in an error or misinterpretation.\n",
      "  warnings.warn(\n",
      "C:\\Users\\mb95424\\anaconda3\\lib\\site-packages\\seaborn\\regression.py:581: UserWarning: The `size` parameter has been renamed to `height`; please update your code.\n",
      "  warnings.warn(msg, UserWarning)\n"
     ]
    },
    {
     "data": {
      "text/plain": [
       "Text(0.5, 1.0, 'CreditScore vs ProjectStatus')"
      ]
     },
     "execution_count": 22,
     "metadata": {},
     "output_type": "execute_result"
    },
    {
     "data": {
      "image/png": "[encoded data removed]",
      "text/plain": [
       "<Figure size 1111.55x864 with 1 Axes>"
      ]
     },
     "metadata": {
      "needs_background": "light"
     },
     "output_type": "display_data"
    }
   ],
   "source": [
    "figsize(30, 20)\n",
    "# Subset to the buildings with most measurements and remove outliers\n",
    "\n",
    "subset = df.dropna(subset=['Age'])\n",
    "\n",
    "# Linear Plot of Energy Star Score vs EUI\n",
    "sns.lmplot('ProjectStatus', 'CreditScore', \n",
    "           data = subset, hue = 'Age', \n",
    "           scatter_kws={'alpha': 0.8, 's': 32}, fit_reg=False, \n",
    "           size = 12, aspect = 1.2)\n",
    "\n",
    "plt.title('CreditScore vs ProjectStatus')"
   ]
  },
  {
   "cell_type": "code",
   "execution_count": null,
   "id": "4dd143c9",
   "metadata": {},
   "outputs": [],
   "source": []
  }
 ],
 "metadata": {
  "kernelspec": {
   "display_name": "Python 3 (ipykernel)",
   "language": "python",
   "name": "python3"
  },
  "language_info": {
   "codemirror_mode": {
    "name": "ipython",
    "version": 3
   },
   "file_extension": ".py",
   "mimetype": "text/x-python",
   "name": "python",
   "nbconvert_exporter": "python",
   "pygments_lexer": "ipython3",
   "version": "3.8.11"
  }
 },
 "nbformat": 4,
 "nbformat_minor": 5
}
