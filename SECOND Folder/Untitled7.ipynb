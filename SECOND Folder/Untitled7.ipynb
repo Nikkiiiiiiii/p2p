{
 "cells": [
  {
   "cell_type": "code",
   "execution_count": 1,
   "id": "22f75a93",
   "metadata": {},
   "outputs": [],
   "source": [
    "# Pandas and numpy for data manipulation\n",
    "import pandas as pd\n",
    "import numpy as np"
   ]
  },
  {
   "cell_type": "code",
   "execution_count": 2,
   "id": "2ad56a89",
   "metadata": {},
   "outputs": [
    {
     "name": "stderr",
     "output_type": "stream",
     "text": [
      "C:\\Users\\mb95424\\anaconda3\\lib\\site-packages\\IPython\\core\\interactiveshell.py:3441: DtypeWarning: Columns (7,13,16,19,45,51,54) have mixed types.Specify dtype option on import or set low_memory=False.\n",
      "  exec(code_obj, self.user_global_ns, self.user_ns)\n"
     ]
    }
   ],
   "source": [
    "df = pd.read_csv(\"D:/Nikkidata/ren/csv/NewFolder2/RRDai.csv\")"
   ]
  },
  {
   "cell_type": "code",
   "execution_count": 3,
   "id": "f09cd783",
   "metadata": {},
   "outputs": [],
   "source": [
    "Pro_mapping={'已还清': 1, '还款中': 2, '已流标': 3, '已垫付': 4}\n",
    "df['ProjectStatus'] = df['ProjectStatus'].map(Pro_mapping)"
   ]
  },
  {
   "cell_type": "code",
   "execution_count": 4,
   "id": "926f9190",
   "metadata": {},
   "outputs": [],
   "source": [
    "dfa = df[df['ProjectStatus'].isin([4])]"
   ]
  },
  {
   "cell_type": "code",
   "execution_count": 5,
   "id": "c2cb742e",
   "metadata": {},
   "outputs": [],
   "source": [
    "dfb = df[df['ProjectStatus'].isin([1])]"
   ]
  },
  {
   "cell_type": "code",
   "execution_count": 10,
   "id": "81e1c270",
   "metadata": {},
   "outputs": [],
   "source": [
    "#未还清的分数分布\n",
    "a = dfa['CreditScore'].value_counts()"
   ]
  },
  {
   "cell_type": "code",
   "execution_count": 11,
   "id": "3a9a14b3",
   "metadata": {},
   "outputs": [],
   "source": [
    "a.to_csv(\"D:/Nikkidata/ren/csv/a.csv\")"
   ]
  },
  {
   "cell_type": "code",
   "execution_count": 12,
   "id": "d5fc2728",
   "metadata": {},
   "outputs": [],
   "source": [
    "#已还清的分数分布\n",
    "b = dfb['CreditScore'].value_counts()"
   ]
  },
  {
   "cell_type": "code",
   "execution_count": 13,
   "id": "9d426512",
   "metadata": {},
   "outputs": [],
   "source": [
    "b.to_csv(\"D:/Nikkidata/ren/csv/b.csv\")"
   ]
  },
  {
   "cell_type": "code",
   "execution_count": 18,
   "id": "504ebdf9",
   "metadata": {},
   "outputs": [],
   "source": [
    "rat_mapping={'AA': 1, 'A': 2, 'B': 3, 'C': 4, 'D': 5, 'E': 6, 'HR': 7}\n",
    "df['CreditRating'] = df['CreditRating'].map(rat_mapping)"
   ]
  },
  {
   "cell_type": "code",
   "execution_count": null,
   "id": "b6816d1b",
   "metadata": {},
   "outputs": [
    {
     "name": "stderr",
     "output_type": "stream",
     "text": [
      "C:\\Users\\mb95424\\anaconda3\\lib\\site-packages\\seaborn\\_decorators.py:36: FutureWarning: Pass the following variables as keyword args: x, y. From version 0.12, the only valid positional argument will be `data`, and passing other arguments without an explicit keyword will result in an error or misinterpretation.\n",
      "  warnings.warn(\n",
      "C:\\Users\\mb95424\\anaconda3\\lib\\site-packages\\seaborn\\regression.py:581: UserWarning: The `size` parameter has been renamed to `height`; please update your code.\n",
      "  warnings.warn(msg, UserWarning)\n"
     ]
    },
    {
     "data": {
      "text/plain": [
       "<matplotlib.legend.Legend at 0x206c87ba0a0>"
      ]
     },
     "execution_count": 20,
     "metadata": {},
     "output_type": "execute_result"
    },
    {
     "data": {
      "text/plain": [
       "<Figure size 2160x1440 with 0 Axes>"
      ]
     },
     "metadata": {},
     "output_type": "display_data"
    }
   ],
   "source": [
    "import seaborn as sns\n",
    "sns.set_context(font_scale=2)\n",
    "\n",
    "plt.figure(figsize=(30,20))\n",
    "# Subset to the buildings with most measurements and remove outliers\n",
    "subset = df[(df['CreditScore'] < 500)]\n",
    "\n",
    "# Linear Plot of Energy Star Score vs EUI\n",
    "sns.lmplot('CreditRating', 'CreditScore', \n",
    "           data = df, hue = 'ProjectStatus', \n",
    "           scatter_kws={'alpha': 0.8, 's': 32}, fit_reg=False, \n",
    "           size = 12, aspect = 1.2)\n",
    "\n",
    "plt.title('CreditRating vs CreditScore', size = 24)\n",
    "plt.legend()\n"
   ]
  },
  {
   "cell_type": "code",
   "execution_count": null,
   "id": "b02f146d",
   "metadata": {},
   "outputs": [],
   "source": []
  },
  {
   "cell_type": "code",
   "execution_count": null,
   "id": "508165b0",
   "metadata": {},
   "outputs": [],
   "source": []
  },
  {
   "cell_type": "code",
   "execution_count": null,
   "id": "38a5f7a3",
   "metadata": {},
   "outputs": [],
   "source": []
  },
  {
   "cell_type": "code",
   "execution_count": null,
   "id": "593f7fbe",
   "metadata": {},
   "outputs": [],
   "source": []
  },
  {
   "cell_type": "code",
   "execution_count": null,
   "id": "f6028ad1",
   "metadata": {},
   "outputs": [],
   "source": []
  },
  {
   "cell_type": "code",
   "execution_count": null,
   "id": "4194f67f",
   "metadata": {},
   "outputs": [],
   "source": []
  },
  {
   "cell_type": "code",
   "execution_count": null,
   "id": "04899214",
   "metadata": {},
   "outputs": [],
   "source": []
  },
  {
   "cell_type": "code",
   "execution_count": null,
   "id": "5ea7cf7d",
   "metadata": {},
   "outputs": [],
   "source": []
  },
  {
   "cell_type": "code",
   "execution_count": null,
   "id": "f8451ed0",
   "metadata": {},
   "outputs": [],
   "source": []
  },
  {
   "cell_type": "code",
   "execution_count": null,
   "id": "628e9ff3",
   "metadata": {},
   "outputs": [],
   "source": []
  },
  {
   "cell_type": "code",
   "execution_count": null,
   "id": "19992c18",
   "metadata": {},
   "outputs": [],
   "source": []
  },
  {
   "cell_type": "code",
   "execution_count": null,
   "id": "8a85f4bf",
   "metadata": {},
   "outputs": [],
   "source": []
  },
  {
   "cell_type": "code",
   "execution_count": null,
   "id": "a7e7dbb0",
   "metadata": {},
   "outputs": [],
   "source": []
  },
  {
   "cell_type": "code",
   "execution_count": null,
   "id": "4725c71a",
   "metadata": {},
   "outputs": [],
   "source": []
  },
  {
   "cell_type": "code",
   "execution_count": null,
   "id": "fc8e225c",
   "metadata": {},
   "outputs": [],
   "source": []
  },
  {
   "cell_type": "code",
   "execution_count": null,
   "id": "da24ae20",
   "metadata": {},
   "outputs": [],
   "source": []
  },
  {
   "cell_type": "code",
   "execution_count": null,
   "id": "a58521e3",
   "metadata": {},
   "outputs": [],
   "source": []
  },
  {
   "cell_type": "code",
   "execution_count": null,
   "id": "6d9660a6",
   "metadata": {},
   "outputs": [],
   "source": []
  },
  {
   "cell_type": "code",
   "execution_count": 3,
   "id": "655a6b0a",
   "metadata": {},
   "outputs": [
    {
     "name": "stderr",
     "output_type": "stream",
     "text": [
      "C:\\Users\\mb95424\\anaconda3\\lib\\site-packages\\IPython\\core\\interactiveshell.py:3441: DtypeWarning: Columns (8) have mixed types.Specify dtype option on import or set low_memory=False.\n",
      "  exec(code_obj, self.user_global_ns, self.user_ns)\n"
     ]
    }
   ],
   "source": [
    "df1 = pd.read_csv(\"D:/Nikkidata/ren/csv/HR.csv\")"
   ]
  },
  {
   "cell_type": "code",
   "execution_count": 6,
   "id": "6c33cf72",
   "metadata": {},
   "outputs": [],
   "source": [
    "df2 = pd.read_csv(\"D:/Nikkidata/ren/csv/AA.csv\")"
   ]
  },
  {
   "cell_type": "code",
   "execution_count": 7,
   "id": "4618a223",
   "metadata": {},
   "outputs": [
    {
     "data": {
      "text/plain": [
       "Unnamed: 0            583148\n",
       "ID                    583148\n",
       "ProjectNo             583148\n",
       "CertifiMark           583148\n",
       "ProjectTitle          583147\n",
       "BorrowType            581993\n",
       "BidAmount             583148\n",
       "PubTime               583148\n",
       "LoanTime               13965\n",
       "APR                   583148\n",
       "RepaymentPeriod       583148\n",
       "GuaranteeWays         583148\n",
       "PrerepaymentFee       583148\n",
       "RepaymentWays         583148\n",
       "RepaySource                0\n",
       "Bidders               583148\n",
       "RemainningPeriods     583148\n",
       "RepaymentDay               0\n",
       "BidProgress           583148\n",
       "ProjectStatus         583148\n",
       "CloseTime              10703\n",
       "UserNo                583148\n",
       "Nickname              583085\n",
       "UserName              583099\n",
       "Sex                   583148\n",
       "Idno                  583078\n",
       "CreditScore           583148\n",
       "CreditRating          583148\n",
       "Birthday              583145\n",
       "Age                   583145\n",
       "Education             511272\n",
       "MaritalStatus         564335\n",
       "LoanNumbers           583148\n",
       "Credits               583148\n",
       "DefaultAmount         583148\n",
       "SuccessfulNum         583148\n",
       "TotalAmount           583148\n",
       "DefaultTimes          583148\n",
       "PaidOffTimes          583148\n",
       "PrinAndInterest       583148\n",
       "SeriousDefaultLoan    583148\n",
       "Income                435232\n",
       "hasHouse              583148\n",
       "houseLoan             583148\n",
       "hasCar                583148\n",
       "carLoan               583148\n",
       "JobType               562241\n",
       "CompanyIndustry       401637\n",
       "CompanySize           401648\n",
       "CompanyPosition       405931\n",
       "ResidenceCity         540382\n",
       "WorkingHour           401816\n",
       "OthDebt                    0\n",
       "LoanDesc              583148\n",
       "AdvanceAmount         583148\n",
       "AdvanceTime             4893\n",
       "MagFinInfo            583148\n",
       "RepAbiInfo            583148\n",
       "ComPInfo              583148\n",
       "AcquisitionTime       583148\n",
       "dtype: int64"
      ]
     },
     "execution_count": 7,
     "metadata": {},
     "output_type": "execute_result"
    }
   ],
   "source": [
    "df2.count()"
   ]
  },
  {
   "cell_type": "code",
   "execution_count": 5,
   "id": "9461918a",
   "metadata": {},
   "outputs": [
    {
     "data": {
      "text/plain": [
       "已还清    3942001\n",
       "还款中    3940112\n",
       "已流标     582943\n",
       "已垫付       4176\n",
       "Name: ProjectStatus, dtype: int64"
      ]
     },
     "execution_count": 5,
     "metadata": {},
     "output_type": "execute_result"
    }
   ],
   "source": [
    "df['ProjectStatus'].value_counts()"
   ]
  },
  {
   "cell_type": "code",
   "execution_count": null,
   "id": "92dc073f",
   "metadata": {},
   "outputs": [],
   "source": []
  },
  {
   "cell_type": "code",
   "execution_count": 5,
   "id": "82949ef9",
   "metadata": {},
   "outputs": [],
   "source": [
    "df1.to_csv(\"D:/Nikkidata/ren/csv/default.csv\")"
   ]
  },
  {
   "cell_type": "code",
   "execution_count": 6,
   "id": "f8a564ce",
   "metadata": {},
   "outputs": [],
   "source": [
    "aa = df.tail(10001)"
   ]
  },
  {
   "cell_type": "code",
   "execution_count": 7,
   "id": "29485319",
   "metadata": {},
   "outputs": [],
   "source": [
    "aa.to_csv(\"D:/Nikkidata/ren/csv/tail10001.csv\")"
   ]
  },
  {
   "cell_type": "code",
   "execution_count": 10,
   "id": "bf593240",
   "metadata": {},
   "outputs": [],
   "source": [
    "dfa = df[df['CreditRating'].str.contains('HR')]"
   ]
  },
  {
   "cell_type": "code",
   "execution_count": 11,
   "id": "f89f8c00",
   "metadata": {},
   "outputs": [],
   "source": [
    "dfa.to_csv(\"D:/Nikkidata/ren/csv/HR.csv\")"
   ]
  },
  {
   "cell_type": "code",
   "execution_count": 15,
   "id": "c2e8c86a",
   "metadata": {},
   "outputs": [
    {
     "data": {
      "text/plain": [
       "ID                    583148\n",
       "ProjectNo             583148\n",
       "CertifiMark           583148\n",
       "ProjectTitle          583147\n",
       "BorrowType            581993\n",
       "BidAmount             583148\n",
       "PubTime               583148\n",
       "LoanTime               13965\n",
       "APR                   583148\n",
       "RepaymentPeriod       583148\n",
       "GuaranteeWays         583148\n",
       "PrerepaymentFee       583148\n",
       "RepaymentWays         583148\n",
       "RepaySource                0\n",
       "Bidders               583148\n",
       "RemainningPeriods     583148\n",
       "RepaymentDay               0\n",
       "BidProgress           583148\n",
       "ProjectStatus         583148\n",
       "CloseTime              10703\n",
       "UserNo                583148\n",
       "Nickname              583085\n",
       "UserName              583099\n",
       "Sex                   583148\n",
       "Idno                  583078\n",
       "CreditScore           583148\n",
       "CreditRating          583148\n",
       "Birthday              583145\n",
       "Age                   583145\n",
       "Education             511272\n",
       "MaritalStatus         564335\n",
       "LoanNumbers           583148\n",
       "Credits               583148\n",
       "DefaultAmount         583148\n",
       "SuccessfulNum         583148\n",
       "TotalAmount           583148\n",
       "DefaultTimes          583148\n",
       "PaidOffTimes          583148\n",
       "PrinAndInterest       583148\n",
       "SeriousDefaultLoan    583148\n",
       "Income                435232\n",
       "hasHouse              583148\n",
       "houseLoan             583148\n",
       "hasCar                583148\n",
       "carLoan               583148\n",
       "JobType               562241\n",
       "CompanyIndustry       401637\n",
       "CompanySize           401648\n",
       "CompanyPosition       405931\n",
       "ResidenceCity         540382\n",
       "WorkingHour           401816\n",
       "OthDebt                    0\n",
       "LoanDesc              583148\n",
       "AdvanceAmount         583148\n",
       "AdvanceTime             4893\n",
       "MagFinInfo            583148\n",
       "RepAbiInfo            583148\n",
       "ComPInfo              583148\n",
       "AcquisitionTime       583148\n",
       "dtype: int64"
      ]
     },
     "execution_count": 15,
     "metadata": {},
     "output_type": "execute_result"
    }
   ],
   "source": [
    "dfa.count()"
   ]
  },
  {
   "cell_type": "code",
   "execution_count": 12,
   "id": "b0ce36c1",
   "metadata": {},
   "outputs": [],
   "source": [
    "dfb = df[df['CreditRating'].str.contains('AA')]"
   ]
  },
  {
   "cell_type": "code",
   "execution_count": 13,
   "id": "77609edb",
   "metadata": {},
   "outputs": [],
   "source": [
    "dfb.to_csv(\"D:/Nikkidata/ren/csv/AA.csv\")"
   ]
  },
  {
   "cell_type": "code",
   "execution_count": 14,
   "id": "12429771",
   "metadata": {},
   "outputs": [
    {
     "data": {
      "text/plain": [
       "ID                    667221\n",
       "ProjectNo             667221\n",
       "CertifiMark           667221\n",
       "ProjectTitle          666496\n",
       "BorrowType            667221\n",
       "BidAmount             667221\n",
       "PubTime               667221\n",
       "LoanTime              666205\n",
       "APR                   667221\n",
       "RepaymentPeriod       667221\n",
       "GuaranteeWays         667221\n",
       "PrerepaymentFee       667221\n",
       "RepaymentWays         667221\n",
       "RepaySource           665448\n",
       "Bidders               667221\n",
       "RemainningPeriods     667221\n",
       "RepaymentDay          597134\n",
       "BidProgress           667221\n",
       "ProjectStatus         667221\n",
       "CloseTime              69751\n",
       "UserNo                667221\n",
       "Nickname              667221\n",
       "UserName              667221\n",
       "Sex                   667221\n",
       "Idno                  667221\n",
       "CreditScore           667221\n",
       "CreditRating          667221\n",
       "Birthday              667221\n",
       "Age                   667221\n",
       "Education             667221\n",
       "MaritalStatus         664340\n",
       "LoanNumbers           667221\n",
       "Credits               667221\n",
       "DefaultAmount         667221\n",
       "SuccessfulNum         667221\n",
       "TotalAmount           667221\n",
       "DefaultTimes          667221\n",
       "PaidOffTimes          667221\n",
       "PrinAndInterest       667221\n",
       "SeriousDefaultLoan    667221\n",
       "Income                667221\n",
       "hasHouse              667221\n",
       "houseLoan             364603\n",
       "hasCar                667221\n",
       "carLoan               361227\n",
       "JobType                 1469\n",
       "CompanyIndustry       666893\n",
       "CompanySize            14283\n",
       "CompanyPosition        14278\n",
       "ResidenceCity          14176\n",
       "WorkingHour            14292\n",
       "OthDebt               654986\n",
       "LoanDesc              667221\n",
       "AdvanceAmount         667221\n",
       "AdvanceTime                1\n",
       "MagFinInfo            667221\n",
       "RepAbiInfo            667221\n",
       "ComPInfo              667221\n",
       "AcquisitionTime       667221\n",
       "dtype: int64"
      ]
     },
     "execution_count": 14,
     "metadata": {},
     "output_type": "execute_result"
    }
   ],
   "source": [
    "dfb.count()"
   ]
  },
  {
   "cell_type": "code",
   "execution_count": 16,
   "id": "960155cf",
   "metadata": {},
   "outputs": [],
   "source": [
    "dfc = pd.read_csv(\"D:/Nikkidata/ren/csv/default.csv\")"
   ]
  },
  {
   "cell_type": "code",
   "execution_count": null,
   "id": "3bc0e4ba",
   "metadata": {},
   "outputs": [],
   "source": [
    "dfc.count()"
   ]
  },
  {
   "cell_type": "code",
   "execution_count": null,
   "id": "3cf05017",
   "metadata": {},
   "outputs": [],
   "source": []
  },
  {
   "cell_type": "code",
   "execution_count": null,
   "id": "c1a374d1",
   "metadata": {},
   "outputs": [],
   "source": []
  },
  {
   "cell_type": "code",
   "execution_count": null,
   "id": "2736cbd4",
   "metadata": {},
   "outputs": [],
   "source": []
  },
  {
   "cell_type": "code",
   "execution_count": null,
   "id": "28dd08b8",
   "metadata": {},
   "outputs": [],
   "source": []
  },
  {
   "cell_type": "code",
   "execution_count": null,
   "id": "fcc3bb94",
   "metadata": {},
   "outputs": [],
   "source": []
  },
  {
   "cell_type": "code",
   "execution_count": null,
   "id": "f974d8b6",
   "metadata": {},
   "outputs": [],
   "source": []
  },
  {
   "cell_type": "code",
   "execution_count": null,
   "id": "27b477d4",
   "metadata": {},
   "outputs": [],
   "source": []
  },
  {
   "cell_type": "code",
   "execution_count": null,
   "id": "335c3a65",
   "metadata": {},
   "outputs": [],
   "source": []
  },
  {
   "cell_type": "code",
   "execution_count": null,
   "id": "302a26f3",
   "metadata": {},
   "outputs": [],
   "source": []
  },
  {
   "cell_type": "code",
   "execution_count": 2,
   "id": "039981d3",
   "metadata": {},
   "outputs": [
    {
     "name": "stderr",
     "output_type": "stream",
     "text": [
      "C:\\Users\\mb95424\\anaconda3\\lib\\site-packages\\IPython\\core\\interactiveshell.py:3441: DtypeWarning: Columns (8,30,36) have mixed types.Specify dtype option on import or set low_memory=False.\n",
      "  exec(code_obj, self.user_global_ns, self.user_ns)\n"
     ]
    }
   ],
   "source": [
    "df = pd.read_csv(\"D:/Nikkidata/ren/csv/RRDAI1.csv\")"
   ]
  },
  {
   "cell_type": "code",
   "execution_count": 42,
   "id": "f091c2df",
   "metadata": {},
   "outputs": [
    {
     "data": {
      "text/html": [
       "<div>\n",
       "<style scoped>\n",
       "    .dataframe tbody tr th:only-of-type {\n",
       "        vertical-align: middle;\n",
       "    }\n",
       "\n",
       "    .dataframe tbody tr th {\n",
       "        vertical-align: top;\n",
       "    }\n",
       "\n",
       "    .dataframe thead th {\n",
       "        text-align: right;\n",
       "    }\n",
       "</style>\n",
       "<table border=\"1\" class=\"dataframe\">\n",
       "  <thead>\n",
       "    <tr style=\"text-align: right;\">\n",
       "      <th></th>\n",
       "      <th>CertifiMark</th>\n",
       "      <th>BidAmount</th>\n",
       "      <th>PubTime</th>\n",
       "      <th>APR</th>\n",
       "      <th>RepaymentPeriod</th>\n",
       "      <th>GuaranteeWays</th>\n",
       "      <th>RepaySource</th>\n",
       "      <th>Bidders</th>\n",
       "      <th>ProjectStatus</th>\n",
       "      <th>Sex</th>\n",
       "      <th>...</th>\n",
       "      <th>CompanyIndustry</th>\n",
       "      <th>CompanySize</th>\n",
       "      <th>CompanyPosition</th>\n",
       "      <th>ResidenceCity</th>\n",
       "      <th>WorkingHour</th>\n",
       "      <th>OthDebt</th>\n",
       "      <th>ID</th>\n",
       "      <th>BidIncomeRation</th>\n",
       "      <th>PaidOffTotalRation</th>\n",
       "      <th>SuccessTotalRation</th>\n",
       "    </tr>\n",
       "  </thead>\n",
       "  <tbody>\n",
       "    <tr>\n",
       "      <th>7542140</th>\n",
       "      <td>2</td>\n",
       "      <td>17000</td>\n",
       "      <td>2016-10-08 13:38:28</td>\n",
       "      <td>10.0</td>\n",
       "      <td>6</td>\n",
       "      <td>1</td>\n",
       "      <td>NaN</td>\n",
       "      <td>11</td>\n",
       "      <td>1</td>\n",
       "      <td>1</td>\n",
       "      <td>...</td>\n",
       "      <td>政府机关</td>\n",
       "      <td>2.0</td>\n",
       "      <td>所长</td>\n",
       "      <td>云南</td>\n",
       "      <td>4.0</td>\n",
       "      <td>2.0</td>\n",
       "      <td>7542140</td>\n",
       "      <td>4.857143</td>\n",
       "      <td>0.750000</td>\n",
       "      <td>0.750000</td>\n",
       "    </tr>\n",
       "    <tr>\n",
       "      <th>7542141</th>\n",
       "      <td>2</td>\n",
       "      <td>12000</td>\n",
       "      <td>2016-09-30 17:25:23</td>\n",
       "      <td>12.0</td>\n",
       "      <td>12</td>\n",
       "      <td>1</td>\n",
       "      <td>NaN</td>\n",
       "      <td>13</td>\n",
       "      <td>1</td>\n",
       "      <td>2</td>\n",
       "      <td>...</td>\n",
       "      <td>建筑工程</td>\n",
       "      <td>4.0</td>\n",
       "      <td>供桩部主管</td>\n",
       "      <td>陕西</td>\n",
       "      <td>4.0</td>\n",
       "      <td>2.0</td>\n",
       "      <td>7542141</td>\n",
       "      <td>3.428571</td>\n",
       "      <td>0.666667</td>\n",
       "      <td>0.666667</td>\n",
       "    </tr>\n",
       "    <tr>\n",
       "      <th>7542142</th>\n",
       "      <td>2</td>\n",
       "      <td>19000</td>\n",
       "      <td>2016-10-08 17:10:10</td>\n",
       "      <td>12.0</td>\n",
       "      <td>12</td>\n",
       "      <td>1</td>\n",
       "      <td>NaN</td>\n",
       "      <td>22</td>\n",
       "      <td>1</td>\n",
       "      <td>2</td>\n",
       "      <td>...</td>\n",
       "      <td>交通运输业</td>\n",
       "      <td>5.0</td>\n",
       "      <td>高级线路工</td>\n",
       "      <td>陕西</td>\n",
       "      <td>4.0</td>\n",
       "      <td>2.0</td>\n",
       "      <td>7542142</td>\n",
       "      <td>2.533333</td>\n",
       "      <td>1.000000</td>\n",
       "      <td>1.000000</td>\n",
       "    </tr>\n",
       "    <tr>\n",
       "      <th>7542143</th>\n",
       "      <td>2</td>\n",
       "      <td>30000</td>\n",
       "      <td>2016-10-08 17:30:50</td>\n",
       "      <td>11.0</td>\n",
       "      <td>12</td>\n",
       "      <td>1</td>\n",
       "      <td>NaN</td>\n",
       "      <td>23</td>\n",
       "      <td>1</td>\n",
       "      <td>2</td>\n",
       "      <td>...</td>\n",
       "      <td>金融/法律</td>\n",
       "      <td>5.0</td>\n",
       "      <td>业务经理</td>\n",
       "      <td>广东</td>\n",
       "      <td>2.0</td>\n",
       "      <td>2.0</td>\n",
       "      <td>7542143</td>\n",
       "      <td>2.000000</td>\n",
       "      <td>1.000000</td>\n",
       "      <td>1.000000</td>\n",
       "    </tr>\n",
       "    <tr>\n",
       "      <th>7542144</th>\n",
       "      <td>2</td>\n",
       "      <td>8000</td>\n",
       "      <td>2016-10-12 16:50:25</td>\n",
       "      <td>11.0</td>\n",
       "      <td>6</td>\n",
       "      <td>1</td>\n",
       "      <td>NaN</td>\n",
       "      <td>9</td>\n",
       "      <td>1</td>\n",
       "      <td>2</td>\n",
       "      <td>...</td>\n",
       "      <td>政府机关</td>\n",
       "      <td>2.0</td>\n",
       "      <td>海事局综合业务股长</td>\n",
       "      <td>湖南</td>\n",
       "      <td>5.0</td>\n",
       "      <td>2.0</td>\n",
       "      <td>7542144</td>\n",
       "      <td>2.285714</td>\n",
       "      <td>1.000000</td>\n",
       "      <td>1.000000</td>\n",
       "    </tr>\n",
       "  </tbody>\n",
       "</table>\n",
       "<p>5 rows × 39 columns</p>\n",
       "</div>"
      ],
      "text/plain": [
       "         CertifiMark  BidAmount              PubTime   APR  RepaymentPeriod  \\\n",
       "7542140            2      17000  2016-10-08 13:38:28  10.0                6   \n",
       "7542141            2      12000  2016-09-30 17:25:23  12.0               12   \n",
       "7542142            2      19000  2016-10-08 17:10:10  12.0               12   \n",
       "7542143            2      30000  2016-10-08 17:30:50  11.0               12   \n",
       "7542144            2       8000  2016-10-12 16:50:25  11.0                6   \n",
       "\n",
       "         GuaranteeWays  RepaySource  Bidders  ProjectStatus  Sex  ...  \\\n",
       "7542140              1          NaN       11              1    1  ...   \n",
       "7542141              1          NaN       13              1    2  ...   \n",
       "7542142              1          NaN       22              1    2  ...   \n",
       "7542143              1          NaN       23              1    2  ...   \n",
       "7542144              1          NaN        9              1    2  ...   \n",
       "\n",
       "         CompanyIndustry CompanySize  CompanyPosition  ResidenceCity  \\\n",
       "7542140             政府机关         2.0               所长             云南   \n",
       "7542141             建筑工程         4.0            供桩部主管             陕西   \n",
       "7542142            交通运输业         5.0            高级线路工             陕西   \n",
       "7542143            金融/法律         5.0             业务经理             广东   \n",
       "7542144             政府机关         2.0        海事局综合业务股长             湖南   \n",
       "\n",
       "         WorkingHour  OthDebt       ID  BidIncomeRation  PaidOffTotalRation  \\\n",
       "7542140          4.0      2.0  7542140         4.857143            0.750000   \n",
       "7542141          4.0      2.0  7542141         3.428571            0.666667   \n",
       "7542142          4.0      2.0  7542142         2.533333            1.000000   \n",
       "7542143          2.0      2.0  7542143         2.000000            1.000000   \n",
       "7542144          5.0      2.0  7542144         2.285714            1.000000   \n",
       "\n",
       "         SuccessTotalRation  \n",
       "7542140            0.750000  \n",
       "7542141            0.666667  \n",
       "7542142            1.000000  \n",
       "7542143            1.000000  \n",
       "7542144            1.000000  \n",
       "\n",
       "[5 rows x 39 columns]"
      ]
     },
     "execution_count": 42,
     "metadata": {},
     "output_type": "execute_result"
    }
   ],
   "source": [
    "df.tail()"
   ]
  },
  {
   "cell_type": "code",
   "execution_count": 4,
   "id": "ed93f2b1",
   "metadata": {},
   "outputs": [],
   "source": [
    "df = df.drop(columns=['Unnamed: 0.1','Unnamed: 0'])"
   ]
  },
  {
   "cell_type": "code",
   "execution_count": 5,
   "id": "fbdf9a83",
   "metadata": {},
   "outputs": [
    {
     "data": {
      "text/plain": [
       "实地认证标    7166484\n",
       "信用认证标     346100\n",
       "机构担保标      29472\n",
       "智能理财标         89\n",
       "Name: CertifiMark, dtype: int64"
      ]
     },
     "execution_count": 5,
     "metadata": {},
     "output_type": "execute_result"
    }
   ],
   "source": [
    "df['CertifiMark'].value_counts()"
   ]
  },
  {
   "cell_type": "code",
   "execution_count": 6,
   "id": "eec3355d",
   "metadata": {},
   "outputs": [],
   "source": [
    "cer_mapping={'实地认证标': 1, '信用认证标': 2,'机构担保标': 3, '智能理财标': 4 }\n",
    "df['CertifiMark'] = df['CertifiMark'].map(cer_mapping)"
   ]
  },
  {
   "cell_type": "code",
   "execution_count": 7,
   "id": "61ebeab7",
   "metadata": {},
   "outputs": [],
   "source": [
    "gua_mapping={'用户利益保障机制': 1, '暂无': 0}\n",
    "df['GuaranteeWays'] = df['GuaranteeWays'].map(gua_mapping)"
   ]
  },
  {
   "cell_type": "code",
   "execution_count": 8,
   "id": "1625a26d",
   "metadata": {},
   "outputs": [],
   "source": [
    "sex_mapping={'男': 2, '女': 1}\n",
    "df['Sex'] = df['Sex'].map(sex_mapping)"
   ]
  },
  {
   "cell_type": "code",
   "execution_count": 9,
   "id": "d2f49718",
   "metadata": {},
   "outputs": [],
   "source": [
    "Rep_mapping={'其他': 1, '经营收入': 2, '财产收入': 3, '工资': 4,'工资收入': 4}\n",
    "df['RepaySource'] = df['RepaySource'].map(Rep_mapping)"
   ]
  },
  {
   "cell_type": "code",
   "execution_count": 10,
   "id": "afccffc0",
   "metadata": {},
   "outputs": [],
   "source": [
    "Mar_mapping={'丧偶': 1, '离异': 2, '未婚': 3, '已婚': 4}\n",
    "df['MaritalStatus'] = df['MaritalStatus'].map(Mar_mapping)"
   ]
  },
  {
   "cell_type": "code",
   "execution_count": 11,
   "id": "ac23b3e0",
   "metadata": {},
   "outputs": [],
   "source": [
    "Hou_mapping={'空': 0, '无房产': 0, '有房产': 2}\n",
    "df['hasHouse'] = df['hasHouse'].map(Hou_mapping)"
   ]
  },
  {
   "cell_type": "code",
   "execution_count": 12,
   "id": "5a927d23",
   "metadata": {},
   "outputs": [],
   "source": [
    "Loa_mapping={'无房贷': 0, 'False': 0, '有房贷': 1}\n",
    "df['houseLoan'] = df['houseLoan'].map(Loa_mapping)"
   ]
  },
  {
   "cell_type": "code",
   "execution_count": 13,
   "id": "79ec275c",
   "metadata": {},
   "outputs": [],
   "source": [
    "car_mapping={'空': 0, '无车产': 0, '有车产': 2}\n",
    "df['hasCar'] = df['hasCar'].map(car_mapping)"
   ]
  },
  {
   "cell_type": "code",
   "execution_count": 14,
   "id": "ce8c3752",
   "metadata": {},
   "outputs": [],
   "source": [
    "CLoa_mapping={'无车贷': 0, 'False': 0, '有车贷': 1}\n",
    "df['carLoan'] = df['carLoan'].map(CLoa_mapping)"
   ]
  },
  {
   "cell_type": "code",
   "execution_count": 15,
   "id": "c70c360d",
   "metadata": {},
   "outputs": [],
   "source": [
    "Pro_mapping={'已还清': 1, '还款中': 2, '已流标': 3, '已垫付': 4}\n",
    "df['ProjectStatus'] = df['ProjectStatus'].map(Pro_mapping)"
   ]
  },
  {
   "cell_type": "code",
   "execution_count": 16,
   "id": "0656dfc5",
   "metadata": {},
   "outputs": [],
   "source": [
    "wor_mapping={'1年（含）以下': 1,', 1年（含）以下': 1,'1年（含）以下, 1年（含）以下': 1,'1年（含）以下,': 1,'1年（含）以下 ,': 1,'1??????': 1,\n",
    "             '1-3年（含）': 2, '1-3年（含）, 1-3年（含）': 2,', 1-3年（含）': 2,'1-3年（含）,': 2,'1-3年（含） ,': 2,'1-3年（含）,,': 2,'1-3????': 2,\n",
    "             '3-5年（含）': 4, '3-5年（含）, 3-5年（含）': 4,', 3-5年（含）': 4,'3-5年（含）,': 4,'3-5????': 4,\n",
    "             '5年以上': 5, '5年以上, 5年以上': 5, ', 5年以上': 5, '5年以上,': 5, '5年以上 ,': 5, '5???': 5, '5年以上, 5年以上, 5年以上': 5}\n",
    "df['WorkingHour'] = df['WorkingHour'].map(wor_mapping)"
   ]
  },
  {
   "cell_type": "code",
   "execution_count": 17,
   "id": "00a48df9",
   "metadata": {},
   "outputs": [],
   "source": [
    "Com_mapping={'10人以下': 1,', 10人以下': 1,'10人以下, 10人以下': 1,'10人以下,': 1,'10人以下, 10人以下, 10人以下': 1,'10人以下 , 10人以下': 1,'10???': 1,'10人以下 ,': 1,\n",
    "             '10-100人': 2, '10-100人, 10-100人': 2,', 10-100人': 2,'10-100人,': 2,'10-100?': 2,'10-100人 ,': 2,'10-100人,,': 2,\n",
    "             '100-500人': 4, '100-500人, 100-500人': 4,', 100-500人': 4,'100-500人,': 4,'100-500人 ,': 4,\n",
    "             '500人以上': 5, '500人以上, 500人以上': 5, ', 500人以上': 5, '500以上': 5, '500人以上,': 5, '500???': 5,'500人以上 ,': 5}\n",
    "df['CompanySize'] = df['CompanySize'].map(Com_mapping)"
   ]
  },
  {
   "cell_type": "code",
   "execution_count": 18,
   "id": "4c554714",
   "metadata": {},
   "outputs": [],
   "source": [
    "edu_mapping={'高中或以下': 1,', 高中或以下': 1,'高中或以下,': 1,'大专, 高中或以下': 1,'高中或以下, 大专': 1,'高以下': 1,'高中或以下, 研究生或以上': 1,\n",
    "             '大专': 2, ', 大专': 2,'大专,': 2,'专科': 2,'本科, 大专': 2,'大专, 短期周转': 2,'大专, 本科': 2,\n",
    "             '本科': 4, ', 本科': 4,'本科,': 4,'本科, 本科': 4,\n",
    "             '研究生或以上': 5, '研究生或以上,': 5, ', 研究生或以上': 5}\n",
    "df['Education'] = df['Education'].map(edu_mapping)"
   ]
  },
  {
   "cell_type": "code",
   "execution_count": 19,
   "id": "bc03e113",
   "metadata": {},
   "outputs": [],
   "source": [
    "Inc_mapping={'1000元以下': 1000, '1000元以下,': 1000, ',1000元以下': 1000, '1001-2000元, 1001-2000元,': 1000, ', 1001-2000元': 1000, \n",
    "             '2000元以下': 2000, '2000元以下': 2000, '2000元以下': 2000, '1001-2000元': 2000, \n",
    "             '2000-5000元': 3500, '2000-5000元 ,': 3500, '2000-5000元,': 3500, ', 2000-5000元': 3500, '2000-5000元, 2000-5000元': 3500, ', 2000-5000元': 3500, \n",
    "             '5000-10000元': 7500, '5000-10000?': 7500, '5000-10000元,': 7500, '5000-10000元 ,': 7500, '5000-10000元, 5000-10000元': 7500, ', 5000-10000元': 7500, \n",
    "             '10000-20000元': 15000,'10000-20000元,,': 15000,'10000-20000元?': 15000,'10000-20000元 ,': 15000,'10000-20000元,': 15000,', 10000-20000元': 15000,'10000-20000元, 10000-20000元': 15000,\n",
    "             '20000-50000元': 35000,'20000-50000元,': 35000,'20000-50000元 ,': 35000,', 20000-50000元': 35000,'20000-50000元, 20000-50000元': 35000,\n",
    "             '50000元以上': 50000, '50000元以上 ,': 50000, ', 50000元以上': 50000, '50000元以上, 50000元以上,': 50000,}\n",
    "df['Income'] = df['Income'].map(Inc_mapping)"
   ]
  },
  {
   "cell_type": "code",
   "execution_count": 20,
   "id": "cb47f824",
   "metadata": {},
   "outputs": [],
   "source": [
    "Oth_mapping={'有': 2, '无': 1}\n",
    "df['OthDebt'] = df['OthDebt'].map(Oth_mapping)"
   ]
  },
  {
   "cell_type": "code",
   "execution_count": 21,
   "id": "b94cd178",
   "metadata": {},
   "outputs": [],
   "source": [
    "df['OthDebt'] = df['OthDebt'].fillna(2)"
   ]
  },
  {
   "cell_type": "code",
   "execution_count": 23,
   "id": "7ba99cd7",
   "metadata": {},
   "outputs": [
    {
     "data": {
      "text/plain": [
       "CertifiMark             int64\n",
       "BidAmount               int64\n",
       "PubTime                object\n",
       "APR                   float64\n",
       "RepaymentPeriod         int64\n",
       "GuaranteeWays           int64\n",
       "RepaySource           float64\n",
       "Bidders                 int64\n",
       "ProjectStatus           int64\n",
       "Sex                     int64\n",
       "CreditScore             int64\n",
       "CreditRating           object\n",
       "Age                   float64\n",
       "Education             float64\n",
       "MaritalStatus         float64\n",
       "LoanNumbers             int64\n",
       "Credits                 int64\n",
       "DefaultAmount         float64\n",
       "SuccessfulNum           int64\n",
       "TotalAmount             int64\n",
       "DefaultTimes          float64\n",
       "PaidOffTimes            int64\n",
       "SeriousDefaultLoan      int64\n",
       "Income                float64\n",
       "hasHouse              float64\n",
       "houseLoan             float64\n",
       "hasCar                float64\n",
       "carLoan               float64\n",
       "JobType                object\n",
       "CompanyIndustry        object\n",
       "CompanySize           float64\n",
       "CompanyPosition        object\n",
       "ResidenceCity          object\n",
       "WorkingHour           float64\n",
       "OthDebt               float64\n",
       "dtype: object"
      ]
     },
     "execution_count": 23,
     "metadata": {},
     "output_type": "execute_result"
    }
   ],
   "source": [
    "df.dtypes"
   ]
  },
  {
   "cell_type": "code",
   "execution_count": 38,
   "id": "d7a6fe52",
   "metadata": {},
   "outputs": [
    {
     "data": {
      "text/plain": [
       "CertifiMark           7521987\n",
       "BidAmount             7521987\n",
       "PubTime               7521987\n",
       "APR                   7521987\n",
       "RepaymentPeriod       7521987\n",
       "GuaranteeWays         7521987\n",
       "RepaySource           6525998\n",
       "Bidders               7521987\n",
       "ProjectStatus         7521987\n",
       "Sex                   7521987\n",
       "CreditScore           7521987\n",
       "CreditRating          7521987\n",
       "Age                   7521987\n",
       "Education             1472931\n",
       "MaritalStatus         6936287\n",
       "LoanNumbers           7521987\n",
       "Credits               7521987\n",
       "DefaultAmount         7521987\n",
       "SuccessfulNum         7521987\n",
       "TotalAmount           7521987\n",
       "DefaultTimes          7521984\n",
       "PaidOffTimes          7521987\n",
       "SeriousDefaultLoan    7521987\n",
       "Income                7521987\n",
       "hasHouse              7521935\n",
       "houseLoan             4861954\n",
       "hasCar                7521936\n",
       "carLoan               4852653\n",
       "JobType                640627\n",
       "CompanyIndustry       7486028\n",
       "CompanySize           1353609\n",
       "CompanyPosition       1353482\n",
       "ResidenceCity         1374418\n",
       "WorkingHour           1361270\n",
       "OthDebt               7521987\n",
       "ID                    7521987\n",
       "BidIncomeRation       7521987\n",
       "PaidOffTotalRation    7521987\n",
       "SuccessTotalRation    7521987\n",
       "dtype: int64"
      ]
     },
     "execution_count": 38,
     "metadata": {},
     "output_type": "execute_result"
    }
   ],
   "source": [
    "df.count()"
   ]
  },
  {
   "cell_type": "code",
   "execution_count": 25,
   "id": "a3e9b6fe",
   "metadata": {},
   "outputs": [],
   "source": [
    "df['ID'] = range(len(df))"
   ]
  },
  {
   "cell_type": "code",
   "execution_count": 26,
   "id": "4b99d389",
   "metadata": {},
   "outputs": [],
   "source": [
    "df = df[(df.Age > 17)]"
   ]
  },
  {
   "cell_type": "code",
   "execution_count": 27,
   "id": "0c683242",
   "metadata": {},
   "outputs": [],
   "source": [
    "df = df[(df.Age < 100)]"
   ]
  },
  {
   "cell_type": "code",
   "execution_count": 30,
   "id": "21a88417",
   "metadata": {},
   "outputs": [],
   "source": [
    "df['BidIncomeRation'] = df.BidAmount / df.Income"
   ]
  },
  {
   "cell_type": "code",
   "execution_count": 31,
   "id": "6136354d",
   "metadata": {},
   "outputs": [],
   "source": [
    "df =df[(df.BidIncomeRation >= 0)]"
   ]
  },
  {
   "cell_type": "code",
   "execution_count": 34,
   "id": "7b8d117d",
   "metadata": {},
   "outputs": [],
   "source": [
    "df['PaidOffTotalRation'] = df.PaidOffTimes / df.LoanNumbers "
   ]
  },
  {
   "cell_type": "code",
   "execution_count": 35,
   "id": "d26abeb6",
   "metadata": {},
   "outputs": [],
   "source": [
    "df['SuccessTotalRation'] = df.SuccessfulNum / df.LoanNumbers "
   ]
  },
  {
   "cell_type": "code",
   "execution_count": 36,
   "id": "ef6d2939",
   "metadata": {},
   "outputs": [],
   "source": [
    "df =df[(df.PaidOffTotalRation >= 0)&(df.PaidOffTotalRation <= 1)]"
   ]
  },
  {
   "cell_type": "code",
   "execution_count": 37,
   "id": "38ecf519",
   "metadata": {},
   "outputs": [],
   "source": [
    "df =df[(df.SuccessTotalRation >= 0)&(df.SuccessTotalRation <= 1)]"
   ]
  },
  {
   "cell_type": "code",
   "execution_count": 40,
   "id": "b8166e45",
   "metadata": {},
   "outputs": [],
   "source": [
    "df.to_csv(\"D:/Nikkidata/ren/csv/RRDAI_01.csv\")"
   ]
  },
  {
   "cell_type": "code",
   "execution_count": 41,
   "id": "520b30e8",
   "metadata": {},
   "outputs": [
    {
     "name": "stdout",
     "output_type": "stream",
     "text": [
      "0          2010-10-11 17:08:54\n",
      "1          2010-10-12 17:17:01\n",
      "2          2010-10-13 15:08:13\n",
      "3          2010-10-13 18:11:59\n",
      "4          2010-10-14 16:23:22\n",
      "                  ...         \n",
      "7542140    2016-10-08 13:38:28\n",
      "7542141    2016-09-30 17:25:23\n",
      "7542142    2016-10-08 17:10:10\n",
      "7542143    2016-10-08 17:30:50\n",
      "7542144    2016-10-12 16:50:25\n",
      "Name: PubTime, Length: 7521987, dtype: object\n"
     ]
    }
   ],
   "source": [
    "print(df['PubTime'])"
   ]
  },
  {
   "cell_type": "code",
   "execution_count": 1,
   "id": "ca48242e",
   "metadata": {},
   "outputs": [],
   "source": [
    "import pandas as pd\n",
    "import numpy as np\n",
    "import matplotlib.pyplot as plt"
   ]
  },
  {
   "cell_type": "code",
   "execution_count": 2,
   "id": "1cce6dfb",
   "metadata": {},
   "outputs": [
    {
     "name": "stderr",
     "output_type": "stream",
     "text": [
      "C:\\Users\\mb95424\\anaconda3\\lib\\site-packages\\IPython\\core\\interactiveshell.py:3441: DtypeWarning: Columns (6,9,29,35) have mixed types.Specify dtype option on import or set low_memory=False.\n",
      "  exec(code_obj, self.user_global_ns, self.user_ns)\n"
     ]
    }
   ],
   "source": [
    "df = pd.read_csv(\"D:/Nikkidata/ren/csv/RRDAI1.csv\")"
   ]
  },
  {
   "cell_type": "code",
   "execution_count": 5,
   "id": "95045546",
   "metadata": {},
   "outputs": [],
   "source": [
    "aa = df.tail(10000)"
   ]
  },
  {
   "cell_type": "code",
   "execution_count": 6,
   "id": "101d2984",
   "metadata": {},
   "outputs": [],
   "source": [
    "aa.to_csv(\"D:/Nikkidata/ren/csv/tail10000.csv\")"
   ]
  },
  {
   "cell_type": "code",
   "execution_count": null,
   "id": "17cd8b8e",
   "metadata": {},
   "outputs": [],
   "source": []
  }
 ],
 "metadata": {
  "kernelspec": {
   "display_name": "Python 3 (ipykernel)",
   "language": "python",
   "name": "python3"
  },
  "language_info": {
   "codemirror_mode": {
    "name": "ipython",
    "version": 3
   },
   "file_extension": ".py",
   "mimetype": "text/x-python",
   "name": "python",
   "nbconvert_exporter": "python",
   "pygments_lexer": "ipython3",
   "version": "3.8.11"
  }
 },
 "nbformat": 4,
 "nbformat_minor": 5
}
