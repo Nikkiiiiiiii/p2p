{
 "cells": [
  {
   "cell_type": "code",
   "execution_count": 1,
   "id": "037e9954-738c-44ad-a9a5-31d36625ece8",
   "metadata": {},
   "outputs": [],
   "source": [
    "import pandas as pd\n",
    "import numpy as np\n",
    "import matplotlib.pyplot as plt"
   ]
  },
  {
   "cell_type": "code",
   "execution_count": 5,
   "id": "3c2674d4",
   "metadata": {},
   "outputs": [
    {
     "data": {
      "text/plain": [
       " 180     7845894\n",
       " 20       269163\n",
       " 0        253301\n",
       " 181       13308\n",
       " 30        11824\n",
       "          ...   \n",
       " 177           2\n",
       " 3220          1\n",
       " 243           1\n",
       " 163           1\n",
       "-22            1\n",
       "Name: CreditScore, Length: 274, dtype: int64"
      ]
     },
     "execution_count": 5,
     "metadata": {},
     "output_type": "execute_result"
    }
   ],
   "source": [
    "data['CreditScore'].value_counts()"
   ]
  },
  {
   "cell_type": "code",
   "execution_count": 3,
   "id": "4e5647ad",
   "metadata": {},
   "outputs": [
    {
     "data": {
      "image/png": "[encoded data removed]",
      "text/plain": [
       "<Figure size 432x288 with 1 Axes>"
      ]
     },
     "metadata": {},
     "output_type": "display_data"
    }
   ],
   "source": [
    "import matplotlib.pyplot as plt\n",
    "# Histogram of the CreditScore\n",
    "plt.style.use('fivethirtyeight')\n",
    "plt.hist(data['CreditScore'].dropna(), bins = 100, edgecolor = 'k');\n",
    "plt.xlabel('CreditScore'); plt.ylabel('Number of Borrowers'); \n",
    "plt.title('CreditScore Distribution');"
   ]
  },
  {
   "cell_type": "code",
   "execution_count": 8,
   "id": "e640d780",
   "metadata": {},
   "outputs": [
    {
     "name": "stdout",
     "output_type": "stream",
     "text": [
      "Using matplotlib backend: Qt5Agg\n",
      "Populating the interactive namespace from numpy and matplotlib\n"
     ]
    },
    {
     "data": {
      "text/plain": [
       "<matplotlib.legend.Legend at 0x1cc7fa8b3d0>"
      ]
     },
     "execution_count": 8,
     "metadata": {},
     "output_type": "execute_result"
    }
   ],
   "source": [
    "# Create a list of borrowers with more than 100 measurements\n",
    "types = data.dropna(subset=['CreditScore'])\n",
    "types = types['MaritalStatus'].value_counts()\n",
    "types = list(types[types.values > 100].index)\n",
    "\n",
    "# Plot of distribution of scores for building categories\n",
    "%pylab\n",
    "figsize(12, 10)\n",
    "\n",
    "import seaborn as sns\n",
    "# Plot each building\n",
    "for b_type in types:\n",
    "    # Select the MaritalStatus type\n",
    "    subset = data[data['MaritalStatus'] == b_type]\n",
    "    \n",
    "    # Density plot of CreditScore\n",
    "    sns.kdeplot(subset['CreditScore'].dropna(),\n",
    "               label = b_type, shade = False, alpha = 0.8);\n",
    "    \n",
    "# label the plot\n",
    "plt.xlabel('CreditScore', size = 20); plt.ylabel('Density', size = 20); \n",
    "plt.title('Density Plot of CreditScore by MaritalStatus Type', size = 28);\n",
    "plt.legend()"
   ]
  },
  {
   "cell_type": "code",
   "execution_count": 10,
   "id": "89098bf3",
   "metadata": {},
   "outputs": [
    {
     "name": "stdout",
     "output_type": "stream",
     "text": [
      "Using matplotlib backend: Qt5Agg\n",
      "Populating the interactive namespace from numpy and matplotlib\n"
     ]
    },
    {
     "data": {
      "text/plain": [
       "<matplotlib.legend.Legend at 0x1cc7fab22b0>"
      ]
     },
     "execution_count": 10,
     "metadata": {},
     "output_type": "execute_result"
    }
   ],
   "source": [
    "# Create a list of borrowers with more than 100 measurements\n",
    "types = data.dropna(subset=['CreditScore'])\n",
    "types = types['Sex'].value_counts()\n",
    "types = list(types[types.values > 100].index)\n",
    "\n",
    "# Plot of distribution of scores for borrower categories\n",
    "%pylab\n",
    "figsize(12, 10)\n",
    "\n",
    "import seaborn as sns\n",
    "# Plot each borrower\n",
    "for b_type in types:\n",
    "    # Select the Education type\n",
    "    subset = data[data['Sex'] == b_type]\n",
    "    \n",
    "    # Density plot of CreditScore\n",
    "    sns.kdeplot(subset['CreditScore'].dropna(),\n",
    "               label = b_type, shade = False, alpha = 0.8);\n",
    "    \n",
    "# label the plot\n",
    "plt.xlabel('CreditScore', size = 20); plt.ylabel('Density', size = 20); \n",
    "plt.title('Density Plot of CreditScore by Sex', size = 28);\n",
    "plt.legend()"
   ]
  },
  {
   "cell_type": "code",
   "execution_count": 12,
   "id": "52465e46",
   "metadata": {},
   "outputs": [],
   "source": [
    "#Find all correlations with the score and sort \n",
    "correlations_data = data.corr()['CreditScore'].sort_values()"
   ]
  },
  {
   "cell_type": "code",
   "execution_count": 13,
   "id": "4a07a7a3",
   "metadata": {},
   "outputs": [
    {
     "name": "stdout",
     "output_type": "stream",
     "text": [
      "APR                  -0.511184\n",
      "CompanySize          -0.458040\n",
      "BidAmount            -0.274675\n",
      "SeriousDefaultLoan   -0.139854\n",
      "DefaultTimes         -0.135999\n",
      "RepaymentPeriod      -0.112495\n",
      "Sex                  -0.101123\n",
      "Age                  -0.089787\n",
      "DefaultAmount        -0.063782\n",
      "carLoan              -0.040302\n",
      "houseLoan            -0.019972\n",
      "RepaySource          -0.010014\n",
      "MaritalStatus         0.022701\n",
      "Income                0.057125\n",
      "Bidders               0.083785\n",
      "LoanNumbers           0.086108\n",
      "WorkingHour           0.088987\n",
      "PaidOffTimes          0.099756\n",
      "Credits               0.117109\n",
      "TotalAmount           0.122654\n",
      "hasHouse              0.210446\n",
      "hasCar                0.214635\n",
      "SuccessfulNum         0.276071\n",
      "Education             0.383492\n",
      "CertifiMark           0.896515\n",
      "CreditScore           1.000000\n",
      "Name: CreditScore, dtype: float64\n"
     ]
    }
   ],
   "source": [
    "print(correlations_data)"
   ]
  },
  {
   "cell_type": "code",
   "execution_count": 16,
   "id": "4a5a0c2b",
   "metadata": {},
   "outputs": [
    {
     "data": {
      "text/plain": [
       "CreditScore          -0.511184\n",
       "CertifiMark          -0.472513\n",
       "Education            -0.335842\n",
       "hasCar               -0.171663\n",
       "WorkingHour          -0.167826\n",
       "Credits              -0.153435\n",
       "TotalAmount          -0.143329\n",
       "Bidders              -0.134546\n",
       "Income               -0.106991\n",
       "hasHouse             -0.100193\n",
       "RepaymentPeriod      -0.038134\n",
       "SuccessfulNum        -0.025666\n",
       "MaritalStatus        -0.013424\n",
       "PaidOffTimes          0.012359\n",
       "Age                   0.021564\n",
       "DefaultAmount         0.032489\n",
       "houseLoan             0.037640\n",
       "Sex                   0.054088\n",
       "SeriousDefaultLoan    0.072993\n",
       "BidAmount             0.081154\n",
       "DefaultTimes          0.085853\n",
       "carLoan               0.088902\n",
       "LoanNumbers           0.091629\n",
       "RepaySource           0.238835\n",
       "CompanySize           0.251034\n",
       "APR                   1.000000\n",
       "Name: APR, dtype: float64"
      ]
     },
     "execution_count": 16,
     "metadata": {},
     "output_type": "execute_result"
    }
   ],
   "source": [
    "#Find all correlations with the score and sort \n",
    "data.corr()['APR'].sort_values()"
   ]
  },
  {
   "cell_type": "code",
   "execution_count": 28,
   "id": "4e2e9e2b",
   "metadata": {},
   "outputs": [
    {
     "data": {
      "text/plain": [
       "2.0    636919\n",
       "1.0    317718\n",
       "Name: Education, dtype: int64"
      ]
     },
     "execution_count": 28,
     "metadata": {},
     "output_type": "execute_result"
    }
   ],
   "source": [
    "subset['Education'].value_counts()"
   ]
  },
  {
   "cell_type": "code",
   "execution_count": 31,
   "id": "fd5bc711",
   "metadata": {},
   "outputs": [
    {
     "name": "stderr",
     "output_type": "stream",
     "text": [
      "C:\\Users\\mb95424\\anaconda3\\lib\\site-packages\\seaborn\\_decorators.py:36: FutureWarning: Pass the following variables as keyword args: x, y. From version 0.12, the only valid positional argument will be `data`, and passing other arguments without an explicit keyword will result in an error or misinterpretation.\n",
      "  warnings.warn(\n",
      "C:\\Users\\mb95424\\anaconda3\\lib\\site-packages\\seaborn\\regression.py:580: UserWarning: The `size` parameter has been renamed to `height`; please update your code.\n",
      "  warnings.warn(msg, UserWarning)\n"
     ]
    },
    {
     "data": {
      "text/plain": [
       "<matplotlib.legend.Legend at 0x1cc87cbf820>"
      ]
     },
     "execution_count": 31,
     "metadata": {},
     "output_type": "execute_result"
    }
   ],
   "source": [
    "figsize(30, 20)\n",
    "# Subset to the buildings with most measurements and remove outliers\n",
    "\n",
    "\n",
    "\n",
    "subset = subset.dropna(subset=['Education'])\n",
    "\n",
    "# Linear Plot of Energy Star Score vs EUI\n",
    "sns.lmplot('APR', 'CreditScore', \n",
    "           data = subset, hue = 'Education', \n",
    "           scatter_kws={'alpha': 0.8, 's': 32}, fit_reg=False, \n",
    "           size = 12, aspect = 1.2)\n",
    "\n",
    "plt.title('CreditScore vs APR', size = 24)\n",
    "plt.legend()"
   ]
  },
  {
   "cell_type": "code",
   "execution_count": 36,
   "id": "9621d7e1",
   "metadata": {},
   "outputs": [],
   "source": [
    "# List of Variables to find correlation coefficients\n",
    "features = ['Bidders',\n",
    "            'Education',\n",
    "            'Income',\n",
    "             'PaidOffTimes',\n",
    "            'APR',\n",
    "            'CreditScore']\n",
    "\n",
    "subset = data[features].dropna()\n",
    "\n",
    "# Remove outliers\n",
    "subset = subset[subset['CreditScore'] < 500]"
   ]
  },
  {
   "cell_type": "code",
   "execution_count": 37,
   "id": "b6cad077",
   "metadata": {},
   "outputs": [
    {
     "data": {
      "text/html": [
       "<div>\n",
       "<style scoped>\n",
       "    .dataframe tbody tr th:only-of-type {\n",
       "        vertical-align: middle;\n",
       "    }\n",
       "\n",
       "    .dataframe tbody tr th {\n",
       "        vertical-align: top;\n",
       "    }\n",
       "\n",
       "    .dataframe thead th {\n",
       "        text-align: right;\n",
       "    }\n",
       "</style>\n",
       "<table border=\"1\" class=\"dataframe\">\n",
       "  <thead>\n",
       "    <tr style=\"text-align: right;\">\n",
       "      <th></th>\n",
       "      <th>Education</th>\n",
       "      <th>Variable</th>\n",
       "      <th>Correlation with Score</th>\n",
       "    </tr>\n",
       "  </thead>\n",
       "  <tbody>\n",
       "    <tr>\n",
       "      <th>0</th>\n",
       "      <td>1.0</td>\n",
       "      <td>Bidders</td>\n",
       "      <td>0.476520</td>\n",
       "    </tr>\n",
       "    <tr>\n",
       "      <th>1</th>\n",
       "      <td>1.0</td>\n",
       "      <td>Income</td>\n",
       "      <td>0.273887</td>\n",
       "    </tr>\n",
       "    <tr>\n",
       "      <th>2</th>\n",
       "      <td>1.0</td>\n",
       "      <td>PaidOffTimes</td>\n",
       "      <td>0.367586</td>\n",
       "    </tr>\n",
       "    <tr>\n",
       "      <th>3</th>\n",
       "      <td>1.0</td>\n",
       "      <td>APR</td>\n",
       "      <td>-0.440418</td>\n",
       "    </tr>\n",
       "    <tr>\n",
       "      <th>5</th>\n",
       "      <td>2.0</td>\n",
       "      <td>Bidders</td>\n",
       "      <td>0.352161</td>\n",
       "    </tr>\n",
       "    <tr>\n",
       "      <th>6</th>\n",
       "      <td>2.0</td>\n",
       "      <td>Income</td>\n",
       "      <td>0.304726</td>\n",
       "    </tr>\n",
       "    <tr>\n",
       "      <th>7</th>\n",
       "      <td>2.0</td>\n",
       "      <td>PaidOffTimes</td>\n",
       "      <td>0.216166</td>\n",
       "    </tr>\n",
       "    <tr>\n",
       "      <th>8</th>\n",
       "      <td>2.0</td>\n",
       "      <td>APR</td>\n",
       "      <td>-0.600935</td>\n",
       "    </tr>\n",
       "    <tr>\n",
       "      <th>10</th>\n",
       "      <td>3.0</td>\n",
       "      <td>Bidders</td>\n",
       "      <td>0.224274</td>\n",
       "    </tr>\n",
       "    <tr>\n",
       "      <th>11</th>\n",
       "      <td>3.0</td>\n",
       "      <td>Income</td>\n",
       "      <td>0.249126</td>\n",
       "    </tr>\n",
       "    <tr>\n",
       "      <th>12</th>\n",
       "      <td>3.0</td>\n",
       "      <td>PaidOffTimes</td>\n",
       "      <td>0.084659</td>\n",
       "    </tr>\n",
       "    <tr>\n",
       "      <th>13</th>\n",
       "      <td>3.0</td>\n",
       "      <td>APR</td>\n",
       "      <td>-0.668833</td>\n",
       "    </tr>\n",
       "    <tr>\n",
       "      <th>15</th>\n",
       "      <td>4.0</td>\n",
       "      <td>Bidders</td>\n",
       "      <td>0.369610</td>\n",
       "    </tr>\n",
       "    <tr>\n",
       "      <th>16</th>\n",
       "      <td>4.0</td>\n",
       "      <td>Income</td>\n",
       "      <td>0.224329</td>\n",
       "    </tr>\n",
       "    <tr>\n",
       "      <th>17</th>\n",
       "      <td>4.0</td>\n",
       "      <td>PaidOffTimes</td>\n",
       "      <td>0.055184</td>\n",
       "    </tr>\n",
       "    <tr>\n",
       "      <th>18</th>\n",
       "      <td>4.0</td>\n",
       "      <td>APR</td>\n",
       "      <td>-0.562591</td>\n",
       "    </tr>\n",
       "  </tbody>\n",
       "</table>\n",
       "</div>"
      ],
      "text/plain": [
       "    Education      Variable  Correlation with Score\n",
       "0         1.0       Bidders                0.476520\n",
       "1         1.0        Income                0.273887\n",
       "2         1.0  PaidOffTimes                0.367586\n",
       "3         1.0           APR               -0.440418\n",
       "5         2.0       Bidders                0.352161\n",
       "6         2.0        Income                0.304726\n",
       "7         2.0  PaidOffTimes                0.216166\n",
       "8         2.0           APR               -0.600935\n",
       "10        3.0       Bidders                0.224274\n",
       "11        3.0        Income                0.249126\n",
       "12        3.0  PaidOffTimes                0.084659\n",
       "13        3.0           APR               -0.668833\n",
       "15        4.0       Bidders                0.369610\n",
       "16        4.0        Income                0.224329\n",
       "17        4.0  PaidOffTimes                0.055184\n",
       "18        4.0           APR               -0.562591"
      ]
     },
     "execution_count": 37,
     "metadata": {},
     "output_type": "execute_result"
    }
   ],
   "source": [
    "# Group by the building type and calculate correlations\n",
    "corrs = pd.DataFrame(subset.groupby('Education').corr())\n",
    "corrs = pd.DataFrame(corrs['CreditScore'])\n",
    "\n",
    "# Format the dataframe for display\n",
    "corrs = corrs.reset_index()\n",
    "corrs.columns = ['Education', 'Variable', 'Correlation with Score']\n",
    "corrs = corrs[corrs['Variable'] != 'CreditScore']\n",
    "corrs"
   ]
  },
  {
   "cell_type": "code",
   "execution_count": 38,
   "id": "fdafb6df",
   "metadata": {},
   "outputs": [],
   "source": [
    "def corr_df(x, corr_val):\n",
    "    # Dont want to remove correlations between Energy Star Score\n",
    "    y = x['CreditScore']\n",
    "    x = x.drop(columns = ['CreditScore'])\n",
    "    \n",
    "    # Creates Correlation Matrix and Instantiates\n",
    "    corr_matrix = x.corr()\n",
    "    iters = range(len(corr_matrix.columns) - 1)\n",
    "    drop_cols = []\n",
    "\n",
    "    # Iterates through Correlation Matrix Table to find correlated columns\n",
    "    for i in iters:\n",
    "        for j in range(i):\n",
    "            item = corr_matrix.iloc[j:(j+1), (i+1):(i+2)]\n",
    "            col = item.columns\n",
    "            row = item.index\n",
    "            val = abs(item.values)\n",
    "            if val >= corr_val:\n",
    "                # Prints the correlated feature set and the corr val\n",
    "                print(col.values[0], \"|\", row.values[0], \"|\", round(val[0][0], 2))\n",
    "                drop_cols.append(col.values[0])\n",
    "\n",
    "    drops = set(drop_cols)\n",
    "    x = x.drop(columns = drops)\n",
    "    x = x.drop(columns = ['APR'])\n",
    "    x['CreditScore'] = y\n",
    "               \n",
    "    return x"
   ]
  },
  {
   "cell_type": "code",
   "execution_count": 39,
   "id": "834e6580",
   "metadata": {},
   "outputs": [
    {
     "data": {
      "text/plain": [
       "(8469232, 28)"
      ]
     },
     "execution_count": 39,
     "metadata": {},
     "output_type": "execute_result"
    }
   ],
   "source": [
    "data.shape"
   ]
  },
  {
   "cell_type": "code",
   "execution_count": 40,
   "id": "18620735",
   "metadata": {},
   "outputs": [
    {
     "name": "stdout",
     "output_type": "stream",
     "text": [
      "RepaymentPeriod | BidAmount | 0.64\n",
      "RepaySource | BidAmount | 0.68\n",
      "Credits | BidAmount | 0.58\n",
      "Credits | RepaymentPeriod | 0.6\n",
      "Credits | RepaySource | 0.59\n",
      "Credits | Bidders | 0.5\n",
      "SuccessfulNum | LoanNumbers | 0.95\n",
      "TotalAmount | BidAmount | 0.65\n",
      "TotalAmount | RepaymentPeriod | 0.65\n",
      "TotalAmount | RepaySource | 0.63\n",
      "TotalAmount | Bidders | 0.55\n",
      "TotalAmount | Credits | 0.82\n",
      "PaidOffTimes | LoanNumbers | 0.65\n",
      "PaidOffTimes | SuccessfulNum | 0.66\n",
      "SeriousDefaultLoan | DefaultTimes | 0.7\n"
     ]
    }
   ],
   "source": [
    "new_data = corr_df(data, corr_val = 0.5)"
   ]
  },
  {
   "cell_type": "code",
   "execution_count": 41,
   "id": "58a0742e",
   "metadata": {},
   "outputs": [
    {
     "data": {
      "text/plain": [
       "(8469232, 20)"
      ]
     },
     "execution_count": 41,
     "metadata": {},
     "output_type": "execute_result"
    }
   ],
   "source": [
    "new_data.shape"
   ]
  },
  {
   "cell_type": "code",
   "execution_count": 42,
   "id": "afa39c78",
   "metadata": {},
   "outputs": [
    {
     "name": "stderr",
     "output_type": "stream",
     "text": [
      "C:\\Users\\mb95424\\anaconda3\\lib\\site-packages\\pandas\\core\\arraylike.py:358: RuntimeWarning: divide by zero encountered in log10\n",
      "  result = getattr(ufunc, method)(*inputs, **kwargs)\n",
      "C:\\Users\\mb95424\\anaconda3\\lib\\site-packages\\pandas\\core\\arraylike.py:358: RuntimeWarning: invalid value encountered in log10\n",
      "  result = getattr(ufunc, method)(*inputs, **kwargs)\n"
     ]
    }
   ],
   "source": [
    "log_data = new_data.copy()\n",
    "\n",
    "for col in new_data.select_dtypes('number').columns:\n",
    "    log_data['log_%s' % col] = np.log10(new_data[col])\n",
    "    \n",
    "log_data = log_data.replace({-np.inf: np.nan})"
   ]
  },
  {
   "cell_type": "code",
   "execution_count": 43,
   "id": "88d453f5",
   "metadata": {},
   "outputs": [],
   "source": [
    "for col in log_data.select_dtypes('number').columns:\n",
    "    if np.any(np.isinf(log_data[col])):\n",
    "        print(col)"
   ]
  },
  {
   "cell_type": "code",
   "execution_count": 44,
   "id": "d4fd7e0f",
   "metadata": {},
   "outputs": [
    {
     "data": {
      "text/plain": [
       "log_DefaultTimes    -0.574718\n",
       "log_CompanySize     -0.471538\n",
       "CompanySize         -0.458040\n",
       "log_BidAmount       -0.345698\n",
       "BidAmount           -0.274675\n",
       "DefaultTimes        -0.135999\n",
       "log_DefaultAmount   -0.129936\n",
       "log_Age             -0.111718\n",
       "log_Sex             -0.101123\n",
       "Sex                 -0.101123\n",
       "Age                 -0.089787\n",
       "DefaultAmount       -0.063782\n",
       "log_carLoan         -0.040302\n",
       "carLoan             -0.040302\n",
       "log_Bidders         -0.027968\n",
       "houseLoan           -0.019972\n",
       "log_houseLoan       -0.019972\n",
       "log_MaritalStatus    0.019418\n",
       "MaritalStatus        0.022701\n",
       "Income               0.057125\n",
       "log_WorkingHour      0.061266\n",
       "Bidders              0.083785\n",
       "LoanNumbers          0.086108\n",
       "WorkingHour          0.088987\n",
       "log_Income           0.102349\n",
       "log_LoanNumbers      0.117664\n",
       "hasHouse             0.210446\n",
       "log_hasHouse         0.210446\n",
       "hasCar               0.214635\n",
       "log_hasCar           0.214635\n",
       "Education            0.383492\n",
       "log_Education        0.400246\n",
       "CertifiMark          0.896515\n",
       "log_CertifiMark      0.959542\n",
       "log_CreditScore      0.995295\n",
       "CreditScore          1.000000\n",
       "Name: CreditScore, dtype: float64"
      ]
     },
     "execution_count": 44,
     "metadata": {},
     "output_type": "execute_result"
    }
   ],
   "source": [
    "log_data.corr()['CreditScore'].sort_values()"
   ]
  },
  {
   "cell_type": "code",
   "execution_count": 45,
   "id": "e9102144",
   "metadata": {},
   "outputs": [],
   "source": [
    "#Machine Learning Approach\n",
    "\n",
    "\n",
    "def train_test_reg(df):\n",
    "\n",
    "    \n",
    "    X = df.select_dtypes('number')\n",
    "    \n",
    "    X['Education'] = df['Education']\n",
    "    X['MaritalStatus'] = df['MaritalStatus']\n",
    "    X['CertifiMark'] = df['CertifiMark']\n",
    "    \n",
    "    X = pd.get_dummies(X)\n",
    "    \n",
    "    missing_scores = X[X['CreditScore'].isnull()]\n",
    "    \n",
    "    X = X.dropna(subset = ['CreditScore'])\n",
    "    \n",
    "    y = X['CreditScore']\n",
    "    \n",
    "    X = X.drop(columns = ['CreditScore'])\n",
    "    missing_scores = missing_scores.drop(columns = ['CreditScore'])\n",
    "    feature_names = list(X.columns)\n",
    "\n",
    "    X_train, X_test, y_train, y_test = train_test_split(X, y, test_size = 0.25)\n",
    "    \n",
    "    imputer = Imputer(missing_values = 'NaN', strategy = 'median')\n",
    "    X_train = imputer.fit_transform(X_train)\n",
    "    X_test = imputer.transform(X_test)\n",
    "    missing_scores = imputer.transform(missing_scores)\n",
    "    \n",
    "    return X_train, X_test, y_train, y_test, missing_scores, feature_names"
   ]
  },
  {
   "cell_type": "code",
   "execution_count": 57,
   "id": "8ef94e30",
   "metadata": {},
   "outputs": [
    {
     "name": "stderr",
     "output_type": "stream",
     "text": [
      "<ipython-input-45-cc96798e315e>:9: SettingWithCopyWarning: \n",
      "A value is trying to be set on a copy of a slice from a DataFrame.\n",
      "Try using .loc[row_indexer,col_indexer] = value instead\n",
      "\n",
      "See the caveats in the documentation: https://pandas.pydata.org/pandas-docs/stable/user_guide/indexing.html#returning-a-view-versus-a-copy\n",
      "  X['Education'] = df['Education']\n",
      "<ipython-input-45-cc96798e315e>:10: SettingWithCopyWarning: \n",
      "A value is trying to be set on a copy of a slice from a DataFrame.\n",
      "Try using .loc[row_indexer,col_indexer] = value instead\n",
      "\n",
      "See the caveats in the documentation: https://pandas.pydata.org/pandas-docs/stable/user_guide/indexing.html#returning-a-view-versus-a-copy\n",
      "  X['MaritalStatus'] = df['MaritalStatus']\n",
      "<ipython-input-45-cc96798e315e>:11: SettingWithCopyWarning: \n",
      "A value is trying to be set on a copy of a slice from a DataFrame.\n",
      "Try using .loc[row_indexer,col_indexer] = value instead\n",
      "\n",
      "See the caveats in the documentation: https://pandas.pydata.org/pandas-docs/stable/user_guide/indexing.html#returning-a-view-versus-a-copy\n",
      "  X['CertifiMark'] = df['CertifiMark']\n"
     ]
    },
    {
     "ename": "NameError",
     "evalue": "name 'Imputer' is not defined",
     "output_type": "error",
     "traceback": [
      "\u001b[1;31m---------------------------------------------------------------------------\u001b[0m",
      "\u001b[1;31mNameError\u001b[0m                                 Traceback (most recent call last)",
      "\u001b[1;32m<ipython-input-57-9c9bc9469750>\u001b[0m in \u001b[0;36m<module>\u001b[1;34m\u001b[0m\n\u001b[1;32m----> 1\u001b[1;33m \u001b[0mX_train\u001b[0m\u001b[1;33m,\u001b[0m \u001b[0mX_test\u001b[0m\u001b[1;33m,\u001b[0m \u001b[0my_train\u001b[0m\u001b[1;33m,\u001b[0m \u001b[0my_test\u001b[0m\u001b[1;33m,\u001b[0m \u001b[0mmissing_scores\u001b[0m\u001b[1;33m,\u001b[0m \u001b[0mfeature_names\u001b[0m \u001b[1;33m=\u001b[0m \u001b[0mtrain_test_reg\u001b[0m\u001b[1;33m(\u001b[0m\u001b[0mnew_data\u001b[0m\u001b[1;33m)\u001b[0m\u001b[1;33m\u001b[0m\u001b[1;33m\u001b[0m\u001b[0m\n\u001b[0m\u001b[0;32m      2\u001b[0m \u001b[0mprint\u001b[0m\u001b[1;33m(\u001b[0m\u001b[1;34m'Training Data Shape:'\u001b[0m\u001b[1;33m,\u001b[0m \u001b[0mX_train\u001b[0m\u001b[1;33m.\u001b[0m\u001b[0mshape\u001b[0m\u001b[1;33m)\u001b[0m\u001b[1;33m\u001b[0m\u001b[1;33m\u001b[0m\u001b[0m\n\u001b[0;32m      3\u001b[0m \u001b[0mprint\u001b[0m\u001b[1;33m(\u001b[0m\u001b[1;34m'Testing Data Shape:'\u001b[0m\u001b[1;33m,\u001b[0m \u001b[0mX_test\u001b[0m\u001b[1;33m.\u001b[0m\u001b[0mshape\u001b[0m\u001b[1;33m)\u001b[0m\u001b[1;33m\u001b[0m\u001b[1;33m\u001b[0m\u001b[0m\n",
      "\u001b[1;32m<ipython-input-45-cc96798e315e>\u001b[0m in \u001b[0;36mtrain_test_reg\u001b[1;34m(df)\u001b[0m\n\u001b[0;32m     25\u001b[0m     \u001b[0mX_train\u001b[0m\u001b[1;33m,\u001b[0m \u001b[0mX_test\u001b[0m\u001b[1;33m,\u001b[0m \u001b[0my_train\u001b[0m\u001b[1;33m,\u001b[0m \u001b[0my_test\u001b[0m \u001b[1;33m=\u001b[0m \u001b[0mtrain_test_split\u001b[0m\u001b[1;33m(\u001b[0m\u001b[0mX\u001b[0m\u001b[1;33m,\u001b[0m \u001b[0my\u001b[0m\u001b[1;33m,\u001b[0m \u001b[0mtest_size\u001b[0m \u001b[1;33m=\u001b[0m \u001b[1;36m0.25\u001b[0m\u001b[1;33m)\u001b[0m\u001b[1;33m\u001b[0m\u001b[1;33m\u001b[0m\u001b[0m\n\u001b[0;32m     26\u001b[0m \u001b[1;33m\u001b[0m\u001b[0m\n\u001b[1;32m---> 27\u001b[1;33m     \u001b[0mimputer\u001b[0m \u001b[1;33m=\u001b[0m \u001b[0mImputer\u001b[0m\u001b[1;33m(\u001b[0m\u001b[0mmissing_values\u001b[0m \u001b[1;33m=\u001b[0m \u001b[1;34m'NaN'\u001b[0m\u001b[1;33m,\u001b[0m \u001b[0mstrategy\u001b[0m \u001b[1;33m=\u001b[0m \u001b[1;34m'median'\u001b[0m\u001b[1;33m)\u001b[0m\u001b[1;33m\u001b[0m\u001b[1;33m\u001b[0m\u001b[0m\n\u001b[0m\u001b[0;32m     28\u001b[0m     \u001b[0mX_train\u001b[0m \u001b[1;33m=\u001b[0m \u001b[0mimputer\u001b[0m\u001b[1;33m.\u001b[0m\u001b[0mfit_transform\u001b[0m\u001b[1;33m(\u001b[0m\u001b[0mX_train\u001b[0m\u001b[1;33m)\u001b[0m\u001b[1;33m\u001b[0m\u001b[1;33m\u001b[0m\u001b[0m\n\u001b[0;32m     29\u001b[0m     \u001b[0mX_test\u001b[0m \u001b[1;33m=\u001b[0m \u001b[0mimputer\u001b[0m\u001b[1;33m.\u001b[0m\u001b[0mtransform\u001b[0m\u001b[1;33m(\u001b[0m\u001b[0mX_test\u001b[0m\u001b[1;33m)\u001b[0m\u001b[1;33m\u001b[0m\u001b[1;33m\u001b[0m\u001b[0m\n",
      "\u001b[1;31mNameError\u001b[0m: name 'Imputer' is not defined"
     ]
    }
   ],
   "source": [
    "X_train, X_test, y_train, y_test, missing_scores, feature_names = train_test_reg(new_data)\n",
    "print('Training Data Shape:', X_train.shape)\n",
    "print('Testing Data Shape:', X_test.shape)"
   ]
  },
  {
   "cell_type": "code",
   "execution_count": null,
   "id": "521c12fb",
   "metadata": {},
   "outputs": [],
   "source": []
  },
  {
   "cell_type": "code",
   "execution_count": null,
   "id": "b4d7fc85",
   "metadata": {},
   "outputs": [],
   "source": []
  },
  {
   "cell_type": "code",
   "execution_count": null,
   "id": "5ab050a5",
   "metadata": {},
   "outputs": [],
   "source": []
  },
  {
   "cell_type": "code",
   "execution_count": null,
   "id": "d312b6f4",
   "metadata": {},
   "outputs": [],
   "source": []
  }
 ],
 "metadata": {
  "kernelspec": {
   "display_name": "Python 3 (ipykernel)",
   "language": "python",
   "name": "python3"
  },
  "language_info": {
   "codemirror_mode": {
    "name": "ipython",
    "version": 3
   },
   "file_extension": ".py",
   "mimetype": "text/x-python",
   "name": "python",
   "nbconvert_exporter": "python",
   "pygments_lexer": "ipython3",
   "version": "3.8.11"
  }
 },
 "nbformat": 4,
 "nbformat_minor": 5
}
